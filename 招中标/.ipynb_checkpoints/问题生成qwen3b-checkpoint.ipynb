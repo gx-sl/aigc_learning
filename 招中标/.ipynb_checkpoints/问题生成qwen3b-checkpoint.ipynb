{
 "cells": [
  {
   "cell_type": "code",
   "execution_count": 1,
   "id": "6bc3c1bf-9c83-45ce-b3a0-0b574740734c",
   "metadata": {},
   "outputs": [],
   "source": [
    "import gradio as gr\n",
    "from typing import Optional, List, Any\n",
    "import torch\n",
    "from langchain.embeddings.huggingface import HuggingFaceEmbeddings\n",
    "from langchain.vectorstores import Chroma\n",
    "from langchain.llms.base import LLM\n",
    "from langchain.callbacks.manager import CallbackManagerForLLMRun\n",
    "from transformers import AutoTokenizer, AutoModelForCausalLM, GenerationConfig, TextIteratorStreamer, AutoProcessor\n",
    "# from modelscope import AutoTokenizer, AutoModelForCausalLM, GenerationConfig\n",
    "from langchain import HuggingFacePipeline\n",
    "from langchain.chains import RetrievalQA, ConversationalRetrievalChain\n",
    "from langchain.prompts import PromptTemplate, ChatPromptTemplate, MessagesPlaceholder\n",
    "from langchain_core.outputs.generation import GenerationChunk\n",
    "from torch import device\n",
    "import time\n",
    "from tqdm import tqdm\n",
    "import csv\n",
    "import pandas as pd\n",
    "import re\n",
    "import os\n",
    "import json\n",
    "from langchain.memory import ConversationBufferMemory\n",
    "from langchain_community.chat_message_histories import ChatMessageHistory\n",
    "from langchain.chains.history_aware_retriever import create_history_aware_retriever\n",
    "\n",
    "from langchain.chains.retrieval import create_retrieval_chain\n",
    "from langchain_core.runnables import RunnableWithMessageHistory\n",
    "from langchain.chains.combine_documents import create_stuff_documents_chain\n",
    "\n",
    "\n",
    "# from threading import Thread\n",
    "import warnings\n",
    "warnings.filterwarnings(\"ignore\")"
   ]
  },
  {
   "cell_type": "code",
   "execution_count": 2,
   "id": "bed6ecb3-e17d-40e5-8f61-1a50211f4ff5",
   "metadata": {},
   "outputs": [],
   "source": [
    "device = torch.device('cuda')"
   ]
  },
  {
   "cell_type": "code",
   "execution_count": 4,
   "id": "aba20a98-3ba9-463a-a641-2c902d81fb4e",
   "metadata": {},
   "outputs": [
    {
     "data": {
      "application/vnd.jupyter.widget-view+json": {
       "model_id": "8c8a2e4b95f246eb875a6484a3b6864f",
       "version_major": 2,
       "version_minor": 0
      },
      "text/plain": [
       "Loading checkpoint shards:   0%|          | 0/2 [00:00<?, ?it/s]"
      ]
     },
     "metadata": {},
     "output_type": "display_data"
    },
    {
     "name": "stdout",
     "output_type": "stream",
     "text": [
      "模型加载完成！\n"
     ]
    }
   ],
   "source": [
    "# 加载模型\n",
    "model_cache_path = r'autodl-tmp/Qwen/Qwen2___5-3B-Instruct'\n",
    "tokenizer = AutoTokenizer.from_pretrained(\n",
    "        pretrained_model_name_or_path=model_cache_path,\n",
    "        trust_remote_code=True,\n",
    "    )\n",
    "model = AutoModelForCausalLM.from_pretrained(\n",
    "        pretrained_model_name_or_path=model_cache_path,\n",
    "        # device_map='balanced_low_0',\n",
    "        trust_remote_code=True,\n",
    "        torch_dtype=torch.bfloat16,\n",
    "        temperature=0\n",
    "        ).to(device)\n",
    "model = model.eval()\n",
    "model.generation_config = GenerationConfig.from_pretrained(\n",
    "    model_cache_path,\n",
    "    trust_remote_code=True\n",
    ")\n",
    "# 可指定不同的生成长度、top_p等相关超参\n",
    "processor = AutoProcessor.from_pretrained(model_cache_path)\n",
    "print('模型加载完成！')\n"
   ]
  },
  {
   "cell_type": "code",
   "execution_count": null,
   "id": "3aa618b9-0edb-4ab5-b4df-9bebaeb0bd34",
   "metadata": {},
   "outputs": [],
   "source": []
  },
  {
   "cell_type": "code",
   "execution_count": 5,
   "id": "bead0953-e79c-4a31-87c8-1bf0e6dbbcdd",
   "metadata": {
    "scrolled": true
   },
   "outputs": [
    {
     "name": "stderr",
     "output_type": "stream",
     "text": [
      "0it [00:00, ?it/s]Starting from v4.46, the `logits` model output will have the same type as the model (except at train time, where it will always be FP32)\n"
     ]
    },
    {
     "name": "stdout",
     "output_type": "stream",
     "text": [
      "question: 投标人或竞买人出现违约情形，保证金如何处理？\n",
      "response 1. 当投标方或竞拍者存在违约行为时，保证金应该怎样处理？\n",
      "\n",
      "2. 如果投标者或竞买者违反了合同条款，保证金会如何处置？\n",
      "\n",
      "3. 在投标者或竞买者违约的情况下，保证金应该如何处理？\n",
      "\n",
      "4. 对于违约的投标方或竞买人，其缴纳的保证金该如何处理？\n",
      "\n",
      "5. 投标人或竞买人若出现违约，保证金应如何进行处理？\n"
     ]
    },
    {
     "name": "stderr",
     "output_type": "stream",
     "text": [
      "0it [00:08, ?it/s]\n"
     ]
    },
    {
     "ename": "KeyboardInterrupt",
     "evalue": "",
     "output_type": "error",
     "traceback": [
      "\u001b[0;31m---------------------------------------------------------------------------\u001b[0m",
      "\u001b[0;31mKeyboardInterrupt\u001b[0m                         Traceback (most recent call last)",
      "Cell \u001b[0;32mIn[5], line 41\u001b[0m\n\u001b[1;32m     39\u001b[0m \u001b[38;5;28mprint\u001b[39m(\u001b[38;5;124m'\u001b[39m\u001b[38;5;124mquestion:\u001b[39m\u001b[38;5;124m'\u001b[39m, question)\n\u001b[1;32m     40\u001b[0m \u001b[38;5;28mprint\u001b[39m(\u001b[38;5;124m'\u001b[39m\u001b[38;5;124mresponse\u001b[39m\u001b[38;5;124m'\u001b[39m, response)\n\u001b[0;32m---> 41\u001b[0m \u001b[43mtime\u001b[49m\u001b[38;5;241;43m.\u001b[39;49m\u001b[43msleep\u001b[49m\u001b[43m(\u001b[49m\u001b[38;5;241;43m1000\u001b[39;49m\u001b[43m)\u001b[49m\n\u001b[1;32m     42\u001b[0m \u001b[38;5;66;03m# body_ = response.split('识别结果：')[-1].replace(' ','').rsplit(',')\u001b[39;00m\n\u001b[1;32m     43\u001b[0m \u001b[38;5;66;03m# data_ = [question, body_, label]\u001b[39;00m\n\u001b[1;32m     44\u001b[0m \u001b[38;5;66;03m# with open(file, 'a', newline='', encoding='utf-8') as f:\u001b[39;00m\n\u001b[0;32m   (...)\u001b[0m\n\u001b[1;32m     49\u001b[0m \u001b[38;5;66;03m#     fw.writerow(data_)\u001b[39;00m\n\u001b[1;32m     50\u001b[0m \u001b[38;5;66;03m# print(f'问题：{question}', f'意图分类：{target}', f'标签真值：{label}')\u001b[39;00m\n",
      "\u001b[0;31mKeyboardInterrupt\u001b[0m: "
     ]
    }
   ],
   "source": [
    "\n",
    "datas = pd.read_excel('意图识别数据集.xlsx')\n",
    "questions = datas['问题']\n",
    "labels = datas['问题分类']\n",
    "# sublabel = set(labels.values.tolist())\n",
    "# file = '实体提取_改进.csv'\n",
    "for question, label in tqdm(zip(questions, labels), ncols=len(questions)) :\n",
    "    question = '投标人或竞买人出现违约情形，保证金如何处理？'\n",
    "    template = f\"\"\"\n",
    "            请分析用户输入的问题，理解用户的需求和句子的语法结构，从多个角度生成5个相似的问题。不用展示分析过程。\n",
    "\n",
    "            问题：{question}\n",
    "            \"\"\"\n",
    "            #问题主干\n",
    "            # 不存在实体输出格式：\n",
    "            #     实体提取: [],\n",
    "            #     意图分类:日常问题\n",
    "                # 实体提取和意图分类结果：\n",
    "\n",
    "    messages = [\n",
    "                # {'role':'system', 'content': template},\n",
    "                {'role':'user', 'content': template}\n",
    "                ]\n",
    "    # print('打印messages内容：', messages)\n",
    "    # print('打印messages类型：', type(messages))\n",
    "    text = tokenizer.apply_chat_template(\n",
    "        messages,\n",
    "        tokenize=False,\n",
    "        add_generation_prompt=True\n",
    "    )\n",
    "    model_inputs = tokenizer([text], return_tensors='pt').to(device)\n",
    "    generated_ids = model.generate(\n",
    "        **model_inputs,\n",
    "        max_new_tokens=512\n",
    "    )\n",
    "    generated_ids = [\n",
    "        output_ids[len(input_ids):] for input_ids, output_ids in zip(model_inputs.input_ids, generated_ids)\n",
    "    ]\n",
    "    response = tokenizer.batch_decode(generated_ids, skip_special_tokens=True)[0]\n",
    "    print('question:', question)\n",
    "    print('response', response)\n",
    "    time.sleep(1000)\n",
    "    # body_ = response.split('识别结果：')[-1].replace(' ','').rsplit(',')\n",
    "    # data_ = [question, body_, label]\n",
    "    # with open(file, 'a', newline='', encoding='utf-8') as f:\n",
    "    #     fw = csv.writer(f)\n",
    "    #     if not os.path.getsize(file):\n",
    "    #         header = ['问题', '提取的实体', '问题分类']\n",
    "    #         fw.writerow(header)\n",
    "    #     fw.writerow(data_)\n",
    "    # print(f'问题：{question}', f'意图分类：{target}', f'标签真值：{label}')\n"
   ]
  },
  {
   "cell_type": "code",
   "execution_count": 43,
   "id": "a224ff3b-eeda-4938-b299-fec1aec4cdab",
   "metadata": {},
   "outputs": [
    {
     "data": {
      "text/plain": [
       "{'商品数据', '招标中标信息', '政策内容', '政策文件信息', '日常问题'}"
      ]
     },
     "execution_count": 43,
     "metadata": {},
     "output_type": "execute_result"
    }
   ],
   "source": [
    "# example:\n",
    "#     问题：肌肉关节智能运动康复评估训练系统有哪些品牌？\n",
    "#     识别结果：肌肉关节智能运动康复评估训练系统（主语词），品牌（意图词）\n",
    "\n",
    "#     问题：流式细胞仪的供应商省份是哪里？\n",
    "#     识别结果：流式细胞仪（设备词），供应商省份（意图词）"
   ]
  },
  {
   "cell_type": "code",
   "execution_count": 147,
   "id": "eed72069-2882-4c17-9a0a-4b953e92c10a",
   "metadata": {},
   "outputs": [
    {
     "data": {
      "text/html": [
       "<div>\n",
       "<style scoped>\n",
       "    .dataframe tbody tr th:only-of-type {\n",
       "        vertical-align: middle;\n",
       "    }\n",
       "\n",
       "    .dataframe tbody tr th {\n",
       "        vertical-align: top;\n",
       "    }\n",
       "\n",
       "    .dataframe thead th {\n",
       "        text-align: right;\n",
       "    }\n",
       "</style>\n",
       "<table border=\"1\" class=\"dataframe\">\n",
       "  <thead>\n",
       "    <tr style=\"text-align: right;\">\n",
       "      <th></th>\n",
       "      <th>0</th>\n",
       "    </tr>\n",
       "  </thead>\n",
       "  <tbody>\n",
       "    <tr>\n",
       "      <th>0</th>\n",
       "      <td>全自动发药机的供应商地址在哪里？</td>\n",
       "    </tr>\n",
       "    <tr>\n",
       "      <th>1</th>\n",
       "      <td>日常问题</td>\n",
       "    </tr>\n",
       "    <tr>\n",
       "      <th>2</th>\n",
       "      <td>商品数据</td>\n",
       "    </tr>\n",
       "    <tr>\n",
       "      <th>3</th>\n",
       "      <td>[全自动发药机,  供应商,  地址]</td>\n",
       "    </tr>\n",
       "  </tbody>\n",
       "</table>\n",
       "</div>"
      ],
      "text/plain": [
       "                     0\n",
       "0     全自动发药机的供应商地址在哪里？\n",
       "1                 日常问题\n",
       "2                 商品数据\n",
       "3  [全自动发药机,  供应商,  地址]"
      ]
     },
     "execution_count": 147,
     "metadata": {},
     "output_type": "execute_result"
    }
   ],
   "source": [
    "data_"
   ]
  },
  {
   "cell_type": "code",
   "execution_count": null,
   "id": "f92fa410-2b6d-47c6-a9f6-198fc53416d4",
   "metadata": {},
   "outputs": [],
   "source": [
    "template = f\"\"\"\n",
    "            你是一名实体提取和意图识别分类领域专家，请严格遵循以下任务和工作流程的指示输出结果。\n",
    "            \n",
    "            任务：\n",
    "            1-判断用户问题是否存在实体。\n",
    "            2-抽取用户问题中可能表达意图的实体。\n",
    "            3-根据实体与给出的意图标签进行判定该用户问题的意图。\n",
    "            \n",
    "            工作流程：\n",
    "            1-先判断是否存在实体，不存在实体则实体提取为[]，意图分类为日常问题，存在实体则继续以下工作流程，并通过存在实体输出格式输出。\n",
    "            2-实体提取：请从用户问题中提取出所有实体，多个实体请用逗号分隔。\n",
    "            3-意图分类：请根据第2点提取的实体以及意图标签，进行意图识别并分类用户问题。\n",
    "\n",
    "            输出格式：\n",
    "                实体提取：实体\n",
    "                意图分类：意图标签\n",
    "\n",
    "\n",
    "            问题：{question}。\n",
    "\n",
    "            对比实体提取的结果，筛掉问题中不存在的、重复的实体。实体与实体之间是否用逗号分隔，请矫正。\n",
    "\n",
    "            请根据意图分类结果与用户问题进行分析，再次根据提取的实体对用户问题给出正确的意图标签。\n",
    "            \n",
    "            每个问题只能分为一类意图，矫正后的意图分类结果替换前面的分类结果。\n",
    "            \n",
    "            请根据生成的结果与要求的输出格式对比，存在格式问题则进行矫正后输出。\n",
    "\n",
    "            意图标签：商品数据，招标中标信息，政策内容，政策文件信息，日常问题。\n",
    "\n",
    "            实体提取和意图分类结果：\"\"\""
   ]
  },
  {
   "cell_type": "code",
   "execution_count": null,
   "id": "9b8305ac-7a27-459f-aac0-a1c643e7d364",
   "metadata": {},
   "outputs": [],
   "source": [
    "template = f\"\"\"\n",
    "            你是一名实体提取领域专家，请严格遵循以下任务和工作流程的指示输出结果。\n",
    "            \n",
    "            任务：\n",
    "            1-判断上下文是否存在实体。\n",
    "            2-抽取上下文中表达意图的所有实体。\n",
    "            \n",
    "            工作流程：\n",
    "            1-首先对输入文本进行分词。\n",
    "            1-其次判断每个分词是否为实体。\n",
    "            2-判断结果表明所有分词不是实体则直接输出实体提取：''。\n",
    "            3-判断每个分词，存在至少一个实体的，则根据输出格式提取并输出。\n",
    "            4-请从上下文中提取出所有实体，多个实体请用逗号分隔。\n",
    "\n",
    "            对比实体提取的结果，筛掉上下文中不存在的、重复的实体。实体与实体之间是否用逗号分隔，请矫正。\n",
    "\n",
    "            请根据生成的结果与要求的输出格式对比，存在格式问题则进行矫正后输出。\n",
    "\n",
    "            输出格式：\n",
    "                实体提取：实体\n",
    "\n",
    "            请注意输出结果严格按照输出格式进行，不需要输出分析过程。\n",
    "\n",
    "            上下文：{question}\"\"\""
   ]
  },
  {
   "cell_type": "code",
   "execution_count": null,
   "id": "26930c9d-7215-49df-a7c7-a11475f651d0",
   "metadata": {},
   "outputs": [],
   "source": [
    "template = f\"\"\"\n",
    "            请根据问题进行实体提取，尽可能提取所有实体，按照格式输出。\n",
    "            请检查提取的实体和问题，所有实体是否占据问题较小篇幅，是则进一步辨别实体并提取。\n",
    "            可能存在较长实体，请提取出来。\n",
    "            请将产品名称、产品系统等实体也提取出来。按照格式输出。\n",
    "            提取出的实体存在重复的请筛掉。\n",
    "            请将产品名称、产品系统等实体也提取出来。按照格式输出。\n",
    "\n",
    "            输出格式：\n",
    "                实体提取：实体，实体，\n",
    "\n",
    "            问题：{question}\n",
    "            \"\"\""
   ]
  }
 ],
 "metadata": {
  "kernelspec": {
   "display_name": "Python 3 (ipykernel)",
   "language": "python",
   "name": "python3"
  },
  "language_info": {
   "codemirror_mode": {
    "name": "ipython",
    "version": 3
   },
   "file_extension": ".py",
   "mimetype": "text/x-python",
   "name": "python",
   "nbconvert_exporter": "python",
   "pygments_lexer": "ipython3",
   "version": "3.10.8"
  }
 },
 "nbformat": 4,
 "nbformat_minor": 5
}
