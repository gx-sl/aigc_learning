{
 "cells": [
  {
   "cell_type": "code",
   "execution_count": 1,
   "id": "28022c5a-fd55-4fea-b17c-10f6fec1ba32",
   "metadata": {},
   "outputs": [],
   "source": [
    "import gradio as gr\n",
    "from typing import Optional, List, Any\n",
    "import torch\n",
    "from langchain.embeddings.huggingface import HuggingFaceEmbeddings\n",
    "from langchain.vectorstores import Chroma\n",
    "from langchain.llms.base import LLM\n",
    "from langchain.callbacks.manager import CallbackManagerForLLMRun\n",
    "from transformers import AutoTokenizer, AutoModelForCausalLM, GenerationConfig, TextIteratorStreamer, AutoProcessor\n",
    "# from modelscope import AutoTokenizer, AutoModelForCausalLM, GenerationConfig\n",
    "from langchain import HuggingFacePipeline\n",
    "from langchain.chains import RetrievalQA, ConversationalRetrievalChain\n",
    "from langchain.prompts import PromptTemplate, ChatPromptTemplate, MessagesPlaceholder\n",
    "from langchain_core.outputs.generation import GenerationChunk\n",
    "from torch import device\n",
    "import time\n",
    "from langchain.memory import ConversationBufferMemory\n",
    "from langchain_community.chat_message_histories import ChatMessageHistory\n",
    "from langchain.chains.history_aware_retriever import create_history_aware_retriever\n",
    "\n",
    "from langchain.chains.retrieval import create_retrieval_chain\n",
    "from langchain_core.runnables import RunnableWithMessageHistory\n",
    "from langchain.chains.combine_documents import create_stuff_documents_chain\n",
    "\n",
    "\n",
    "# from threading import Thread\n",
    "import warnings\n",
    "warnings.filterwarnings(\"ignore\")"
   ]
  },
  {
   "cell_type": "code",
   "execution_count": 4,
   "id": "3b5e73a2-e7f6-4d00-b3bb-724b3f65ee6b",
   "metadata": {},
   "outputs": [
    {
     "name": "stdout",
     "output_type": "stream",
     "text": [
      "[Document(metadata={'infosource': '信息来源：国家', 'time': '发布时间：2020-11-12', 'title': '【产权交易】上海联合产权交易所有限公司企业国有产权转让登记受让意向操作细则（沪联产交〔2020〕45号)'}, page_content='第十三条 登记的意向受让方不符合信息披露公告中的受让方资格条件，或提出带有附加条件的受让要求，或提交的材料不符合齐全性和规范性要求的，联交所以书面形式告知意向受让方。意向受让方应当在收到通知的次日起2个工作日内按要求做出调整。第十四条 联交所在信息披露期满后5个工作日内，就意向受让方是否符合受让条件以《受让资格反馈函》反馈至转让方。第十五条 转让方应当在收到联交所《受让资格反馈函》次日起5个工作日内予以书面回复，如认为意向受让方不符合公布的受让方资格条件的，应当向联交所提出书面意见，说明理由并提交相关证明材料。转让方逾期未予书面回复的，视为同意联交所作出的资格确认意见。第十六条 转让方与联交所对意向受让方资格确认意见不一致的，应当就争议事项征询转让行为批准单位或国资监管机构意见，联交所根据转让行为批准单位或国资监管机构的书面意见确定意向受让方是否符合受让条件。第十七条 经征询转让方意见后联交所向意向受让方出具交易安排通知函件或《受让资格确认结果通知》，并同时抄送转让方。第十八条 意向受让方应当在交易安排通知函件规定的时限内，将交易保证金交纳至联交所指定账户。意向受让方按规定交纳交易保证金后获得资格确认。意向受让方未按规定交纳保证金的，视为放弃受让资格。第十九条 未获得资格确认的意向受让方如有异议，在收到《受让资格确认结果通知》次日起2个工作日内可通过联交所向转让方提出书面意见，说明提出异议的理由并提交相关证明材料。意向受让方的异议不影响相关产权交易项目的进行。第二十条 转让项目选择开放式报价方式的，按照联交所开放式报价相关规定执行。第二十一条 本细则自发布之日起施行。上海联合产权交易所有限公司2020年7月21日'), Document(metadata={'infosource': '信息来源：上海市', 'time': '发布时间：2020-12-22', 'title': '上海市规划和国土资源管理局关于印发《上海市国有建设用地使用权出让预申请管理办法》及《上海市国有建设用地使用权出让预申请实施细则》的通知'}, page_content='出让人可根据相关建议和实际情况，回复意向用地人，作为进一步完善出让条件的依据。出让公告发布时，已明确的交易条件应随出让文件一并发布。八、意向用地人均可根据地块预申请公告和文件的相关规定，向出让人和交易中心提出报名申请，并承诺愿意按照相关要求参与后续出让活动。预申请可不设保证金，若确需设置预申请保证金的，可以保函形式设定。九、预申请公告期满后，交易中心将在网上发布预申请结果公告，终止预申请活动。预申请结果公告应包含以下内容：1.预申请咨询人数；2.有效预申请人数（涉及招标的除外）；3.有效预申请人受理编号（涉及招标的除外）；4.后续出让活动安排；5.其他重要提示。十、出让人在预申请结果公告中可明确有效预申请人的退出机制。退出预申请的有效预申请人一般在预申请结果公告发布后5个工作日内，完成退出手续。'), Document(metadata={'infosource': '信息来源：国家', 'time': '发布时间：2020-11-12', 'title': '【产权交易】上海联合产权交易所有限公司企业国有产权转让登记受让意向操作细则（沪联产交〔2020〕45号)'}, page_content='第九条 信息披露公告未明确表示不接受联合受让的，多个意向受让方可组成联合受让体，向联交所提交受让申请，参与受让。联合受让体的《产权受让申请书》中应载明各成员的受让比例。第十条 信息披露公告中设定受让方资格条件的，联合受让体各成员均需满足信息披露公告中的受让方资格条件，信息披露公告明确联合体其中一方满足受让资格条件即可的除外。第十一条 联合受让体应提交《联合受让协议》，《联合受让协议》主要包括以下内容：（一）组成联合受让体的各方主体信息；（二）联合受让体拟参与受让的项目；（三）联合体内部各成员关于受让标的的分配比例及价格；（四）确定联合受让代表，授权其代表联合受让体办理受让事宜；（五）联合受让体各成员间的权利义务；（六）其他需要在联合受让协议中约定的事项。各成员应当在《联合受让协议》中约定各方对受让方所有义务承担连带责任。第十二条 联交所按照信息披露公告内容审核意向受让方受让资格，主要有以下内容：（一）意向受让方是否对其提供材料的真实性、完整性、准确性以及遵守市场规则作出承诺；（二）意向受让方的主体资格是否符合信息披露公告中的受让方资格条件的相关要求；（三）意向受让方是否已依法履行必要的内部决策程序或批准程序；（四）意向受让方是否符合信息披露公告中要求的其他条件；（五）管理层及其关联方参与受让的，是否符合法律法规相关要求；（六）受托机构是否对材料进行核实，核实意见是否明确具体。未经信息发布的受让方资格条件，不得作为确认意向受让方受让资格的依据。第十三条 登记的意向受让方不符合信息披露公告中的受让方资格条件，或提出带有附加条件的受让要求，或提交的材料不符合齐全性和规范性要求的，联交所以书面形式告知意向受让方。意向受让方应当在收到通知的次日起2个工作日内按要求做出调整。第十四条 联交所在信息披露期满后5个工作日内，就意向受让方是否符合受让条件以《受让资格反馈函》反馈至转让方。'), Document(metadata={'infosource': '信息来源：国家', 'time': '发布时间：2020-11-18', 'title': '金融企业国有资产转让管理办法'}, page_content='在不违反相关监督管理要求和公平竞争原则下，转让方可以对意向受让方的资质、商业信誉、行业准入、资产规模、经营情况、财务状况、管理能力等提出具体要求。第二十条 在产权交易过程中，首次挂牌价格不得低于经核准或者备案的资产评估结果。首次挂牌未能征集到意向受让方的，转让方可以根据转让标的企业情况确定新的挂牌价格并重新公告。如新的挂牌价格低于资产评估结果的90%，应当重新报批。第二十一条 经公开征集，产生2个以上（含2个）意向受让方时，转让方应当会同产权交易机构共同对意向受让方进行资格审核，根据转让标的企业的具体情况采取拍卖、招投标或者国家规定的其他公开竞价方式实施产权交易。采取拍卖方式转让非上市企业产权的，应当按照《中华人民共和国拍卖法》及其他有关规定组织实施。采取招投标方式转让非上市企业产权的，应当按照《中华人民共和国招标投标法》及其他有关规定组织实施。第二十二条 经产权交易机构公开征集只产生1个符合条件的意向受让方时，产权转让可以采取场内协议转让方式进行，但转让价格不得低于挂牌价格。采取场内协议转让方式的，转让方应当与受让方进行充分协商，依法妥善处理转让中所涉及的相关事项后，签订产权转让协议（合同，下同）。第二十三条 确定受让方后，转让方应当与受让方签订产权转让协议。转让协议应当包括下列内容：（一）转让与受让双方的名称与住所；（二）转让标的企业产权的基本情况；（三）转让方式、转让价格、价款支付时间和方式及付款条件；（四）产权交割事项；（五）转让涉及的有关税费负担；（六）协议争议的解决方式；（七）协议各方的违约责任；（八）协议变更和解除的条件；（九）转让和受让双方认为必要的其他条款。第二十四条 转让方应当按照产权转让协议的约定及时收取产权转让的全部价款，转让价款原则上应当采取货币性资产一次性收取。如金额较大、一次付清确有困难的，可以约定分期付款方式，但分期付款期限不得超过1年。')]\n"
     ]
    }
   ],
   "source": [
    "persist_directory = r'vectordb/chroma/m3e-base'\n",
    "embedding_path = r\"autodl-tmp/embedding_model/AI-ModelScope/m3e-base\"\n",
    "embeddings = HuggingFaceEmbeddings(model_name=embedding_path)\n",
    "\n",
    "vectordb = Chroma(\n",
    "    persist_directory=persist_directory,\n",
    "    embedding_function=embeddings\n",
    ")\n",
    "retriever = vectordb.as_retriever()\n",
    "res = retriever.get_relevant_documents(\"意向受让方在登记受让意向时需要满足哪些条件？\")\n",
    "print(res)"
   ]
  },
  {
   "cell_type": "code",
   "execution_count": null,
   "id": "1445e223-48ad-4fdf-90c5-4c92a2c4a63c",
   "metadata": {},
   "outputs": [],
   "source": []
  }
 ],
 "metadata": {
  "kernelspec": {
   "display_name": "Python 3 (ipykernel)",
   "language": "python",
   "name": "python3"
  },
  "language_info": {
   "codemirror_mode": {
    "name": "ipython",
    "version": 3
   },
   "file_extension": ".py",
   "mimetype": "text/x-python",
   "name": "python",
   "nbconvert_exporter": "python",
   "pygments_lexer": "ipython3",
   "version": "3.10.8"
  }
 },
 "nbformat": 4,
 "nbformat_minor": 5
}
