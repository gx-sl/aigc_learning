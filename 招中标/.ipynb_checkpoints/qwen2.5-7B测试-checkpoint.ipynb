{
 "cells": [
  {
   "cell_type": "code",
   "execution_count": 1,
   "id": "70c0893c-7d39-47a8-ab39-21513b7d5f1f",
   "metadata": {
    "tags": []
   },
   "outputs": [
    {
     "name": "stderr",
     "output_type": "stream",
     "text": [
      "/root/miniconda3/lib/python3.8/site-packages/torchvision/datapoints/__init__.py:12: UserWarning: The torchvision.datapoints and torchvision.transforms.v2 namespaces are still Beta. While we do not expect major breaking changes, some APIs may still change according to user feedback. Please submit any feedback you may have in this issue: https://github.com/pytorch/vision/issues/6753, and you can also check out https://github.com/pytorch/vision/issues/7319 to learn more about the APIs that we suspect might involve future changes. You can silence this warning by calling torchvision.disable_beta_transforms_warning().\n",
      "  warnings.warn(_BETA_TRANSFORMS_WARNING)\n",
      "/root/miniconda3/lib/python3.8/site-packages/torchvision/transforms/v2/__init__.py:54: UserWarning: The torchvision.datapoints and torchvision.transforms.v2 namespaces are still Beta. While we do not expect major breaking changes, some APIs may still change according to user feedback. Please submit any feedback you may have in this issue: https://github.com/pytorch/vision/issues/6753, and you can also check out https://github.com/pytorch/vision/issues/7319 to learn more about the APIs that we suspect might involve future changes. You can silence this warning by calling torchvision.disable_beta_transforms_warning().\n",
      "  warnings.warn(_BETA_TRANSFORMS_WARNING)\n"
     ]
    }
   ],
   "source": [
    "import gradio as gr\n",
    "from typing import Optional, List, Any\n",
    "import torch\n",
    "from langchain.embeddings.huggingface import HuggingFaceEmbeddings\n",
    "from langchain.vectorstores import Chroma\n",
    "from langchain.llms.base import LLM\n",
    "from langchain.callbacks.manager import CallbackManagerForLLMRun\n",
    "from transformers import AutoTokenizer, AutoModelForCausalLM, GenerationConfig, TextIteratorStreamer, AutoProcessor\n",
    "# from modelscope import AutoTokenizer, AutoModelForCausalLM, GenerationConfig\n",
    "from langchain import HuggingFacePipeline\n",
    "from langchain.chains import RetrievalQA, ConversationalRetrievalChain\n",
    "from langchain.prompts import PromptTemplate, ChatPromptTemplate, MessagesPlaceholder\n",
    "from langchain_core.outputs.generation import GenerationChunk\n",
    "from torch import device\n",
    "import time\n",
    "from langchain.memory import ConversationBufferMemory\n",
    "from langchain_community.chat_message_histories import ChatMessageHistory\n",
    "from langchain.chains.history_aware_retriever import create_history_aware_retriever\n",
    "\n",
    "from langchain.chains.retrieval import create_retrieval_chain\n",
    "from langchain_core.runnables import RunnableWithMessageHistory\n",
    "from langchain.chains.combine_documents import create_stuff_documents_chain\n",
    "\n",
    "\n",
    "from threading import Thread\n",
    "import warnings\n",
    "warnings.filterwarnings(\"ignore\")"
   ]
  },
  {
   "cell_type": "code",
   "execution_count": 2,
   "id": "b13559ff-1bdf-4e20-964f-41b86af3a01e",
   "metadata": {
    "tags": []
   },
   "outputs": [
    {
     "name": "stderr",
     "output_type": "stream",
     "text": [
      "2024-11-02 11:38:48,213 - modelscope - INFO - PyTorch version 2.0.0+cu118 Found.\n",
      "2024-11-02 11:38:48,214 - modelscope - INFO - Loading ast index from /root/.cache/modelscope/ast_indexer\n",
      "2024-11-02 11:38:48,290 - modelscope - INFO - Loading done! Current index file version is 1.9.5, with md5 519743e9af8b874f864c8480530f7cdb and a total number of 945 components indexed\n"
     ]
    }
   ],
   "source": [
    "from modelscope import AutoModelForCausalLM, AutoTokenizer\n"
   ]
  },
  {
   "cell_type": "code",
   "execution_count": 3,
   "id": "51405cb7-798c-43dd-ad8e-c3159da7ae7d",
   "metadata": {
    "tags": []
   },
   "outputs": [],
   "source": [
    "# 构建模型\n",
    "class QianWenLLM(LLM):\n",
    "    # 基于本地的QianWen7B-Chat模型自定义LLM类\n",
    "    tokenizer: AutoTokenizer = None\n",
    "    model: AutoModelForCausalLM = None\n",
    "    processor: AutoProcessor = None\n",
    "    \n",
    "    def __init__(self, model_dir: str):\n",
    "        # 从本地加载模型\n",
    "        super().__init__()\n",
    "        print('正从本地加载模型。。。。。')\n",
    "\n",
    "        self.tokenizer = AutoTokenizer.from_pretrained(\n",
    "            pretrained_model_name_or_path=model_dir,\n",
    "            trust_remote_code=True,\n",
    "        )\n",
    "        self.model = AutoModelForCausalLM.from_pretrained(\n",
    "            pretrained_model_name_or_path=model_dir,\n",
    "            device_map='auto',\n",
    "            trust_remote_code=True,\n",
    "            # torch_dtype=torch.bfloat16,\n",
    "            # temperature=0.1\n",
    "            )\n",
    "        self.model = self.model.eval()\n",
    "        self.model.generation_config = GenerationConfig.from_pretrained(\n",
    "            model_dir,\n",
    "            trust_remote_code=True\n",
    "        )\n",
    "        # 可指定不同的生成长度、top_p等相关超参\n",
    "        self.processor = AutoProcessor.from_pretrained(model_dir)\n",
    "        print('模型加载完成！')\n",
    "\n",
    "    def _call(self, messages,\n",
    "              stop: Optional[List[str]] = None,\n",
    "              run_manager: Optional[CallbackManagerForLLMRun] = None,\n",
    "              **kwargs: Any):\n",
    "        # response, history = self.model.chat(self.tokenizer, prompt, history=[])\n",
    "        # print('打印messages内容：', messages)\n",
    "        system_info =  messages.split('System:')[-1].split('Human:')[0].strip()\n",
    "        human_info =  messages.split('Human:')[-1].strip()\n",
    "        contextualize_question_prompt = [\n",
    "            {'role':'system', 'content': system_info},\n",
    "            {'role':'user', 'content': human_info}\n",
    "            ]\n",
    "        # print('打印contextualize_question_prompt内容：', contextualize_question_prompt)\n",
    "        text = self.tokenizer.apply_chat_template(\n",
    "            contextualize_question_prompt,\n",
    "            tokenize=False,\n",
    "            add_generation_prompt=True\n",
    "        )\n",
    "        model_inputs = self.tokenizer([text], return_tensors='pt').to('cpu')\n",
    "        generated_ids = self.model.generate(\n",
    "            **model_inputs,\n",
    "            max_new_tokens=512\n",
    "        )\n",
    "        generated_ids = [\n",
    "            output_ids[len(input_ids):] for input_ids, output_ids in zip(model_inputs.input_ids, generated_ids)\n",
    "        ]\n",
    "\n",
    "        response = self.tokenizer.batch_decode(generated_ids, skip_special_tokens=True)[0]\n",
    "        print('模型响应结果：', response)\n",
    "        \n",
    "        return response\n",
    "        \n",
    "    @property\n",
    "    def _llm_type(self) -> str:\n",
    "        return \"QwenLM\""
   ]
  },
  {
   "cell_type": "code",
   "execution_count": null,
   "id": "93226ed5-ce21-42c7-b391-0ad83a7b7c0e",
   "metadata": {
    "tags": []
   },
   "outputs": [],
   "source": []
  },
  {
   "cell_type": "code",
   "execution_count": null,
   "id": "a0133690-c4d4-4164-9058-e58246406dca",
   "metadata": {
    "tags": []
   },
   "outputs": [],
   "source": []
  },
  {
   "cell_type": "code",
   "execution_count": 4,
   "id": "c3111c93-45a8-45dd-b7e2-b072d5f1070c",
   "metadata": {
    "tags": []
   },
   "outputs": [],
   "source": [
    "# 构建改写问题proompt\n",
    "def contextualize_question_prompt():\n",
    "    system_prompt = \"\"\"\\\n",
    "    请根据聊天历史和最后用户的问题，改写用户最终剔除的问题。\n",
    "    你只需要改写用户最终的问题，请不要回答问题。\n",
    "    没有聊天历史则将用户问题直接返回，有聊天历史则改写。\n",
    "    请用中文回答：\n",
    "    \"\"\"\n",
    "    contextualize_question_prompt = ChatPromptTemplate(\n",
    "    [\n",
    "    ('system', system_prompt),\n",
    "        MessagesPlaceholder('chat_history'),\n",
    "        ('human', '{input}')\n",
    "    ]\n",
    "    )\n",
    "    # contextualize_question_prompt = [\n",
    "    # {'role':'system', 'content': system_prompt},\n",
    "    # MessagesPlaceholder('chat_history'),\n",
    "    # {'role':'user', 'content':'{input}'}\n",
    "    # ]\n",
    "    return contextualize_question_prompt\n",
    "\n",
    "# 构建正常问答prompt\n",
    "def answer_prompt():\n",
    "    # system_prompt = \"\"\"\\\n",
    "    # 首先请根据用户提出的问题分类该问题是政策问题还是日常问题。政策问题分类为一号，日常问题分类为二号。\n",
    "    # 其次根据分类结果利用下面的方式对问题给出回答。\n",
    "    # 一号：使用上下文来回答最后的问题。如果你不知道答案，就说你不知道，不要试图编造答案，{context}。\n",
    "    # 二号：仅根据用户提出的问题独立回答，不使用任何提供的其他信息。\n",
    "    # 最后结果输出格式为：\n",
    "    # 一号：回答;\n",
    "    # 二号：回答。\n",
    "    # \"\"\"\n",
    "    \n",
    "    system_prompt = \"\"\"\\\n",
    "    使用输入的文本信息来回答用户的问题。如果你不知道答案，就说你不知道，不要试图编造答案。\n",
    "    输入的文本：{context}\n",
    "    请用中文回答：\n",
    "    \"\"\"\n",
    "    # 问题: {question}\n",
    "    # 有用的回答:\n",
    "    \n",
    "    qa_prompt = ChatPromptTemplate(\n",
    "    [\n",
    "    ('system', system_prompt),\n",
    "        MessagesPlaceholder('chat_history'),\n",
    "        ('human', '{input}')\n",
    "    ]\n",
    "    )\n",
    "    # qa_prompt = [\n",
    "    # {'role':'system', 'content': system_prompt},\n",
    "    # MessagesPlaceholder('chat_history'),\n",
    "    # {'role':'user', 'content':'{input}'}\n",
    "    # ]\n",
    "    \n",
    "\n",
    "    #     [\n",
    "    # ('system', system_prompt),\n",
    "    #     MessagesPlaceholder('chat_history'),\n",
    "    #     ('human', '{input}')\n",
    "    # ]\n",
    "    return qa_prompt\n",
    "\n",
    "# 构造存储函数\n",
    "def get_session_history(session_id: str):\n",
    "    if session_id not in store:\n",
    "        store[session_id] = ChatMessageHistory()\n",
    "    return store[session_id]"
   ]
  },
  {
   "cell_type": "code",
   "execution_count": 5,
   "id": "f795173c-afd5-412e-a723-42d263ef7e86",
   "metadata": {
    "tags": []
   },
   "outputs": [],
   "source": [
    "def init_db():\n",
    "    persist_directory = r'vectordb/chroma'\n",
    "    embeddings_model_cache_path = r'autodl-tmp/embedding_model/Ceceliachenen/paraphrase-multilingual-MiniLM-L12-v2'\n",
    "    # 加载词向量模型\n",
    "    embeddings = HuggingFaceEmbeddings(\n",
    "        model_name=embeddings_model_cache_path)\n",
    "    # 加载缓存知识库\n",
    "    vectordb = Chroma(\n",
    "        persist_directory=persist_directory,\n",
    "        embedding_function=embeddings,\n",
    "    )\n",
    "    return vectordb"
   ]
  },
  {
   "cell_type": "code",
   "execution_count": 6,
   "id": "42c84d18-b3d1-40b2-8c10-2c441b0dc57b",
   "metadata": {
    "tags": []
   },
   "outputs": [],
   "source": [
    "def init_model():\n",
    "    # 初始化模型\n",
    "    # model_cache_path = r'autodl-tmp/Qwen/Qwen-7B-Chat'\n",
    "    # model_cache_path = r'autodl-tmp/Qwen/Qwen2.5-7B-Instruct'\n",
    "    model_dir = r'autodl-tmp/Qwen/Qwen2.5-7B-Instruct'\n",
    "    llm = QianWenLLM(model_dir)\n",
    "    return llm"
   ]
  },
  {
   "cell_type": "code",
   "execution_count": 7,
   "id": "670aa3ca-78e0-4a3e-a252-c45060dd0885",
   "metadata": {
    "tags": []
   },
   "outputs": [],
   "source": [
    "def qa_chain(llm, vectordb, get_session_history):\n",
    "    \"\"\"\n",
    "    构建问答链\n",
    "    :param persist_directory: 知识库本地保存路径，这里初始化政策信息知识库\n",
    "    :return: 返回调用LLM回答\n",
    "    \"\"\"\n",
    "    # 因为历史记录问题进行问题改写再传到模型\n",
    "    question_prompt = contextualize_question_prompt()\n",
    "    # 历史对话巡回器\n",
    "    history_aware_retriever = create_history_aware_retriever(llm, \n",
    "                                                            vectordb.as_retriever(), \n",
    "                                                             question_prompt)\n",
    "    qa_prompt = answer_prompt()\n",
    "    qa_chain = create_stuff_documents_chain(llm, qa_prompt)\n",
    "    rag_chain = create_retrieval_chain(history_aware_retriever, qa_chain)\n",
    "    \n",
    "    # 包装\n",
    "    conversational_rag_chain = RunnableWithMessageHistory(\n",
    "        runnable=rag_chain,\n",
    "        get_session_history=get_session_history,\n",
    "        input_messages_key='input',\n",
    "        history_messages_key='chat_history',\n",
    "        output_messages_key='answer'\n",
    "    )\n",
    "\n",
    "    return conversational_rag_chain\n"
   ]
  },
  {
   "cell_type": "code",
   "execution_count": null,
   "id": "3c246a97-5847-41f3-90e1-5895ce38a6d9",
   "metadata": {
    "tags": []
   },
   "outputs": [
    {
     "name": "stdout",
     "output_type": "stream",
     "text": [
      "正从本地加载模型。。。。。\n"
     ]
    },
    {
     "data": {
      "application/vnd.jupyter.widget-view+json": {
       "model_id": "6d7abcba01784f03a03a64fd47d66d3a",
       "version_major": 2,
       "version_minor": 0
      },
      "text/plain": [
       "Loading checkpoint shards:   0%|          | 0/4 [00:00<?, ?it/s]"
      ]
     },
     "metadata": {},
     "output_type": "display_data"
    }
   ],
   "source": [
    "store = {}\n",
    "model = init_model()\n",
    "db = init_db()"
   ]
  },
  {
   "cell_type": "code",
   "execution_count": null,
   "id": "4867ab08-b405-4cfb-936b-a9f7e15c4995",
   "metadata": {
    "tags": []
   },
   "outputs": [],
   "source": [
    "response = qa_chain(\n",
    "                model,  \n",
    "                db,\n",
    "                get_session_history).invoke(\n",
    "                    {'input': '如果投标文件解密失败，招标人是否有义务提供补救方案？'},\n",
    "                    config={'configurable':{'session_id':'test123'}}\n",
    "                    )['answer']\n",
    "response"
   ]
  },
  {
   "cell_type": "code",
   "execution_count": null,
   "id": "d6ee3caa-e136-4482-bd34-04dcf42bce7e",
   "metadata": {
    "tags": []
   },
   "outputs": [],
   "source": []
  },
  {
   "cell_type": "code",
   "execution_count": null,
   "id": "9f5c89b1-4093-411c-8ebc-bfe31c8992dc",
   "metadata": {},
   "outputs": [],
   "source": []
  },
  {
   "cell_type": "code",
   "execution_count": null,
   "id": "67683f73-4e29-4dad-99ac-ddbaf8a199d5",
   "metadata": {},
   "outputs": [],
   "source": []
  },
  {
   "cell_type": "code",
   "execution_count": null,
   "id": "c54825f4-5d57-4d9f-96a6-831b8407f56f",
   "metadata": {},
   "outputs": [],
   "source": [
    "chat_history_ = ''\n",
    "question_prompt = f\"\"\"\n",
    "                请根据聊天历史和最后用户的问题，改写用户最终提出的问题。\n",
    "                你只需要改写用户最终的问题，请不要回答问题。\n",
    "                没有聊天历史则将用户问题直接返回，有聊天历史则改写。\n",
    "                聊天历史：{chat_history_}\n",
    "                \"\"\"\n",
    "\n",
    "question_messages = [\n",
    "{'role':'system', 'content': question_prompt},\n",
    "{'role':'user', 'content':prompt}]\n",
    "print(llm(question_messages))"
   ]
  },
  {
   "cell_type": "code",
   "execution_count": null,
   "id": "37c9ece7-31fc-4e31-93e6-faad5fdc3a6c",
   "metadata": {},
   "outputs": [],
   "source": [
    "prompt = \"2023年7月，中国航天科技集团公司五院研制的长征十二号运载火箭在酒泉卫星发射中心成功发射，将一颗北斗导航卫星送入预定轨道。\"\n",
    "sys='''你是一名实体提取和意图识别分类领域专家，请严格遵循以下任务和工作流程的指示输出结果。\n",
    "\n",
    "            任务：\n",
    "            1-判断用户问题是否存在实体。\n",
    "            2-抽取用户问题所有实体。\n",
    "            3-根据实体与给出的意图标签进行判定该用户问题的意图。\n",
    "\n",
    "            意图标签：政策知识，日常知识，招中标知识\n",
    "\n",
    "            工作流程：\n",
    "            1.-先判断是否存在实体，不存在实体则直接根据不存在实体输出格式输出，存在实体则继续以下工作流程，并通过存在实体输出格式输出。\n",
    "            2-实体提取：请从用户问题中提取出所有实体。\n",
    "            3-意图分类：请根据第2点提取的实体以及意图标签，进行意图识别并分类用户问题。\n",
    "\n",
    "            不存在实体输出格式：\n",
    "                实体提取:[]\n",
    "                意图分类:日常知识\n",
    "\n",
    "            存在实体输出格式：\n",
    "                实体提取：[实体1, 实体2, ...]\n",
    "                意图分类：意图标签\n",
    "\n",
    "            有用的回答：'''\n",
    "messages = [\n",
    "        {\"role\": \"system\", \"content\": sys},\n",
    "        {\"role\": \"user\", \"content\": prompt}\n",
    "    ]\n",
    "print(llm(messages))"
   ]
  }
 ],
 "metadata": {
  "kernelspec": {
   "display_name": "Python 3 (ipykernel)",
   "language": "python",
   "name": "python3"
  },
  "language_info": {
   "codemirror_mode": {
    "name": "ipython",
    "version": 3
   },
   "file_extension": ".py",
   "mimetype": "text/x-python",
   "name": "python",
   "nbconvert_exporter": "python",
   "pygments_lexer": "ipython3",
   "version": "3.10.8"
  }
 },
 "nbformat": 4,
 "nbformat_minor": 5
}
