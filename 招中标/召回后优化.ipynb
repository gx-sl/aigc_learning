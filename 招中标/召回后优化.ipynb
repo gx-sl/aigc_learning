{
 "cells": [
  {
   "cell_type": "raw",
   "id": "231c3e4d-805f-4fa6-bb07-0db9b89c2709",
   "metadata": {},
   "source": [
    "第一阶段：\n",
    "首先加载外挂知识库（混合搜素）milvus\n",
    "其次加载qwen2.5-3b模型进行实体随机组合\n",
    "最后根据输入的组合实体返回多个列表，但是要加上用户的原始问题\n",
    "\n",
    "第二阶段：\n",
    "首先构建RRF（倒排序融合）算法，将多组返回结果根据返回的文本信息统计融合成一组\n",
    "其次加载重排模型进行重排并取前几个作为最终召回的文本信息\n",
    "最后将过滤后的文本加入prompt，给到生成模型进行问答输出\n",
    "\n",
    "第三阶段：\n",
    "首先将第一阶段的召回结果统一到一个list中\n",
    "其次直接根据混合搜索+重排模型的方式直接确定前几个文本信息\n",
    "最后将过滤后的文本加入prompt，给到生成模型进行问答输出\n",
    "\n",
    "第四阶段：\n",
    "对比第二第三阶段的召回与模型生成的结果质量，验证最佳的组合优化方式\n"
   ]
  },
  {
   "cell_type": "raw",
   "id": "0232dbad-2f76-408a-88fe-20f73df09b45",
   "metadata": {},
   "source": [
    "第一阶段"
   ]
  },
  {
   "cell_type": "code",
   "execution_count": 46,
   "id": "27cb50d7-ba80-4854-a987-ce7c1345bd33",
   "metadata": {},
   "outputs": [],
   "source": [
    "from pymilvus.model.hybrid import BGEM3EmbeddingFunction\n",
    "import pandas as pd\n",
    "from pymilvus import AnnSearchRequest, WeightedRanker\n",
    "from transformers import AutoTokenizer, AutoModelForCausalLM, AutoModelForSequenceClassification\n",
    "import torch\n",
    "# from langchain_milvus import Milvus\n",
    "from pymilvus import connections, utility, FieldSchema, CollectionSchema, DataType, Collection"
   ]
  },
  {
   "cell_type": "code",
   "execution_count": 3,
   "id": "40764e39-f967-4bd1-be41-3a3807d1dc8e",
   "metadata": {},
   "outputs": [],
   "source": [
    "# 加载嵌入模型\n",
    "def load_db():\n",
    "    embedding_model = BGEM3EmbeddingFunction(\n",
    "        model_name=r'autodl-tmp/embedding_model/BAAI/bge-m3',\n",
    "        use_fp16=False,\n",
    "        device='cpu'\n",
    "    )\n",
    "    connections.connect(uri='vectordb/milvus_mix/milvus_m3_2.db')\n",
    "    collection_name = 'hybrid_demo'\n",
    "    milvus_collection = Collection(name=collection_name)\n",
    "    milvus_collection.load()\n",
    "    return milvus_collection, embedding_model"
   ]
  },
  {
   "cell_type": "code",
   "execution_count": 4,
   "id": "fbeba89b-9d5c-4b50-b4a8-4884c3ca73dc",
   "metadata": {},
   "outputs": [],
   "source": [
    "device = torch.device('cuda')"
   ]
  },
  {
   "cell_type": "code",
   "execution_count": 5,
   "id": "e07ee679-f8ed-43a7-adb5-7bc0d52e5aa0",
   "metadata": {},
   "outputs": [],
   "source": [
    "# 加载实体组合模型\n",
    "def entity_list_model():\n",
    "    model_path = r'autodl-tmp/Qwen/Qwen2.5-3B-Instruct'\n",
    "    entity_model = AutoModelForCausalLM.from_pretrained(model_path).to(device).eval()\n",
    "    entity_tokenizer = AutoTokenizer.from_pretrained(model_path)\n",
    "    return entity_model, entity_tokenizer"
   ]
  },
  {
   "cell_type": "code",
   "execution_count": 6,
   "id": "1dea53ae-7595-4842-a12d-25b48b5b93c5",
   "metadata": {},
   "outputs": [
    {
     "name": "stderr",
     "output_type": "stream",
     "text": [
      "/root/miniconda3/lib/python3.10/site-packages/torch/_utils.py:831: UserWarning: TypedStorage is deprecated. It will be removed in the future and UntypedStorage will be the only storage class. This should only matter to you if you are using storages directly.  To access UntypedStorage directly, use tensor.untyped_storage() instead of tensor.storage()\n",
      "  return self.fget.__get__(instance, owner)()\n"
     ]
    },
    {
     "data": {
      "application/vnd.jupyter.widget-view+json": {
       "model_id": "cb9466f4cfa0448b8958c0eb20e3cc69",
       "version_major": 2,
       "version_minor": 0
      },
      "text/plain": [
       "Loading checkpoint shards:   0%|          | 0/2 [00:00<?, ?it/s]"
      ]
     },
     "metadata": {},
     "output_type": "display_data"
    }
   ],
   "source": [
    "# 初始化\n",
    "milvus_collection,embedding_model = load_db()\n",
    "entity_model, entity_tokenizer = entity_list_model()"
   ]
  },
  {
   "cell_type": "code",
   "execution_count": 7,
   "id": "d99359f7-c515-4fd1-ae4f-e7aa415f8234",
   "metadata": {},
   "outputs": [],
   "source": [
    "# 模型实体抽取组合函数\n",
    "def model_gerenate(prompt, model, tokenizer):\n",
    "    input = [\n",
    "        {'role':'user', 'content':prompt}\n",
    "    ]\n",
    "    text = tokenizer.apply_chat_template(\n",
    "        input,\n",
    "        tokenize=False,\n",
    "        add_generation_prompt=True\n",
    "    )\n",
    "    model_inputs = tokenizer([text], return_tensors='pt').to(device)\n",
    "    generated_ids = model.generate(\n",
    "        **model_inputs,\n",
    "        max_new_tokens=512\n",
    "    )\n",
    "    generated_ids = [ \n",
    "        output_ids[len(input_ids):]\n",
    "        for input_ids, output_ids in zip(model_inputs.input_ids, generated_ids)\n",
    "    ]\n",
    "    response = tokenizer.batch_decode(generated_ids,  skip_special_tokens=True)[0]\n",
    "    return response"
   ]
  },
  {
   "cell_type": "code",
   "execution_count": 8,
   "id": "755547f2-b102-439b-9a83-a0ad6b4a2369",
   "metadata": {},
   "outputs": [],
   "source": [
    "def hybrid_search(\n",
    "    col,\n",
    "    query_dense_embedding,\n",
    "    query_sparse_embedding,\n",
    "    sparse_weight=1.0,\n",
    "    dense_weight=1.0,\n",
    "    limit=10\n",
    "):\n",
    "\n",
    "    dense_search_params = {'metric_type': 'IP', 'params': {}}\n",
    "    dense_req = AnnSearchRequest(\n",
    "        [query_dense_embedding], 'dense_vector', dense_search_params, limit=limit\n",
    "    )\n",
    "\n",
    "    sparse_search_params = {'metric_type':'IP', 'params':{}}\n",
    "    sparse_req = AnnSearchRequest(\n",
    "        [query_sparse_embedding], 'sparse_vector', sparse_search_params, limit=limit\n",
    "    )\n",
    "\n",
    "    rerank = WeightedRanker(sparse_weight, dense_weight)\n",
    "    res = col.hybrid_search(\n",
    "        [sparse_req, dense_req], rerank=rerank, limit=limit, output_fields=['text', 'title', 'time', 'infosource']\n",
    "    )[0]\n",
    "\n",
    "    return [{'metadata':{'title':hit.get('title'), 'time':hit.get('time'), 'infosource':hit.get('infosource')}, 'page_content':hit.get('text')} for hit in res]"
   ]
  },
  {
   "cell_type": "code",
   "execution_count": 50,
   "id": "3e541327-39b7-4843-bc9c-9c74583844b8",
   "metadata": {},
   "outputs": [
    {
     "name": "stdout",
     "output_type": "stream",
     "text": [
      "实体组合response 意向受让方,登记\n",
      "意向受让方,受让意向\n",
      "意向受让方,条件\n",
      "登记,受让意向\n",
      "登记,条件\n",
      "受让意向,条件\n",
      "实体输入： 意向受让方,登记\n",
      "hybrid_res_meta ['【产权交易】上海联合产权交易所有限公司企业国有产权转让登记受让意向操作细则（沪联产交〔2020〕45号)', '【产权交易】上海联合产权交易所有限公司企业国有产权转让登记受让意向操作细则（沪联产交〔2020〕45号)', '【产权交易】上海联合产权交易所有限公司企业国有产权转让登记受让意向操作细则（沪联产交〔2020〕45号)', '协议出让国有土地使用权规范（试行）', '协议出让国有土地使用权规范（试行）', '协议出让国有土地使用权规范（试行）', '招标拍卖挂牌出让国有土地使用权规范（试行）', '国务院国有资产监督管理委员会关于印发《企业国有产权交易操作规则》的通知', '上海市土地使用权出让办法', '上海市国资委、市工商局、市产管办关于印发《上海市产权交易市场管理办法实施细则》的通知(2009年修订)']\n",
      "实体输入： 意向受让方,受让意向\n",
      "hybrid_res_meta ['协议出让国有土地使用权规范（试行）', '【产权交易】上海联合产权交易所有限公司企业国有产权转让登记受让意向操作细则（沪联产交〔2020〕45号)', '【产权交易】上海联合产权交易所有限公司企业国有产权转让登记受让意向操作细则（沪联产交〔2020〕45号)', '【产权交易】上海联合产权交易所有限公司产权交易保证金操作细则(沪联产交〔2020〕29号)', '\\u200b【产权交易】上海联合产权交易所有限公司物权交易操作指引(沪联产交〔2020〕26号)', '【产权交易】上海联合产权交易所有限公司企业国有产权转让登记受让意向操作细则（沪联产交〔2020〕45号)', '协议出让国有土地使用权规范（试行）', '国务院国有资产监督管理委员会关于印发《企业国有产权交易操作规则》的通知', '财政部关于印发《金融企业非上市国有产权交易规则》的通知', '协议出让国有土地使用权规范（试行）']\n",
      "实体输入： 意向受让方,条件\n",
      "hybrid_res_meta ['协议出让国有土地使用权规范（试行）', '【产权交易】上海联合产权交易所有限公司企业国有产权转让登记受让意向操作细则（沪联产交〔2020〕45号)', '上海市国资委、市工商局、市产管办关于印发《上海市产权交易市场管理办法实施细则》的通知(2009年修订)', '金融企业国有资产转让管理办法', '【产权交易】上海联合产权交易所有限公司企业国有产权转让登记受让意向操作细则（沪联产交〔2020〕45号)', '协议出让国有土地使用权规范（试行）', '【产权交易】上海联合产权交易所有限公司企业国有产权转让登记受让意向操作细则（沪联产交〔2020〕45号)', '国务院国有资产监督管理委员会关于印发《企业国有产权交易操作规则》的通知', '财政部关于印发《金融企业非上市国有产权交易规则》的通知', '【产权交易】上海联合产权交易所有限公司产权交易保证金操作细则(沪联产交〔2020〕29号)']\n",
      "实体输入： 登记,受让意向\n",
      "hybrid_res_meta ['【产权交易】上海联合产权交易所有限公司企业国有产权转让登记受让意向操作细则（沪联产交〔2020〕45号)', '协议出让国有土地使用权规范（试行）', '【产权交易】上海联合产权交易所有限公司企业国有产权转让登记受让意向操作细则（沪联产交〔2020〕45号)', '上海市土地使用权出让办法', '招标拍卖挂牌出让国有土地使用权规范（试行）', '【产权交易】上海联合产权交易所有限公司企业国有产权转让登记受让意向操作细则（沪联产交〔2020〕45号)', '协议出让国有土地使用权规范（试行）', '协议出让国有土地使用权规范（试行）', '国务院国有资产监督管理委员会关于印发《企业国有产权交易操作规则》的通知', '上海市国资委、市工商局、市产管办关于印发《上海市产权交易市场管理办法实施细则》的通知(2009年修订)']\n",
      "实体输入： 登记,条件\n",
      "hybrid_res_meta ['上海市公共资源交易综合专家库管理规则（试行）', '区域性股权市场监督管理试行办法', '企业国有资产产权登记管理办法实施细则(2000修订)', '【综合采购】上海市公共资源交易中心交易活动实施办法（试行）', '国家出资企业产权登记管理暂行办法', '国务院国有资产监督管理委员会关于印发《国家出资企业产权登记管理工作指引》的通知', '企业国有资产产权登记管理办法实施细则(2000修订)', '上海市优化营商环境条例', '企业国有资产产权登记管理办法实施细则(2000修订)', '上海市人民政府关于印发《上海市交易场所管理暂行办法》的通知']\n",
      "实体输入： 受让意向,条件\n",
      "hybrid_res_meta ['协议出让国有土地使用权规范（试行）', '上海市国资委、市工商局、市产管办关于印发《上海市产权交易市场管理办法实施细则》的通知(2009年修订)', '金融企业国有资产转让管理办法', '【产权交易】上海联合产权交易所有限公司企业国有产权转让登记受让意向操作细则（沪联产交〔2020〕45号)', '国务院国有资产监督管理委员会关于印发《企业国有产权交易操作规则》的通知', '协议出让国有土地使用权规范（试行）', '【产权交易】上海联合产权交易所有限公司企业国有产权转让登记受让意向操作细则（沪联产交〔2020〕45号)', '财政部关于印发《金融企业非上市国有产权交易规则》的通知', '上海市人民政府办公厅转发市规划国土资源局制订的《关于加强本市经营性用地出让管理的若干规定》的通知', '\\u200b【产权交易】上海联合产权交易所有限公司物权交易操作指引(沪联产交〔2020〕26号)']\n",
      "实体输入： 意向受让方在登记受让意向时需要满足哪些条件？\n",
      "hybrid_res_meta ['【产权交易】上海联合产权交易所有限公司企业国有产权转让登记受让意向操作细则（沪联产交〔2020〕45号)', '【产权交易】上海联合产权交易所有限公司企业国有产权转让登记受让意向操作细则（沪联产交〔2020〕45号)', '上海市国资委、市工商局、市产管办关于印发《上海市产权交易市场管理办法实施细则》的通知(2009年修订)', '财政部关于印发《金融企业非上市国有产权交易规则》的通知', '金融企业国有资产转让管理办法', '【产权交易】上海联合产权交易所有限公司企业国有产权转让登记受让意向操作细则（沪联产交〔2020〕45号)', '国务院国有资产监督管理委员会关于印发《企业国有产权交易操作规则》的通知', '协议出让国有土地使用权规范（试行）', '协议出让国有土地使用权规范（试行）', '财政部关于印发《金融企业非上市国有产权交易规则》的通知']\n"
     ]
    }
   ],
   "source": [
    "# 这里调用前两者\n",
    "# entity_ = '投标人或竞买人，违约情形，保证金，处理'\n",
    "entity_ = '意向受让方,登记,受让意向,条件'\n",
    "prompt = f\"\"\"\n",
    "                    请通过提供的实体上下文，随机组合实体，按照实体个数丰富程度输出至少2个组合列表。请根据以下步骤进行输出。\n",
    "\n",
    "                    步骤：\n",
    "                    1-输入的上下文实体之间是用逗号分隔的，请不要把上下文当成1个整体或者是一个实体。\n",
    "                    2-根据提供的多个实体，分析其实体的词性。\n",
    "                    3-根据实体输入时的排列顺序，组合列表至少由两个实体组成。\n",
    "                    4-组合列表内实体以逗号分隔，组合列表之间以句号分隔。\n",
    "                    \n",
    "                    请将提取的实体直接输出，不要改写实体。\n",
    "                    \n",
    "                    输出格式为：\n",
    "                        实体1,实体2\n",
    "                        实体2,实体3,实体4\n",
    "\n",
    "\n",
    "                    上下文实体：{entity_}\n",
    "                    实体列表输出：\"\"\"\n",
    "response = model_gerenate(prompt, entity_model, entity_tokenizer)\n",
    "print('实体组合response', response)\n",
    "\n",
    "# 将实体组合\n",
    "search_input = response.split('\\n') +['意向受让方在登记受让意向时需要满足哪些条件？'] #+ ['投标人或竞买人出现违约情形，保证金如何处理？']\n",
    "recall_list = []\n",
    "for input in search_input:\n",
    "    print('实体输入：', input)\n",
    "    # 混合搜素向量召回\n",
    "    embed_input = embedding_model([input])\n",
    "    # print('embed_input', embed_input)\n",
    "    hybrid_res = hybrid_search(\n",
    "        milvus_collection,\n",
    "        embed_input['dense'][0],\n",
    "        embed_input['sparse']._getrow(0),\n",
    "        sparse_weight=0.7,\n",
    "        dense_weight=1.0,\n",
    "        limit=10\n",
    "    )\n",
    "    recall_list.append(hybrid_res)\n",
    "    meta = [file['metadata']['title'] for file in hybrid_res]\n",
    "    print('hybrid_res_meta', meta)"
   ]
  },
  {
   "cell_type": "raw",
   "id": "ea45b729-488e-4c2d-946b-432eb08da667",
   "metadata": {},
   "source": [
    "# 构建RRF算法\n",
    "def reciprocal_rank_fusion(results: list[list], k=60):\n",
    "    fused_scores = {}\n",
    "    for docs in results:\n",
    "        for rank, doc in enumerate(docs):\n",
    "            doc_str = dumps(doc)\n",
    "            if doc_str not in fused_scores:\n",
    "                fused_scores[doc_str] = 0\n",
    "            previous_score = fused_scores[doc_str]\n",
    "            fused_scores[doc_str] += 1 / (rank + k)\n",
    "    reranked_results = [\n",
    "        (loads(doc), score)\n",
    "        for doc, score in sorted(fused_scores.items(), key=lambda x: x[1], reverse=True)\n",
    "    ]"
   ]
  },
  {
   "cell_type": "raw",
   "id": "b2006946-4350-4b03-9472-d47221d658df",
   "metadata": {},
   "source": [
    "第二阶段"
   ]
  },
  {
   "cell_type": "code",
   "execution_count": 51,
   "id": "933528f5-74e8-4f79-8885-57b5fdf4b85e",
   "metadata": {},
   "outputs": [],
   "source": [
    "# 构建RRF算法\n",
    "from langchain.load import dumps, loads\n",
    "def reciprocal_rank_fusion(results: list[list], k=60):\n",
    "    fused_scores = {}\n",
    "    for docs in results:\n",
    "        # 某一路召回\n",
    "        for rank, doc in enumerate(docs):\n",
    "            # 某一路召回的每个文本\n",
    "            # title_ = doc['metadata']['title']\n",
    "            doc_str = dumps(doc)\n",
    "            if doc_str not in fused_scores:\n",
    "                fused_scores[doc_str] = 0\n",
    "            previous_score = fused_scores[doc_str]\n",
    "            fused_scores[doc_str] += 1 / (rank + k)\n",
    "    reranked_results = [\n",
    "        (loads(doc), score)\n",
    "        for doc, score in sorted(fused_scores.items(), key=lambda x: x[1], reverse=True)\n",
    "    ]\n",
    "    return reranked_results"
   ]
  },
  {
   "cell_type": "code",
   "execution_count": 52,
   "id": "8678a2df-5bac-4c34-8220-008fb94047b8",
   "metadata": {},
   "outputs": [
    {
     "name": "stdout",
     "output_type": "stream",
     "text": [
      "reranked_results [('【产权交易】上海联合产权交易所有限公司企业国有产权转让登记受让意向操作细则（沪联产交〔2020〕45号)', 0.09588561447366313), ('协议出让国有土地使用权规范（试行）', 0.0952353616532721), ('【产权交易】上海联合产权交易所有限公司企业国有产权转让登记受让意向操作细则（沪联产交〔2020〕45号)', 0.09378089428492654), ('协议出让国有土地使用权规范（试行）', 0.09140314342520225), ('国务院国有资产监督管理委员会关于印发《企业国有产权交易操作规则》的通知', 0.0902585169074414), ('【产权交易】上海联合产权交易所有限公司企业国有产权转让登记受让意向操作细则（沪联产交〔2020〕45号)', 0.08224925083729949), ('财政部关于印发《金融企业非上市国有产权交易规则》的通知', 0.05882989146339912), ('上海市国资委、市工商局、市产管办关于印发《上海市产权交易市场管理办法实施细则》的通知(2009年修订)', 0.048651507139079855), ('金融企业国有资产转让管理办法', 0.04762704813108039), ('协议出让国有土地使用权规范（试行）', 0.032266458495966696), ('招标拍卖挂牌出让国有土地使用权规范（试行）', 0.030776515151515152), ('上海市土地使用权出让办法', 0.03057889822595705), ('【产权交易】上海联合产权交易所有限公司产权交易保证金操作细则(沪联产交〔2020〕29号)', 0.03036576949620428), ('\\u200b【产权交易】上海联合产权交易所有限公司物权交易操作指引(沪联产交〔2020〕26号)', 0.030117753623188408), ('上海市国资委、市工商局、市产管办关于印发《上海市产权交易市场管理办法实施细则》的通知(2009年修订)', 0.028985507246376812), ('上海市公共资源交易综合专家库管理规则（试行）', 0.016666666666666666), ('区域性股权市场监督管理试行办法', 0.01639344262295082), ('企业国有资产产权登记管理办法实施细则(2000修订)', 0.016129032258064516), ('【综合采购】上海市公共资源交易中心交易活动实施办法（试行）', 0.015873015873015872), ('财政部关于印发《金融企业非上市国有产权交易规则》的通知', 0.015873015873015872), ('国家出资企业产权登记管理暂行办法', 0.015625), ('国务院国有资产监督管理委员会关于印发《国家出资企业产权登记管理工作指引》的通知', 0.015384615384615385), ('企业国有资产产权登记管理办法实施细则(2000修订)', 0.015151515151515152), ('上海市优化营商环境条例', 0.014925373134328358), ('企业国有资产产权登记管理办法实施细则(2000修订)', 0.014705882352941176), ('上海市人民政府办公厅转发市规划国土资源局制订的《关于加强本市经营性用地出让管理的若干规定》的通知', 0.014705882352941176), ('协议出让国有土地使用权规范（试行）', 0.014492753623188406), ('上海市人民政府关于印发《上海市交易场所管理暂行办法》的通知', 0.014492753623188406)]\n"
     ]
    }
   ],
   "source": [
    "reranked_results = reciprocal_rank_fusion(recall_list)\n",
    "es_res = [(file[0]['metadata']['title'],file[1]) for file in reranked_results]\n",
    "print('reranked_results', es_res)"
   ]
  },
  {
   "cell_type": "code",
   "execution_count": null,
   "id": "b435d1eb-62b0-4e09-8bd7-d61af0be3d9c",
   "metadata": {},
   "outputs": [],
   "source": []
  },
  {
   "cell_type": "code",
   "execution_count": 53,
   "id": "85985a6e-f3a9-441b-ad66-e91168d4c2a8",
   "metadata": {},
   "outputs": [],
   "source": [
    "# RRF算法融合多路召回后，使用重排方式继续进行过滤。过滤后的最终召回数量暂定在个chunk。\n",
    "# 加载排序模型\n",
    "def model_load():\n",
    "    # 加载模型\n",
    "    path = r'autodl-tmp/rerank_model/BAAI/bge-reranker-base'\n",
    "    model = AutoModelForSequenceClassification.from_pretrained(path).cuda()\n",
    "    tokenizer = AutoTokenizer.from_pretrained(path)\n",
    "    return model, tokenizer"
   ]
  },
  {
   "cell_type": "code",
   "execution_count": 55,
   "id": "90f99486-052e-4353-81fd-835d90f7b2b9",
   "metadata": {},
   "outputs": [
    {
     "name": "stdout",
     "output_type": "stream",
     "text": [
      "重排分数：tensor([ 5.2128,  2.9223,  3.0496,  2.5233,  3.5431,  5.4414,  3.4428,  5.6595,\n",
      "         3.0548,  1.9911,  1.5852,  1.7569,  3.2432,  4.5577,  2.6247, -1.7468,\n",
      "        -2.0402, -5.7529, -2.5841,  4.9722, -3.9234, -3.4793, -5.9649, -3.2976,\n",
      "        -4.8864,  1.5441, -0.5091, -1.7463], device='cuda:0')\n",
      "重排得分索引：7\n",
      "重排得分title: {'title': '上海市国资委、市工商局、市产管办关于印发《上海市产权交易市场管理办法实施细则》的通知(2009年修订)', 'time': '发布时间：2021-07-15', 'infosource': '信息来源：上海市'}\n"
     ]
    }
   ],
   "source": [
    "# top10进行重排序\n",
    "# 调整结果格式\n",
    "\n",
    "pairs = []\n",
    "# question = '投标人或竞买人出现违约情形，保证金如何处理？'\n",
    "question = '意向受让方在登记受让意向时需要满足哪些条件？'\n",
    "max_score_page_idxs = []\n",
    "for idx in range(len(reranked_results)):\n",
    "    max_score_page_idxs.append(idx)\n",
    "    pairs.append([question, reranked_results[idx][0]['page_content']])\n",
    "ranker_model, ranker_tokenizer = model_load()\n",
    "inputs = ranker_tokenizer(pairs, padding=True, truncation=True, return_tensors='pt', max_length=512)\n",
    "with torch.no_grad():\n",
    "    #将数据移至gpu\n",
    "    inputs = {key:inputs[key].cuda() for key in inputs.keys()}\n",
    "    scores = ranker_model(**inputs, return_dict=True).logits.view(-1, ).float()\n",
    "    print(f'重排分数：{scores}')\n",
    "\n",
    "max_score_page_idx = max_score_page_idxs[scores.cpu().numpy().argmax()]\n",
    "print(f'重排得分索引：{max_score_page_idx}')\n",
    "print(f\"重排得分title: {reranked_results[max_score_page_idx][0]['metadata']}\")"
   ]
  },
  {
   "cell_type": "code",
   "execution_count": 75,
   "id": "60da0b70-e934-4ab5-8e44-0f04a9ed8bbc",
   "metadata": {},
   "outputs": [
    {
     "name": "stdout",
     "output_type": "stream",
     "text": [
      "重排得分索引：[13 19  0  5  7]\n",
      "重排得分title: [{'title': '\\u200b【产权交易】上海联合产权交易所有限公司物权交易操作指引(沪联产交〔2020〕26号)', 'time': '发布时间：2020-11-12', 'infosource': '信息来源：国家'}, {'title': '财政部关于印发《金融企业非上市国有产权交易规则》的通知', 'time': '发布时间：2021-07-15', 'infosource': '信息来源：国家'}, {'title': '【产权交易】上海联合产权交易所有限公司企业国有产权转让登记受让意向操作细则（沪联产交〔2020〕45号)', 'time': '发布时间：2020-11-12', 'infosource': '信息来源：国家'}, {'title': '【产权交易】上海联合产权交易所有限公司企业国有产权转让登记受让意向操作细则（沪联产交〔2020〕45号)', 'time': '发布时间：2020-11-12', 'infosource': '信息来源：国家'}, {'title': '上海市国资委、市工商局、市产管办关于印发《上海市产权交易市场管理办法实施细则》的通知(2009年修订)', 'time': '发布时间：2021-07-15', 'infosource': '信息来源：上海市'}]\n"
     ]
    }
   ],
   "source": [
    "# 取重排前五\n",
    "score_page_idx = scores.cpu().numpy().argsort()[-5:]\n",
    "print(f'重排得分索引：{score_page_idx}')\n",
    "dd = [reranked_results[idx][0]['metadata'] for idx in score_page_idx]\n",
    "print(f\"重排得分title: {dd}\")"
   ]
  },
  {
   "cell_type": "raw",
   "id": "9d82df11-c67a-4e42-98f1-3012b177f54f",
   "metadata": {},
   "source": [
    "第三阶段"
   ]
  },
  {
   "cell_type": "code",
   "execution_count": null,
   "id": "020eb6ad-536e-46db-8bef-1e528a1f59f4",
   "metadata": {},
   "outputs": [],
   "source": []
  },
  {
   "cell_type": "code",
   "execution_count": null,
   "id": "f8a0c0e9-a1fc-430d-a151-c6d92966fa6b",
   "metadata": {},
   "outputs": [],
   "source": []
  },
  {
   "cell_type": "code",
   "execution_count": null,
   "id": "d092ba37-b2a7-4dcd-85e2-abcf054123f9",
   "metadata": {},
   "outputs": [],
   "source": []
  }
 ],
 "metadata": {
  "kernelspec": {
   "display_name": "Python 3 (ipykernel)",
   "language": "python",
   "name": "python3"
  },
  "language_info": {
   "codemirror_mode": {
    "name": "ipython",
    "version": 3
   },
   "file_extension": ".py",
   "mimetype": "text/x-python",
   "name": "python",
   "nbconvert_exporter": "python",
   "pygments_lexer": "ipython3",
   "version": "3.10.8"
  }
 },
 "nbformat": 4,
 "nbformat_minor": 5
}
