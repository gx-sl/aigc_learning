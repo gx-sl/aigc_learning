{
 "cells": [
  {
   "cell_type": "code",
   "execution_count": 1,
   "id": "6bc3c1bf-9c83-45ce-b3a0-0b574740734c",
   "metadata": {},
   "outputs": [],
   "source": [
    "import gradio as gr\n",
    "from typing import Optional, List, Any\n",
    "import torch\n",
    "from langchain.embeddings.huggingface import HuggingFaceEmbeddings\n",
    "from langchain.vectorstores import Chroma\n",
    "from langchain.llms.base import LLM\n",
    "from langchain.callbacks.manager import CallbackManagerForLLMRun\n",
    "from transformers import AutoTokenizer, AutoModelForCausalLM, GenerationConfig, TextIteratorStreamer, AutoProcessor\n",
    "# from modelscope import AutoTokenizer, AutoModelForCausalLM, GenerationConfig\n",
    "from langchain import HuggingFacePipeline\n",
    "from langchain.chains import RetrievalQA, ConversationalRetrievalChain\n",
    "from langchain.prompts import PromptTemplate, ChatPromptTemplate, MessagesPlaceholder\n",
    "from langchain_core.outputs.generation import GenerationChunk\n",
    "from torch import device\n",
    "import time\n",
    "from tqdm import tqdm\n",
    "import csv\n",
    "import pandas as pd\n",
    "import re\n",
    "import os\n",
    "import json\n",
    "from langchain.memory import ConversationBufferMemory\n",
    "from langchain_community.chat_message_histories import ChatMessageHistory\n",
    "from langchain.chains.history_aware_retriever import create_history_aware_retriever\n",
    "\n",
    "from langchain.chains.retrieval import create_retrieval_chain\n",
    "from langchain_core.runnables import RunnableWithMessageHistory\n",
    "from langchain.chains.combine_documents import create_stuff_documents_chain\n",
    "\n",
    "\n",
    "# from threading import Thread\n",
    "import warnings\n",
    "warnings.filterwarnings(\"ignore\")"
   ]
  },
  {
   "cell_type": "code",
   "execution_count": 2,
   "id": "bed6ecb3-e17d-40e5-8f61-1a50211f4ff5",
   "metadata": {},
   "outputs": [],
   "source": [
    "device = torch.device('cuda')"
   ]
  },
  {
   "cell_type": "code",
   "execution_count": 3,
   "id": "aba20a98-3ba9-463a-a641-2c902d81fb4e",
   "metadata": {},
   "outputs": [
    {
     "data": {
      "application/vnd.jupyter.widget-view+json": {
       "model_id": "7cff498291f54f30af4dd424eeebdfc2",
       "version_major": 2,
       "version_minor": 0
      },
      "text/plain": [
       "Loading checkpoint shards:   0%|          | 0/2 [00:00<?, ?it/s]"
      ]
     },
     "metadata": {},
     "output_type": "display_data"
    },
    {
     "name": "stdout",
     "output_type": "stream",
     "text": [
      "模型加载完成！\n"
     ]
    }
   ],
   "source": [
    "# 加载模型\n",
    "model_cache_path = r'autodl-tmp/Qwen/Qwen2.5-3B-Instruct'\n",
    "tokenizer = AutoTokenizer.from_pretrained(\n",
    "        pretrained_model_name_or_path=model_cache_path,\n",
    "        trust_remote_code=True,\n",
    "    )\n",
    "model = AutoModelForCausalLM.from_pretrained(\n",
    "        pretrained_model_name_or_path=model_cache_path,\n",
    "        # device_map='balanced_low_0',\n",
    "        trust_remote_code=True,\n",
    "        torch_dtype=torch.bfloat16,\n",
    "        temperature=0\n",
    "        ).to(device)\n",
    "model = model.eval()\n",
    "model.generation_config = GenerationConfig.from_pretrained(\n",
    "    model_cache_path,\n",
    "    trust_remote_code=True\n",
    ")\n",
    "# 可指定不同的生成长度、top_p等相关超参\n",
    "processor = AutoProcessor.from_pretrained(model_cache_path)\n",
    "print('模型加载完成！')\n"
   ]
  },
  {
   "cell_type": "code",
   "execution_count": null,
   "id": "3aa618b9-0edb-4ab5-b4df-9bebaeb0bd34",
   "metadata": {},
   "outputs": [],
   "source": []
  },
  {
   "cell_type": "code",
   "execution_count": 4,
   "id": "bead0953-e79c-4a31-87c8-1bf0e6dbbcdd",
   "metadata": {
    "scrolled": true
   },
   "outputs": [
    {
     "name": "stderr",
     "output_type": "stream",
     "text": [
      "0it [00:00, ?it/s]Starting from v4.46, the `logits` model output will have the same type as the model (except at train time, where it will always be FP32)\n",
      "1it [00:01,  1.04s/it]"
     ]
    },
    {
     "name": "stdout",
     "output_type": "stream",
     "text": [
      "question: 【综合采购】上海市公共资源交易中心综合采购专家库管理实施规则(试行)的发布时间是什么？\n",
      "response 实体识别结果：综合采购专家库管理实施规则，发布时间\n",
      "意图分类：政策文件信息\n"
     ]
    },
    {
     "name": "stderr",
     "output_type": "stream",
     "text": [
      "2it [00:01,  1.06it/s]"
     ]
    },
    {
     "name": "stdout",
     "output_type": "stream",
     "text": [
      "question: 【综合采购】上海市公共资源交易中心综合采购专家库管理实施规则(试行)的信息来源是哪里？\n",
      "response 实体识别结果：上海市公共资源交易中心综合采购专家库管理实施规则(试行)，信息来源\n",
      "意图分类：政策文件信息\n"
     ]
    },
    {
     "name": "stderr",
     "output_type": "stream",
     "text": [
      "3it [00:02,  1.19it/s]"
     ]
    },
    {
     "name": "stdout",
     "output_type": "stream",
     "text": [
      "question: 在招投标工作期间，工作人员有哪些行为是被禁止的？\n",
      "response 实体识别结果：招投标工作期间，工作人员，行为，被禁止\n",
      "意图分类：招标中标信息\n"
     ]
    },
    {
     "name": "stderr",
     "output_type": "stream",
     "text": [
      "4it [00:03,  1.20it/s]"
     ]
    },
    {
     "name": "stdout",
     "output_type": "stream",
     "text": [
      "question: 保险公司股权管理办法(2018)发布于那一年？\n",
      "response 实体识别结果：保险公司股权管理办法(2018)，发布，年份\n",
      "意图分类：政策文件信息\n"
     ]
    },
    {
     "name": "stderr",
     "output_type": "stream",
     "text": [
      "5it [00:03,  1.44it/s]"
     ]
    },
    {
     "name": "stdout",
     "output_type": "stream",
     "text": [
      "question: 怎么和陌生人开启话题？\n",
      "response 实体识别结果：开启话题\n",
      "意图分类：日常问题\n"
     ]
    },
    {
     "name": "stderr",
     "output_type": "stream",
     "text": [
      "5it [00:04,  1.21it/s]\n",
      "\n",
      "KeyboardInterrupt\n",
      "\n"
     ]
    }
   ],
   "source": [
    "# datas = pd.read_csv('实体提取_改进.csv') \n",
    "datas = pd.read_excel('意图识别数据集-eval(1).xlsx') \n",
    "questions = datas['问题']\n",
    "labels = datas['问题分类']\n",
    "# bodys = datas['提取的实体']\n",
    "# sublabel = set(labels.values.tolist())\n",
    "# file = '实体提取_意图分类结果.csv'\n",
    "file = '实体提取_意图分类结果_example提示1125.csv'\n",
    "for question, label in tqdm(zip(questions, labels), ncols=len(questions)) :\n",
    "    template = f\"\"\"\n",
    "            你是一名实体提取、意图识别和分类领域专家，请严格遵循以下任务和工作流程的指示输出结果。请根据给出的example进行意图分类。\n",
    "            \n",
    "            任务：\n",
    "            1-分析输入问题的文本和语法结构。\n",
    "            2-根据分析结果，将问题中的停用词、无意图词、语气词和符号剔除。\n",
    "            3-检查是否存在剔除遗漏，是否存在错误剔除，并进行矫正。\n",
    "            4-将保留的文本进行实体、关键词、意图词、主语词、设备词识别。\n",
    "            5-识别出的词以逗号分隔。\n",
    "            6-根据分析结果、实体提取结果和给出的意图分类标签进行问题的意图分类。\n",
    "            7-根据输出格式输出。\n",
    "    \n",
    "            意图标签：商品数据，招标中标信息，政策文件信息，日常问题。\n",
    "            \n",
    "            请根据分类结果与要求的输出格式对比，存在格式问题则进行矫正后输出。\n",
    "\n",
    "            example:\n",
    "                问题：《工程建设项目施工招标投标办法》的发布时间是什么？\n",
    "                实体识别结果：《工程建设项目施工招标投标办法》，发布时间\n",
    "                意图分类：政策文件信息\n",
    "\n",
    "                问题：医院X射线计算机体层摄影设备的供应商省份有哪些？\n",
    "                实体识别结果：医院X射线计算机体层摄影设备，供应商省份\n",
    "                意图分类：商品数据\n",
    "\n",
    "                问题：如何确保政府采购信息的公开透明？\n",
    "                实体识别结果：政府采购信息，公开透明\n",
    "                意图分类：政策内容\n",
    "\n",
    "                问题：“高端便携式彩色多普勒超声诊断仪”项目的预算金额是多少？\n",
    "                实体识别结果：“高端便携式彩色多普勒超声诊断仪”项目，预算金额\n",
    "                意图分类：招标中标信息\n",
    "\n",
    "                问题：你能教我几句常用的外语表达吗？\n",
    "                实体识别结果：常用，外语表达\n",
    "                意图分类：日常问题\n",
    "\n",
    "                问题：肌肉关节智能运动康复评估训练系统有哪些品牌？\n",
    "                实体识别结果：肌肉关节智能运动康复评估训练系统，品牌\n",
    "                意图分类：商品数据\n",
    "\n",
    "                问题：流式细胞仪的供应商省份是哪里？\n",
    "                实体识别结果：流式细胞仪，供应商省份\n",
    "                意图分类：商品数据\n",
    "\n",
    "                问题：《财政部关于做好政府采购信息公开工作的通知》的来源是什么？\n",
    "                实体识别结果：《财政部关于做好政府采购信息公开工作的通知》，来源\n",
    "                意图分类：政策文件信息\n",
    "\n",
    "                问题：2020年11月发布了多少个政策文件？\n",
    "                实体识别结果：2020年11月，发布，政策文件\n",
    "                意图分类：政策文件信息\n",
    "\n",
    "                问题：“中国福利会国际和平妇幼保健院2024年医疗设备（四）”项目的采购人名称是什么？\n",
    "                实体识别结果：“中国福利会国际和平妇幼保健院2024年医疗设备（四）”项目，采购人名称\n",
    "                意图分类：招标中标信息\n",
    "                \n",
    "            输出格式：\n",
    "                实体识别结果：实体，实体\n",
    "                意图分类：意图标签\n",
    "\n",
    "            请注意输出结果严格按照输出格式进行，不需要输出分析过程。不要输出实体结果\n",
    "\n",
    "            问题：{question}\"\"\"\n",
    "            #问题主干\n",
    "            # 不存在实体输出格式：\n",
    "            #     实体提取: [],\n",
    "            #     意图分类:日常问题\n",
    "                # 实体提取和意图分类结果：\n",
    "\n",
    "    messages = [\n",
    "                # {'role':'system', 'content': template},\n",
    "                {'role':'user', 'content': template}\n",
    "                ]\n",
    "    # print('打印messages内容：', messages)\n",
    "    # print('打印messages类型：', type(messages))\n",
    "    text = tokenizer.apply_chat_template(\n",
    "        messages,\n",
    "        tokenize=False,\n",
    "        add_generation_prompt=True\n",
    "    )\n",
    "    model_inputs = tokenizer([text], return_tensors='pt').to(device)\n",
    "    generated_ids = model.generate(\n",
    "        **model_inputs,\n",
    "        max_new_tokens=512\n",
    "    )\n",
    "    generated_ids = [\n",
    "        output_ids[len(input_ids):] for input_ids, output_ids in zip(model_inputs.input_ids, generated_ids)\n",
    "    ]\n",
    "    response = tokenizer.batch_decode(generated_ids, skip_special_tokens=True)[0]\n",
    "    print('question:', question)\n",
    "    print('response', response)\n",
    "    body_ = response.split('\\n')[0].split('实体识别结果：')[-1].replace(' ','')\n",
    "    emition = response.split('意图分类：')[-1].replace(' ','')\n",
    "    data_ = [question, body_, label, emition]\n",
    "    with open(file, 'a', newline='', encoding='utf-8') as f:\n",
    "        fw = csv.writer(f)\n",
    "        if not os.path.getsize(file):\n",
    "            header = ['问题', '提取的实体', '问题分类', '意图分类']\n",
    "            fw.writerow(header)\n",
    "        fw.writerow(data_)\n",
    "\n",
    "\n",
    "\n",
    "    # print(f'问题：{question}', f'意图分类：{target}', f'标签真值：{label}')\n"
   ]
  },
  {
   "cell_type": "code",
   "execution_count": null,
   "id": "a224ff3b-eeda-4938-b299-fec1aec4cdab",
   "metadata": {},
   "outputs": [],
   "source": [
    "# example:\n",
    "#     问题：肌肉关节智能运动康复评估训练系统有哪些品牌？\n",
    "#     识别结果：肌肉关节智能运动康复评估训练系统（主语词），品牌（意图词）\n",
    "\n",
    "#     问题：流式细胞仪的供应商省份是哪里？\n",
    "#     识别结果：流式细胞仪（设备词），供应商省份（意图词）"
   ]
  },
  {
   "cell_type": "code",
   "execution_count": 147,
   "id": "eed72069-2882-4c17-9a0a-4b953e92c10a",
   "metadata": {},
   "outputs": [
    {
     "data": {
      "text/html": [
       "<div>\n",
       "<style scoped>\n",
       "    .dataframe tbody tr th:only-of-type {\n",
       "        vertical-align: middle;\n",
       "    }\n",
       "\n",
       "    .dataframe tbody tr th {\n",
       "        vertical-align: top;\n",
       "    }\n",
       "\n",
       "    .dataframe thead th {\n",
       "        text-align: right;\n",
       "    }\n",
       "</style>\n",
       "<table border=\"1\" class=\"dataframe\">\n",
       "  <thead>\n",
       "    <tr style=\"text-align: right;\">\n",
       "      <th></th>\n",
       "      <th>0</th>\n",
       "    </tr>\n",
       "  </thead>\n",
       "  <tbody>\n",
       "    <tr>\n",
       "      <th>0</th>\n",
       "      <td>全自动发药机的供应商地址在哪里？</td>\n",
       "    </tr>\n",
       "    <tr>\n",
       "      <th>1</th>\n",
       "      <td>日常问题</td>\n",
       "    </tr>\n",
       "    <tr>\n",
       "      <th>2</th>\n",
       "      <td>商品数据</td>\n",
       "    </tr>\n",
       "    <tr>\n",
       "      <th>3</th>\n",
       "      <td>[全自动发药机,  供应商,  地址]</td>\n",
       "    </tr>\n",
       "  </tbody>\n",
       "</table>\n",
       "</div>"
      ],
      "text/plain": [
       "                     0\n",
       "0     全自动发药机的供应商地址在哪里？\n",
       "1                 日常问题\n",
       "2                 商品数据\n",
       "3  [全自动发药机,  供应商,  地址]"
      ]
     },
     "execution_count": 147,
     "metadata": {},
     "output_type": "execute_result"
    }
   ],
   "source": [
    "data_"
   ]
  },
  {
   "cell_type": "code",
   "execution_count": null,
   "id": "f92fa410-2b6d-47c6-a9f6-198fc53416d4",
   "metadata": {},
   "outputs": [],
   "source": [
    "template = f\"\"\"\n",
    "            你是一名实体提取和意图识别分类领域专家，请严格遵循以下任务和工作流程的指示输出结果。\n",
    "            \n",
    "            任务：\n",
    "            1-判断用户问题是否存在实体。\n",
    "            2-抽取用户问题中可能表达意图的实体。\n",
    "            3-根据实体与给出的意图标签进行判定该用户问题的意图。\n",
    "            \n",
    "            工作流程：\n",
    "            1-先判断是否存在实体，不存在实体则实体提取为[]，意图分类为日常问题，存在实体则继续以下工作流程，并通过存在实体输出格式输出。\n",
    "            2-实体提取：请从用户问题中提取出所有实体，多个实体请用逗号分隔。\n",
    "            3-意图分类：请根据第2点提取的实体以及意图标签，进行意图识别并分类用户问题。\n",
    "\n",
    "            输出格式：\n",
    "                实体提取：实体\n",
    "                意图分类：意图标签\n",
    "\n",
    "\n",
    "            问题：{question}。\n",
    "\n",
    "            对比实体提取的结果，筛掉问题中不存在的、重复的实体。实体与实体之间是否用逗号分隔，请矫正。\n",
    "\n",
    "            请根据意图分类结果与用户问题进行分析，再次根据提取的实体对用户问题给出正确的意图标签。\n",
    "            \n",
    "            每个问题只能分为一类意图，矫正后的意图分类结果替换前面的分类结果。\n",
    "            \n",
    "            请根据生成的结果与要求的输出格式对比，存在格式问题则进行矫正后输出。\n",
    "\n",
    "            意图标签：商品数据，招标中标信息，政策内容，政策文件信息，日常问题。\n",
    "\n",
    "            实体提取和意图分类结果：\"\"\""
   ]
  },
  {
   "cell_type": "code",
   "execution_count": null,
   "id": "9b8305ac-7a27-459f-aac0-a1c643e7d364",
   "metadata": {},
   "outputs": [],
   "source": [
    "template = f\"\"\"\n",
    "            你是一名实体提取领域专家，请严格遵循以下任务和工作流程的指示输出结果。\n",
    "            \n",
    "            任务：\n",
    "            1-判断上下文是否存在实体。\n",
    "            2-抽取上下文中表达意图的所有实体。\n",
    "            \n",
    "            工作流程：\n",
    "            1-首先对输入文本进行分词。\n",
    "            1-其次判断每个分词是否为实体。\n",
    "            2-判断结果表明所有分词不是实体则直接输出实体提取：''。\n",
    "            3-判断每个分词，存在至少一个实体的，则根据输出格式提取并输出。\n",
    "            4-请从上下文中提取出所有实体，多个实体请用逗号分隔。\n",
    "\n",
    "            对比实体提取的结果，筛掉上下文中不存在的、重复的实体。实体与实体之间是否用逗号分隔，请矫正。\n",
    "\n",
    "            请根据生成的结果与要求的输出格式对比，存在格式问题则进行矫正后输出。\n",
    "\n",
    "            输出格式：\n",
    "                实体提取：实体\n",
    "\n",
    "            请注意输出结果严格按照输出格式进行，不需要输出分析过程。\n",
    "\n",
    "            上下文：{question}\"\"\""
   ]
  },
  {
   "cell_type": "code",
   "execution_count": null,
   "id": "26930c9d-7215-49df-a7c7-a11475f651d0",
   "metadata": {},
   "outputs": [],
   "source": [
    "template = f\"\"\"\n",
    "            请根据问题进行实体提取，尽可能提取所有实体，按照格式输出。\n",
    "            请检查提取的实体和问题，所有实体是否占据问题较小篇幅，是则进一步辨别实体并提取。\n",
    "            可能存在较长实体，请提取出来。\n",
    "            请将产品名称、产品系统等实体也提取出来。按照格式输出。\n",
    "            提取出的实体存在重复的请筛掉。\n",
    "            请将产品名称、产品系统等实体也提取出来。按照格式输出。\n",
    "\n",
    "            输出格式：\n",
    "                实体提取：实体，实体，\n",
    "\n",
    "            问题：{question}\n",
    "            \"\"\""
   ]
  },
  {
   "cell_type": "code",
   "execution_count": null,
   "id": "70c69c99-46f9-4ca6-a1f7-ad2e5c6f2ec0",
   "metadata": {},
   "outputs": [],
   "source": [
    "template = f\"\"\"\n",
    "            你是一名意图识别和分类领域专家，请严格遵循以下任务和工作流程的指示输出结果。请根据给出的example进行意图分类。\n",
    "            \n",
    "            任务：\n",
    "            1-分析用户输入的问题和对应问题的实体。\n",
    "            2-根据分析和给出的意图分类标签进行问题的意图分类。\n",
    "    \n",
    "            意图标签：商品数据，招标中标信息，政策内容，政策文件信息，日常问题。\n",
    "            \n",
    "            请根据分类结果与要求的输出格式对比，存在格式问题则进行矫正后输出。\n",
    "\n",
    "            example:\n",
    "                问题：《工程建设项目施工招标投标办法》的发布时间是什么？\n",
    "                实体：['工程建设项目施工招标投标办法，发布时间']\n",
    "                意图分类：政策文件信息\n",
    "\n",
    "                问题：医院X射线计算机体层摄影设备的供应商省份有哪些？\n",
    "                实体：['医院X射线计算机体层摄影设备，供应商省份']\n",
    "                意图分类：商品数据\n",
    "\n",
    "                问题：如何确保政府采购信息的公开透明？\n",
    "                实体：['政府采购信息，公开透明']\n",
    "                意图分类：政策内容\n",
    "\n",
    "                问题：“高端便携式彩色多普勒超声诊断仪”项目的预算金额是多少？\n",
    "                实体：['高端便携式彩色多普勒超声诊断仪，预算金额']\n",
    "                意图分类：招标中标信息\n",
    "\n",
    "                问题：你能教我几句常用的外语表达吗？\n",
    "                实体：['外语表达']\n",
    "                意图分类：日常问题\n",
    "                \n",
    "            输出格式：\n",
    "                意图分类：意图标签\n",
    "\n",
    "            请注意输出结果严格按照输出格式进行，不需要输出分析过程。不要输出实体结果\n",
    "\n",
    "            实体：{body_}\n",
    "\n",
    "            问题：{question}\"\"\""
   ]
  }
 ],
 "metadata": {
  "kernelspec": {
   "display_name": "Python 3 (ipykernel)",
   "language": "python",
   "name": "python3"
  },
  "language_info": {
   "codemirror_mode": {
    "name": "ipython",
    "version": 3
   },
   "file_extension": ".py",
   "mimetype": "text/x-python",
   "name": "python",
   "nbconvert_exporter": "python",
   "pygments_lexer": "ipython3",
   "version": "3.10.8"
  }
 },
 "nbformat": 4,
 "nbformat_minor": 5
}
