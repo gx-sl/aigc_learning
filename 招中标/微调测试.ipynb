{
 "cells": [
  {
   "cell_type": "code",
   "execution_count": 2,
   "id": "initial_id",
   "metadata": {
    "ExecuteTime": {
     "end_time": "2024-11-17T01:54:32.216400Z",
     "start_time": "2024-11-17T01:54:32.078970Z"
    }
   },
   "outputs": [],
   "source": [
    "from datasets import Dataset\n",
    "import pandas as pd\n",
    "from fontTools.ttLib.tables.ttProgram import instructions\n",
    "from transformers import AutoTokenizer, AutoModelForCausalLM, TrainingArguments, Trainer, DataCollatorForSeq2Seq, GenerationConfig\n",
    "\n",
    "import torch\n",
    "from peft import LoraConfig, TaskType, get_peft_model\n",
    "\n",
    "from tqdm.notebook import tqdm\n",
    "import csv\n",
    "import os\n",
    "from peft import PeftModel\n",
    "# from policy_crawling.datacleaning.test import tokenizer"
   ]
  },
  {
   "cell_type": "code",
   "execution_count": 2,
   "id": "a9489aac0f727c23",
   "metadata": {
    "ExecuteTime": {
     "end_time": "2024-11-17T01:54:35.391736Z",
     "start_time": "2024-11-17T01:54:34.637341Z"
    }
   },
   "outputs": [],
   "source": [
    "# 将Json文件转换为CSV文件\n",
    "df = pd.read_json('qwen微调/微调数据_改.json')\n",
    "ds = Dataset.from_pandas(df)\n"
   ]
  },
  {
   "cell_type": "code",
   "execution_count": 3,
   "id": "c735e78e1ab9cf11",
   "metadata": {
    "ExecuteTime": {
     "end_time": "2024-11-17T01:54:35.746336Z",
     "start_time": "2024-11-17T01:54:35.727339Z"
    }
   },
   "outputs": [
    {
     "data": {
      "text/plain": [
       "{'instruction': ['你是一名实体提取、意图识别和分类领域专家，请严格遵循以下任务和工作流程的指示输出结果。\\n\\n任务：\\n1-分析用户输入问题的语义信息和语法结构。\\n2-根据分析结果，将问题中的停用词、无意图词、语气词和符号剔除。\\n3-检查是否存在剔除遗漏，是否存在错误剔除，并进行矫正。\\n4-将保留的文本进行实体、关键词、意图词、主语词、设备词识别。\\n5-识别出的词以逗号分隔。\\n6-根据分析结果、实体提取结果和给出的意图分类标签进行问题的意图分类。\\n7-根据输出格式输出。\\n\\n意图标签：商品数据，招标中标信息，政策文件信息，日常问题。\\n\\n请根据分类结果与要求的输出格式对比，存在格式问题则进行矫正后输出。\\n\\n输出格式：\\n实体识别结果：实体，实体\\n意图分类：意图标签\\n\\n请注意输出结果严格按照输出格式进行，不需要输出分析过程。不要输出实体结果。\\n\\n问题：医用DR设备都有哪些品牌？',\n",
       "  '你是一名实体提取、意图识别和分类领域专家，请严格遵循以下任务和工作流程的指示输出结果。\\n\\n任务：\\n1-分析用户输入问题的语义信息和语法结构。\\n2-根据分析结果，将问题中的停用词、无意图词、语气词和符号剔除。\\n3-检查是否存在剔除遗漏，是否存在错误剔除，并进行矫正。\\n4-将保留的文本进行实体、关键词、意图词、主语词、设备词识别。\\n5-识别出的词以逗号分隔。\\n6-根据分析结果、实体提取结果和给出的意图分类标签进行问题的意图分类。\\n7-根据输出格式输出。\\n\\n意图标签：商品数据，招标中标信息，政策文件信息，日常问题。\\n\\n请根据分类结果与要求的输出格式对比，存在格式问题则进行矫正后输出。\\n\\n输出格式：\\n实体识别结果：实体，实体\\n意图分类：意图标签\\n\\n请注意输出结果严格按照输出格式进行，不需要输出分析过程。不要输出实体结果。\\n\\n问题：动态三维脊柱姿态测量分析装置北京的供应商有哪些品牌？',\n",
       "  '你是一名实体提取、意图识别和分类领域专家，请严格遵循以下任务和工作流程的指示输出结果。\\n\\n任务：\\n1-分析用户输入问题的语义信息和语法结构。\\n2-根据分析结果，将问题中的停用词、无意图词、语气词和符号剔除。\\n3-检查是否存在剔除遗漏，是否存在错误剔除，并进行矫正。\\n4-将保留的文本进行实体、关键词、意图词、主语词、设备词识别。\\n5-识别出的词以逗号分隔。\\n6-根据分析结果、实体提取结果和给出的意图分类标签进行问题的意图分类。\\n7-根据输出格式输出。\\n\\n意图标签：商品数据，招标中标信息，政策文件信息，日常问题。\\n\\n请根据分类结果与要求的输出格式对比，存在格式问题则进行矫正后输出。\\n\\n输出格式：\\n实体识别结果：实体，实体\\n意图分类：意图标签\\n\\n请注意输出结果严格按照输出格式进行，不需要输出分析过程。不要输出实体结果。\\n\\n问题：医院住院大楼生活热水系统改造有哪些品牌？'],\n",
       " 'input': ['', '', ''],\n",
       " 'output': ['实体识别结果：医用DR设备，品牌\\n意图分类：商品数据',\n",
       "  '实体识别结果：动态三维脊柱姿态测量分析装置，供应商，品牌\\n意图分类：商品数据',\n",
       "  '实体识别结果：医院住院大楼生活热水系统改造，品牌\\n意图分类：商品数据']}"
      ]
     },
     "execution_count": 3,
     "metadata": {},
     "output_type": "execute_result"
    }
   ],
   "source": [
    "ds[:3]"
   ]
  },
  {
   "cell_type": "code",
   "execution_count": 4,
   "id": "d4736dcdfacd5d03",
   "metadata": {
    "ExecuteTime": {
     "end_time": "2024-11-17T01:54:30.077902300Z",
     "start_time": "2024-11-16T13:28:07.728827Z"
    }
   },
   "outputs": [],
   "source": [
    "# 下载qwen2.5-3b模型\n",
    "# from modelscope import snapshot_download\n",
    "# model_dir = snapshot_download(\"Qwen/Qwen2.5-3B-Instruct\", revision=\"master\", cache_dir='./models')"
   ]
  },
  {
   "cell_type": "markdown",
   "id": "841f174fc71ebfcd",
   "metadata": {},
   "source": [
    "# 加载tokenizer"
   ]
  },
  {
   "cell_type": "code",
   "execution_count": 5,
   "id": "e4223433db99f468",
   "metadata": {
    "ExecuteTime": {
     "end_time": "2024-11-17T01:55:35.566881Z",
     "start_time": "2024-11-17T01:55:35.320883Z"
    }
   },
   "outputs": [
    {
     "data": {
      "text/plain": [
       "Qwen2Tokenizer(name_or_path='autodl-tmp/Qwen/Qwen2.5-3B-Instruct', vocab_size=151643, model_max_length=131072, is_fast=False, padding_side='right', truncation_side='right', special_tokens={'eos_token': '<|im_end|>', 'pad_token': '<|endoftext|>', 'additional_special_tokens': ['<|im_start|>', '<|im_end|>', '<|object_ref_start|>', '<|object_ref_end|>', '<|box_start|>', '<|box_end|>', '<|quad_start|>', '<|quad_end|>', '<|vision_start|>', '<|vision_end|>', '<|vision_pad|>', '<|image_pad|>', '<|video_pad|>']}, clean_up_tokenization_spaces=False),  added_tokens_decoder={\n",
       "\t151643: AddedToken(\"<|endoftext|>\", rstrip=False, lstrip=False, single_word=False, normalized=False, special=True),\n",
       "\t151644: AddedToken(\"<|im_start|>\", rstrip=False, lstrip=False, single_word=False, normalized=False, special=True),\n",
       "\t151645: AddedToken(\"<|im_end|>\", rstrip=False, lstrip=False, single_word=False, normalized=False, special=True),\n",
       "\t151646: AddedToken(\"<|object_ref_start|>\", rstrip=False, lstrip=False, single_word=False, normalized=False, special=True),\n",
       "\t151647: AddedToken(\"<|object_ref_end|>\", rstrip=False, lstrip=False, single_word=False, normalized=False, special=True),\n",
       "\t151648: AddedToken(\"<|box_start|>\", rstrip=False, lstrip=False, single_word=False, normalized=False, special=True),\n",
       "\t151649: AddedToken(\"<|box_end|>\", rstrip=False, lstrip=False, single_word=False, normalized=False, special=True),\n",
       "\t151650: AddedToken(\"<|quad_start|>\", rstrip=False, lstrip=False, single_word=False, normalized=False, special=True),\n",
       "\t151651: AddedToken(\"<|quad_end|>\", rstrip=False, lstrip=False, single_word=False, normalized=False, special=True),\n",
       "\t151652: AddedToken(\"<|vision_start|>\", rstrip=False, lstrip=False, single_word=False, normalized=False, special=True),\n",
       "\t151653: AddedToken(\"<|vision_end|>\", rstrip=False, lstrip=False, single_word=False, normalized=False, special=True),\n",
       "\t151654: AddedToken(\"<|vision_pad|>\", rstrip=False, lstrip=False, single_word=False, normalized=False, special=True),\n",
       "\t151655: AddedToken(\"<|image_pad|>\", rstrip=False, lstrip=False, single_word=False, normalized=False, special=True),\n",
       "\t151656: AddedToken(\"<|video_pad|>\", rstrip=False, lstrip=False, single_word=False, normalized=False, special=True),\n",
       "\t151657: AddedToken(\"<tool_call>\", rstrip=False, lstrip=False, single_word=False, normalized=False, special=False),\n",
       "\t151658: AddedToken(\"</tool_call>\", rstrip=False, lstrip=False, single_word=False, normalized=False, special=False),\n",
       "\t151659: AddedToken(\"<|fim_prefix|>\", rstrip=False, lstrip=False, single_word=False, normalized=False, special=False),\n",
       "\t151660: AddedToken(\"<|fim_middle|>\", rstrip=False, lstrip=False, single_word=False, normalized=False, special=False),\n",
       "\t151661: AddedToken(\"<|fim_suffix|>\", rstrip=False, lstrip=False, single_word=False, normalized=False, special=False),\n",
       "\t151662: AddedToken(\"<|fim_pad|>\", rstrip=False, lstrip=False, single_word=False, normalized=False, special=False),\n",
       "\t151663: AddedToken(\"<|repo_name|>\", rstrip=False, lstrip=False, single_word=False, normalized=False, special=False),\n",
       "\t151664: AddedToken(\"<|file_sep|>\", rstrip=False, lstrip=False, single_word=False, normalized=False, special=False),\n",
       "}"
      ]
     },
     "execution_count": 5,
     "metadata": {},
     "output_type": "execute_result"
    }
   ],
   "source": [
    "# 加载分词器\n",
    "model_dir = 'autodl-tmp/Qwen/Qwen2.5-3B-Instruct'\n",
    "tokenizer = AutoTokenizer.from_pretrained(model_dir, use_fast=False, trust_remote_code=True)\n",
    "tokenizer"
   ]
  },
  {
   "cell_type": "code",
   "execution_count": 6,
   "id": "4dab48eac8a609d8",
   "metadata": {
    "ExecuteTime": {
     "end_time": "2024-11-17T01:55:37.605930Z",
     "start_time": "2024-11-17T01:55:37.592881Z"
    }
   },
   "outputs": [],
   "source": [
    "# 构建数据转编码函数\n",
    "def process_func(example):\n",
    "    MAX_LENGTH = 1800\n",
    "    instruction = tokenizer(f\"<|im_start|>system\\n你是一名实体提取、意图识别和分类领域专家，请严格遵循以下任务和工作流程的指示输出结果。<|im_end|>\\n<|im_start|>user\\n{example['instruction']+example['input']}<|im_end|>\\n<|im_start|>assistant\\n\", add_special_tokens=False)\n",
    "    response = tokenizer(f\"{example['output']}\", add_special_tokens=False)\n",
    "    input_ids = instruction['input_ids'] + response['input_ids'] + [tokenizer.pad_token_id]\n",
    "    attention_mask = instruction['attention_mask'] + response['attention_mask'] + [1]\n",
    "    labels = [-100] * len(instruction['input_ids']) + response['input_ids'] + [tokenizer.pad_token_id]\n",
    "\n",
    "    if len(input_ids) > MAX_LENGTH:\n",
    "        input_ids = input_ids[:MAX_LENGTH]\n",
    "        attention_mask = attention_mask[:MAX_LENGTH]\n",
    "        labels = labels[:MAX_LENGTH]\n",
    "    return {\n",
    "        'input_ids': input_ids,\n",
    "        'attention_mask': attention_mask,\n",
    "        'labels': labels\n",
    "    }\n"
   ]
  },
  {
   "cell_type": "markdown",
   "id": "e7660f255ecfaef",
   "metadata": {},
   "source": [
    "# 数据格式化"
   ]
  },
  {
   "cell_type": "code",
   "execution_count": 7,
   "id": "1aa6a92b688f3510",
   "metadata": {
    "ExecuteTime": {
     "end_time": "2024-11-17T01:55:45.506937Z",
     "start_time": "2024-11-17T01:55:38.612881Z"
    }
   },
   "outputs": [
    {
     "data": {
      "application/vnd.jupyter.widget-view+json": {
       "model_id": "15476c4573c4433b80fa3a246f260d0e",
       "version_major": 2,
       "version_minor": 0
      },
      "text/plain": [
       "Map:   0%|          | 0/437 [00:00<?, ? examples/s]"
      ]
     },
     "metadata": {},
     "output_type": "display_data"
    },
    {
     "data": {
      "text/plain": [
       "Dataset({\n",
       "    features: ['input_ids', 'attention_mask', 'labels'],\n",
       "    num_rows: 437\n",
       "})"
      ]
     },
     "execution_count": 7,
     "metadata": {},
     "output_type": "execute_result"
    }
   ],
   "source": [
    "tokenized_id = ds.map(process_func, remove_columns=ds.column_names)\n",
    "tokenized_id"
   ]
  },
  {
   "cell_type": "code",
   "execution_count": 8,
   "id": "558184b212a19a78",
   "metadata": {
    "ExecuteTime": {
     "end_time": "2024-11-17T01:59:03.199697Z",
     "start_time": "2024-11-17T01:59:03.082664Z"
    }
   },
   "outputs": [
    {
     "data": {
      "text/plain": [
       "'<|im_start|>system\\n你是一名实体提取、意图识别和分类领域专家，请严格遵循以下任务和工作流程的指示输出结果。<|im_end|>\\n<|im_start|>user\\n你是一名实体提取、意图识别和分类领域专家，请严格遵循以下任务和工作流程的指示输出结果。\\n\\n任务：\\n1-分析用户输入问题的语义信息和语法结构。\\n2-根据分析结果，将问题中的停用词、无意图词、语气词和符号剔除。\\n3-检查是否存在剔除遗漏，是否存在错误剔除，并进行矫正。\\n4-将保留的文本进行实体、关键词、意图词、主语词、设备词识别。\\n5-识别出的词以逗号分隔。\\n6-根据分析结果、实体提取结果和给出的意图分类标签进行问题的意图分类。\\n7-根据输出格式输出。\\n\\n意图标签：商品数据，招标中标信息，政策文件信息，日常问题。\\n\\n请根据分类结果与要求的输出格式对比，存在格式问题则进行矫正后输出。\\n\\n输出格式：\\n实体识别结果：实体，实体\\n意图分类：意图标签\\n\\n请注意输出结果严格按照输出格式进行，不需要输出分析过程。不要输出实体结果。\\n\\n问题：医用DR设备都有哪些品牌？<|im_end|>\\n<|im_start|>assistant\\n实体识别结果：医用DR设备，品牌\\n意图分类：商品数据<|endoftext|>'"
      ]
     },
     "execution_count": 8,
     "metadata": {},
     "output_type": "execute_result"
    }
   ],
   "source": [
    "tokenizer.decode(tokenized_id[0]['input_ids'])"
   ]
  },
  {
   "cell_type": "code",
   "execution_count": 9,
   "id": "b1ed37edfb7a37f2",
   "metadata": {
    "ExecuteTime": {
     "end_time": "2024-11-17T02:01:29.826070Z",
     "start_time": "2024-11-17T02:01:29.818038Z"
    }
   },
   "outputs": [
    {
     "data": {
      "text/plain": [
       "'实体识别结果：医用DR设备，品牌\\n意图分类：商品数据<|endoftext|>'"
      ]
     },
     "execution_count": 9,
     "metadata": {},
     "output_type": "execute_result"
    }
   ],
   "source": [
    "# 需要过滤掉-100的位置既是输入的文本信息\n",
    "tokenizer.decode(list(filter(lambda x:x!=-100, tokenized_id[0]['labels'])))"
   ]
  },
  {
   "cell_type": "markdown",
   "id": "95b8f5e33fdf67f7",
   "metadata": {},
   "source": [
    "# 加载半精度模型"
   ]
  },
  {
   "cell_type": "code",
   "execution_count": 10,
   "id": "25c39af9d012ff68",
   "metadata": {
    "ExecuteTime": {
     "end_time": "2024-11-17T03:22:44.974149Z",
     "start_time": "2024-11-17T03:22:29.984148Z"
    }
   },
   "outputs": [
    {
     "data": {
      "application/vnd.jupyter.widget-view+json": {
       "model_id": "6e11d2b2d9df459ba39d2f4d1464e04d",
       "version_major": 2,
       "version_minor": 0
      },
      "text/plain": [
       "Loading checkpoint shards:   0%|          | 0/2 [00:00<?, ?it/s]"
      ]
     },
     "metadata": {},
     "output_type": "display_data"
    },
    {
     "data": {
      "text/plain": [
       "Qwen2ForCausalLM(\n",
       "  (model): Qwen2Model(\n",
       "    (embed_tokens): Embedding(151936, 2048)\n",
       "    (layers): ModuleList(\n",
       "      (0-35): 36 x Qwen2DecoderLayer(\n",
       "        (self_attn): Qwen2SdpaAttention(\n",
       "          (q_proj): Linear(in_features=2048, out_features=2048, bias=True)\n",
       "          (k_proj): Linear(in_features=2048, out_features=256, bias=True)\n",
       "          (v_proj): Linear(in_features=2048, out_features=256, bias=True)\n",
       "          (o_proj): Linear(in_features=2048, out_features=2048, bias=False)\n",
       "          (rotary_emb): Qwen2RotaryEmbedding()\n",
       "        )\n",
       "        (mlp): Qwen2MLP(\n",
       "          (gate_proj): Linear(in_features=2048, out_features=11008, bias=False)\n",
       "          (up_proj): Linear(in_features=2048, out_features=11008, bias=False)\n",
       "          (down_proj): Linear(in_features=11008, out_features=2048, bias=False)\n",
       "          (act_fn): SiLU()\n",
       "        )\n",
       "        (input_layernorm): Qwen2RMSNorm((2048,), eps=1e-06)\n",
       "        (post_attention_layernorm): Qwen2RMSNorm((2048,), eps=1e-06)\n",
       "      )\n",
       "    )\n",
       "    (norm): Qwen2RMSNorm((2048,), eps=1e-06)\n",
       "    (rotary_emb): Qwen2RotaryEmbedding()\n",
       "  )\n",
       "  (lm_head): Linear(in_features=2048, out_features=151936, bias=False)\n",
       ")"
      ]
     },
     "execution_count": 10,
     "metadata": {},
     "output_type": "execute_result"
    }
   ],
   "source": [
    "\n",
    "model = AutoModelForCausalLM.from_pretrained(model_dir,\n",
    "                                             trust_remote_code=True,\n",
    "                                             # device_map='auto',\n",
    "                                             torch_dtype=torch.bfloat16)\n",
    "model"
   ]
  },
  {
   "cell_type": "code",
   "execution_count": 11,
   "id": "53918f1e0ff6007b",
   "metadata": {
    "ExecuteTime": {
     "end_time": "2024-11-17T03:22:52.557149Z",
     "start_time": "2024-11-17T03:22:52.546146Z"
    }
   },
   "outputs": [],
   "source": [
    "model.enable_input_require_grads()  # 开启梯度检查点时，要执行该方法"
   ]
  },
  {
   "cell_type": "code",
   "execution_count": 12,
   "id": "b509227f1413767b",
   "metadata": {
    "ExecuteTime": {
     "end_time": "2024-11-17T03:22:53.568192Z",
     "start_time": "2024-11-17T03:22:53.563148Z"
    }
   },
   "outputs": [],
   "source": [
    "# model.dtype"
   ]
  },
  {
   "cell_type": "markdown",
   "id": "6312b81ac75bc88f",
   "metadata": {},
   "source": [
    "# 定义LoraConfig"
   ]
  },
  {
   "cell_type": "code",
   "execution_count": 3,
   "id": "a7cd18b62471bc47",
   "metadata": {
    "ExecuteTime": {
     "end_time": "2024-11-17T03:22:54.772168Z",
     "start_time": "2024-11-17T03:22:54.764147Z"
    }
   },
   "outputs": [
    {
     "data": {
      "text/plain": [
       "LoraConfig(peft_type=<PeftType.LORA: 'LORA'>, auto_mapping=None, base_model_name_or_path=None, revision=None, task_type=<TaskType.CAUSAL_LM: 'CAUSAL_LM'>, inference_mode=False, r=8, target_modules={'down_proj', 'v_proj', 'q_proj', 'k_proj', 'up_proj', 'o_proj', 'gate_proj'}, lora_alpha=32, lora_dropout=0.1, fan_in_fan_out=False, bias='none', use_rslora=False, modules_to_save=None, init_lora_weights=True, layers_to_transform=None, layers_pattern=None, rank_pattern={}, alpha_pattern={}, megatron_config=None, megatron_core='megatron.core', loftq_config={}, use_dora=False, layer_replication=None, runtime_config=LoraRuntimeConfig(ephemeral_gpu_offload=False))"
      ]
     },
     "execution_count": 3,
     "metadata": {},
     "output_type": "execute_result"
    }
   ],
   "source": [
    "\n",
    "config = LoraConfig(\n",
    "    task_type=TaskType.CAUSAL_LM,\n",
    "    # 需要训练的模型层的名字，主要就是attention部分的层，\n",
    "    target_modules=[\"q_proj\", \"k_proj\", \"v_proj\", \"o_proj\", \"gate_proj\", \"up_proj\", \"down_proj\"],\n",
    "    inference_mode=False,   # 训练模式\n",
    "    r=8,  # Lora 秩\n",
    "    lora_alpha=32,  # Lora alpha 控制了 LoRA 变换的缩放因子\n",
    "    lora_dropout=0.1,  # Lora dropout\n",
    ")\n",
    "config"
   ]
  },
  {
   "cell_type": "code",
   "execution_count": 14,
   "id": "f8ccff3d61ff5cd9",
   "metadata": {
    "ExecuteTime": {
     "end_time": "2024-11-17T03:22:56.717145Z",
     "start_time": "2024-11-17T03:22:56.138187Z"
    }
   },
   "outputs": [
    {
     "data": {
      "text/plain": [
       "LoraConfig(peft_type=<PeftType.LORA: 'LORA'>, auto_mapping=None, base_model_name_or_path='autodl-tmp/Qwen/Qwen2.5-3B-Instruct', revision=None, task_type=<TaskType.CAUSAL_LM: 'CAUSAL_LM'>, inference_mode=False, r=8, target_modules={'gate_proj', 'q_proj', 'down_proj', 'v_proj', 'k_proj', 'o_proj', 'up_proj'}, lora_alpha=32, lora_dropout=0.1, fan_in_fan_out=False, bias='none', use_rslora=False, modules_to_save=None, init_lora_weights=True, layers_to_transform=None, layers_pattern=None, rank_pattern={}, alpha_pattern={}, megatron_config=None, megatron_core='megatron.core', loftq_config={}, use_dora=False, layer_replication=None, runtime_config=LoraRuntimeConfig(ephemeral_gpu_offload=False))"
      ]
     },
     "execution_count": 14,
     "metadata": {},
     "output_type": "execute_result"
    }
   ],
   "source": [
    "model = get_peft_model(model, config)\n",
    "config"
   ]
  },
  {
   "cell_type": "code",
   "execution_count": 15,
   "id": "7ea3b11ddd474bb8",
   "metadata": {
    "ExecuteTime": {
     "end_time": "2024-11-17T03:22:57.934147Z",
     "start_time": "2024-11-17T03:22:57.923146Z"
    }
   },
   "outputs": [
    {
     "name": "stdout",
     "output_type": "stream",
     "text": [
      "trainable params: 14,966,784 || all params: 3,100,905,472 || trainable%: 0.4827\n"
     ]
    }
   ],
   "source": [
    "model.print_trainable_parameters()"
   ]
  },
  {
   "cell_type": "markdown",
   "id": "b9b6484b8f14911a",
   "metadata": {},
   "source": [
    "# 配置训练参数"
   ]
  },
  {
   "cell_type": "code",
   "execution_count": 45,
   "id": "de2dc667e9e7502b",
   "metadata": {
    "ExecuteTime": {
     "end_time": "2024-11-17T03:22:58.963549Z",
     "start_time": "2024-11-17T03:22:58.826150Z"
    }
   },
   "outputs": [],
   "source": [
    "args = TrainingArguments(\n",
    "    output_dir='./autodl-tmp/output/Qwen3b_instruct_lora_3',\n",
    "    # batch_size\n",
    "    per_device_train_batch_size=4,\n",
    "    # 梯度累加，如果你的显存比较小，那可以把 batch_size 设置小一点，梯度累加增大一些\n",
    "    gradient_accumulation_steps=4,\n",
    "    # 多少步，输出一次log\n",
    "    logging_steps=20,\n",
    "    # 顾名思义 epoch\n",
    "    num_train_epochs=20,\n",
    "    save_steps=20,\n",
    "    learning_rate=1e-4,\n",
    "    save_on_each_node=True,\n",
    "    # 梯度检查，这个一旦开启，模型就必须执行model.enable_input_require_grads()\n",
    "    gradient_checkpointing=True,\n",
    "    # save_safetensors=False\n",
    ")"
   ]
  },
  {
   "cell_type": "code",
   "execution_count": 46,
   "id": "81d5a4d4b543337b",
   "metadata": {
    "ExecuteTime": {
     "end_time": "2024-11-17T03:23:04.251155Z",
     "start_time": "2024-11-17T03:23:00.442146Z"
    }
   },
   "outputs": [],
   "source": [
    "trainer = Trainer(\n",
    "    model=model,\n",
    "    args=args,\n",
    "    train_dataset=tokenized_id,\n",
    "    data_collator=DataCollatorForSeq2Seq(tokenizer=tokenizer, padding=True)\n",
    ")"
   ]
  },
  {
   "cell_type": "code",
   "execution_count": 47,
   "id": "497fa967ce985000",
   "metadata": {
    "ExecuteTime": {
     "end_time": "2024-11-17T03:33:58.774140Z",
     "start_time": "2024-11-17T03:33:58.769136Z"
    }
   },
   "outputs": [],
   "source": [
    "# 禁用内存高效的张量收缩算法,这个函数通常用于改善大规模矩阵乘法操作的内存使用效率，特别是在使用 GPU 时。\n",
    "# torch.backends.cuda.enable_mem_efficient_sdp(False)\n"
   ]
  },
  {
   "cell_type": "code",
   "execution_count": 48,
   "id": "76df7dd4573f4f0b",
   "metadata": {
    "ExecuteTime": {
     "end_time": "2024-11-17T04:50:42.933700Z",
     "start_time": "2024-11-17T03:49:03.968759Z"
    }
   },
   "outputs": [
    {
     "data": {
      "text/html": [
       "\n",
       "    <div>\n",
       "      \n",
       "      <progress value='540' max='540' style='width:300px; height:20px; vertical-align: middle;'></progress>\n",
       "      [540/540 27:12, Epoch 19/20]\n",
       "    </div>\n",
       "    <table border=\"1\" class=\"dataframe\">\n",
       "  <thead>\n",
       " <tr style=\"text-align: left;\">\n",
       "      <th>Step</th>\n",
       "      <th>Training Loss</th>\n",
       "    </tr>\n",
       "  </thead>\n",
       "  <tbody>\n",
       "    <tr>\n",
       "      <td>20</td>\n",
       "      <td>0.013300</td>\n",
       "    </tr>\n",
       "    <tr>\n",
       "      <td>40</td>\n",
       "      <td>0.002600</td>\n",
       "    </tr>\n",
       "    <tr>\n",
       "      <td>60</td>\n",
       "      <td>0.000600</td>\n",
       "    </tr>\n",
       "    <tr>\n",
       "      <td>80</td>\n",
       "      <td>0.002200</td>\n",
       "    </tr>\n",
       "    <tr>\n",
       "      <td>100</td>\n",
       "      <td>0.001000</td>\n",
       "    </tr>\n",
       "    <tr>\n",
       "      <td>120</td>\n",
       "      <td>0.003800</td>\n",
       "    </tr>\n",
       "    <tr>\n",
       "      <td>140</td>\n",
       "      <td>0.000500</td>\n",
       "    </tr>\n",
       "    <tr>\n",
       "      <td>160</td>\n",
       "      <td>0.000200</td>\n",
       "    </tr>\n",
       "    <tr>\n",
       "      <td>180</td>\n",
       "      <td>0.001200</td>\n",
       "    </tr>\n",
       "    <tr>\n",
       "      <td>200</td>\n",
       "      <td>0.000500</td>\n",
       "    </tr>\n",
       "    <tr>\n",
       "      <td>220</td>\n",
       "      <td>0.000400</td>\n",
       "    </tr>\n",
       "    <tr>\n",
       "      <td>240</td>\n",
       "      <td>0.000900</td>\n",
       "    </tr>\n",
       "    <tr>\n",
       "      <td>260</td>\n",
       "      <td>0.000200</td>\n",
       "    </tr>\n",
       "    <tr>\n",
       "      <td>280</td>\n",
       "      <td>0.001500</td>\n",
       "    </tr>\n",
       "    <tr>\n",
       "      <td>300</td>\n",
       "      <td>0.000300</td>\n",
       "    </tr>\n",
       "    <tr>\n",
       "      <td>320</td>\n",
       "      <td>0.000100</td>\n",
       "    </tr>\n",
       "    <tr>\n",
       "      <td>340</td>\n",
       "      <td>0.000100</td>\n",
       "    </tr>\n",
       "    <tr>\n",
       "      <td>360</td>\n",
       "      <td>0.000000</td>\n",
       "    </tr>\n",
       "    <tr>\n",
       "      <td>380</td>\n",
       "      <td>0.000000</td>\n",
       "    </tr>\n",
       "    <tr>\n",
       "      <td>400</td>\n",
       "      <td>0.000000</td>\n",
       "    </tr>\n",
       "    <tr>\n",
       "      <td>420</td>\n",
       "      <td>0.000000</td>\n",
       "    </tr>\n",
       "    <tr>\n",
       "      <td>440</td>\n",
       "      <td>0.000000</td>\n",
       "    </tr>\n",
       "    <tr>\n",
       "      <td>460</td>\n",
       "      <td>0.000000</td>\n",
       "    </tr>\n",
       "    <tr>\n",
       "      <td>480</td>\n",
       "      <td>0.000000</td>\n",
       "    </tr>\n",
       "    <tr>\n",
       "      <td>500</td>\n",
       "      <td>0.000000</td>\n",
       "    </tr>\n",
       "    <tr>\n",
       "      <td>520</td>\n",
       "      <td>0.000000</td>\n",
       "    </tr>\n",
       "    <tr>\n",
       "      <td>540</td>\n",
       "      <td>0.000000</td>\n",
       "    </tr>\n",
       "  </tbody>\n",
       "</table><p>"
      ],
      "text/plain": [
       "<IPython.core.display.HTML object>"
      ]
     },
     "metadata": {},
     "output_type": "display_data"
    },
    {
     "data": {
      "text/plain": [
       "TrainOutput(global_step=540, training_loss=0.0011012348680567272, metrics={'train_runtime': 1635.5435, 'train_samples_per_second': 5.344, 'train_steps_per_second': 0.33, 'total_flos': 4.324172608246579e+16, 'train_loss': 0.0011012348680567272, 'epoch': 19.636363636363637})"
      ]
     },
     "execution_count": 48,
     "metadata": {},
     "output_type": "execute_result"
    }
   ],
   "source": [
    "# 开始训练\n",
    "trainer.train()"
   ]
  },
  {
   "cell_type": "markdown",
   "id": "e36f505fd6e8b9b6",
   "metadata": {},
   "source": [
    "# 加载 lora 权重推理\n",
    "## 合并加载模型"
   ]
  },
  {
   "cell_type": "code",
   "execution_count": 4,
   "id": "f05eba7fb018b3b6",
   "metadata": {},
   "outputs": [
    {
     "data": {
      "application/vnd.jupyter.widget-view+json": {
       "model_id": "3165ed3f240f411dbb629232873a8654",
       "version_major": 2,
       "version_minor": 0
      },
      "text/plain": [
       "Loading checkpoint shards:   0%|          | 0/2 [00:00<?, ?it/s]"
      ]
     },
     "metadata": {},
     "output_type": "display_data"
    }
   ],
   "source": [
    "device = torch.device('cuda')\n",
    "model_path = 'autodl-tmp/Qwen/Qwen2.5-3B-Instruct'\n",
    "lora_path = 'autodl-tmp/output/Qwen3b_instruct_lora_3/checkpoint-540'\n",
    "tokenizer_ = AutoTokenizer.from_pretrained(model_path)\n",
    "model_init = AutoModelForCausalLM.from_pretrained(model_path, torch_dtype=torch.bfloat16).eval().to(device)\n",
    "model_lora = PeftModel.from_pretrained(model_init, model_id=lora_path, config=config)"
   ]
  },
  {
   "cell_type": "code",
   "execution_count": null,
   "id": "c5f04582-624a-42d6-8d00-99fc90d25b4a",
   "metadata": {},
   "outputs": [],
   "source": []
  },
  {
   "cell_type": "code",
   "execution_count": 5,
   "id": "1260a291d39d8735",
   "metadata": {
    "scrolled": true
   },
   "outputs": [
    {
     "data": {
      "application/vnd.jupyter.widget-view+json": {
       "model_id": "1894d2157eaf4bb0baf3b33d644934cf",
       "version_major": 2,
       "version_minor": 0
      },
      "text/plain": [
       "0it [00:00, ?it/s]"
      ]
     },
     "metadata": {},
     "output_type": "display_data"
    },
    {
     "name": "stderr",
     "output_type": "stream",
     "text": [
      "Starting from v4.46, the `logits` model output will have the same type as the model (except at train time, where it will always be FP32)\n"
     ]
    },
    {
     "name": "stdout",
     "output_type": "stream",
     "text": [
      "question: 【综合采购】上海市公共资源交易中心综合采购专家库管理实施规则(试行)的发布时间是什么？\n",
      "response 实体识别结果：综合采购，上海市公共资源交易中心综合采购专家库管理实施规则(试行)，发布时间\n",
      "意图分类：政策文件信息\n",
      "question: 【综合采购】上海市公共资源交易中心综合采购专家库管理实施规则(试行)的信息来源是哪里？\n",
      "response 实体识别结果：综合采购，上海市公共资源交易中心，综合采购专家库管理实施规则(试行)，信息来源\n",
      "意图分类：政策文件信息\n",
      "question: 在招投标工作期间，工作人员有哪些行为是被禁止的？\n",
      "response 实体识别结果：工作人员，行为，禁止\n",
      "意图分类：政策文件信息\n",
      "question: 保险公司股权管理办法(2018)发布于那一年？\n",
      "response 实体识别结果：保险公司股权管理办法(2018)，发布，年份\n",
      "意图分类：政策文件信息\n",
      "question: 怎么和陌生人开启话题？\n",
      "response 实体识别结果：陌生人，开启话题\n",
      "意图分类：日常问题\n",
      "question: 如果会员违反了配额最大持有量限制制度，交易所会采取哪些措施？\n",
      "response 实体识别结果：会员，配额最大持有量限制制度，交易所，措施\n",
      "意图分类：政策文件信息\n",
      "question: 《财政部关于促进政府采购公平竞争优化营商环境的通知》的信息来源是哪里？\n",
      "response 实体识别结果：《财政部关于促进政府采购公平竞争优化营商环境的通知》，信息来源\n",
      "意图分类：政策文件信息\n",
      "question: 【产权交易】上海联合产权交易所有限公司企业非公开协议增资操作流程（沪联产交〔2019〕77号）的信息来源是哪里？\n",
      "response 实体识别结果：产权交易，上海联合产权交易所有限公司，企业非公开协议增资操作流程，沪联产交〔2019〕77号，信息来源\n",
      "意图分类：政策文件信息\n",
      "question: 医院一代测序仪属于什么类型的商品？\n",
      "response 实体识别结果：医院一代测序仪，类型，商品\n",
      "意图分类：商品数据\n",
      "question: 今天天气怎么样？\n",
      "response 实体识别结果：天气\n",
      "意图分类：日常问题\n",
      "question: 你能给我推荐一本好书吗？\n",
      "response 实体识别结果：好书\n",
      "意图分类：日常问题\n",
      "question: 流式细胞仪项目的中标金额最低是多少？\n",
      "response 实体识别结果：流式细胞仪项目，中标金额最低\n",
      "意图分类：招标中标信息\n",
      "question: 徐汇区天平街道社区卫生服务中心物业管理服务的中标金额是多少？ \n",
      "response 实体识别结果：徐汇区天平街道社区卫生服务中心物业管理服务，中标金额\n",
      "意图分类：招标中标信息\n",
      "question: 《财政部、民政部、中国残疾人联合会关于促进残疾人就业政府采购政策的通知》发布的具体时间是什么时候？\n",
      "response 实体识别结果：《财政部、民政部、中国残疾人联合会关于促进残疾人就业政府采购政策的通知》，发布时间\n",
      "意图分类：政策文件信息\n",
      "question: 在招投标过程中，是否允许任何人以指定、授意、暗示等方式干预投标人自主选择保函出具机构？\n",
      "response 实体识别结果：招投标，干预，投标人，保函出具机构\n",
      "意图分类：政策文件信息\n",
      "question: 高清腹腔镜系统都有哪些供应商？\n",
      "response 实体识别结果：高清腹腔镜系统，供应商\n",
      "意图分类：商品数据\n",
      "question: 财政部门在建立健全行政事业资产管理机构方面有哪些具体要求？\n",
      "response 实体识别结果：财政部门，建立健全行政事业资产管理机构，具体要求\n",
      "意图分类：政策文件信息\n",
      "question: CT机的品牌有哪些？\n",
      "response 实体识别结果：CT机，品牌\n",
      "意图分类：商品数据\n",
      "question: 怎么做一道美味的番茄炒蛋？\n",
      "response 实体识别结果：番茄炒蛋\n",
      "意图分类：日常问题\n",
      "question: 上海市第一人民医院重症医学病房建设项目（四）的预算金额是多少？\n",
      "response 实体识别结果：上海市第一人民医院重症医学病房建设项目（四），预算金额\n",
      "意图分类：招标中标信息\n",
      "question: 哪些具体行为会被视为违反《上海环境能源交易所碳排放交易信息管理办法》？\n",
      "response 实体识别结果：《上海环境能源交易所碳排放交易信息管理办法》，具体行为，违反\n",
      "意图分类：政策文件信息\n",
      "question: 海市第六人民医院徐汇院区离心式冷水机组更新及安装项目的预算金额是多少？\n",
      "response 实体识别结果：海市第六人民医院徐汇院区，离心式冷水机组更新及安装项目，预算金额\n",
      "意图分类：招标中标信息\n",
      "question: 怎么去除衣服上的污渍？\n",
      "response 实体识别结果：去除，衣服，污渍\n",
      "意图分类：日常问题\n",
      "question: 超广角血流光学相干断层扫描仪的中标供应商是谁？\n",
      "response 实体识别结果：超广角血流光学相干断层扫描仪，中标供应商\n",
      "意图分类：招标中标信息\n",
      "question: 在行政事业单位资产管理中，各级财政部门、主管部门和行政事业单位应如何加强组织领导？\n",
      "response 实体识别结果：行政事业单位资产管理，各级财政部门，主管部门，行政事业单位，加强组织领导\n",
      "意图分类：政策文件信息\n",
      "question: 交易中心及交易平台开发运维单位的工作人员在履行职责过程中泄露信息，会面临什么法律责任？\n",
      "response 实体识别结果：交易中心及交易平台开发运维单位，工作人员，履行职责过程，泄露信息，法律责任\n",
      "意图分类：政策文件信息\n",
      "question: 哪种宠物比较好养？\n",
      "response 实体识别结果：宠物，好养\n",
      "意图分类：日常问题\n",
      "question: 上海市疾病预防控制中心全自动蛋白质分离纯化系统项目的预算金额是多少？\n",
      "response 实体识别结果：上海市疾病预防控制中心全自动蛋白质分离纯化系统项目，预算金额\n",
      "意图分类：招标中标信息\n",
      "question: 光学干涉断层成像移动系统有哪些品牌？\n",
      "response 实体识别结果：光学干涉断层成像移动系统，品牌\n",
      "意图分类：商品数据\n",
      "question: 有什么适合周末的活动？\n",
      "response 实体识别结果：周末，活动\n",
      "意图分类：日常问题\n",
      "question: 《财政部关于开展政府采购意向公开工作的通知》的发布时间是什么？\n",
      "response 实体识别结果：《财政部关于开展政府采购意向公开工作的通知》，发布时间\n",
      "意图分类：政策文件信息\n",
      "question: 复旦大学附属金山医院职工疗休养项目的中标金额是多少？ \n",
      "response 实体识别结果：复旦大学附属金山医院职工疗休养项目，中标金额\n",
      "意图分类：招标中标信息\n",
      "question: 高清腹腔镜系统是否有明确报价？\n",
      "response 实体识别结果：高清腹腔镜系统，明确报价\n",
      "意图分类：商品数据\n",
      "question: 《财政部关于加强政府采购活动内部控制管理的指导意见》信息来源是哪里？\n",
      "response 实体识别结果：《财政部关于加强政府采购活动内部控制管理的指导意见》，信息来源\n",
      "意图分类：政策文件信息\n",
      "question: 哪些人可以被视为残疾人福利性单位中的“残疾人”？\n",
      "response 实体识别结果：残疾人福利性单位，残疾人\n",
      "意图分类：政策文件信息\n",
      "question: 医院一代测序仪的价格范围是哪些？\n",
      "response 实体识别结果：医院一代测序仪，价格范围\n",
      "意图分类：商品数据\n",
      "question: 你能给我讲个笑话吗？\n",
      "response 实体识别结果：笑话\n",
      "意图分类：日常问题\n",
      "question: 我们单位想申请成为享受政府采购支持政策的残疾人福利性单位，需要满足哪些具体条件？\n",
      "response 实体识别结果：残疾人福利性单位，申请，具体条件\n",
      "意图分类：政策文件信息\n",
      "question: 你知道哪些著名的旅游景点？\n",
      "response 实体识别结果：旅游景点\n",
      "意图分类：日常问题\n",
      "question: 《财政部关于加强政府采购活动内部控制管理的指导意见》发布于哪一年？\n",
      "response 实体识别结果：《财政部关于加强政府采购活动内部控制管理的指导意见》，发布，年份\n",
      "意图分类：政策文件信息\n",
      "question: 如果违规行为同时构成违约，相关主体需要承担怎样的责任？\n",
      "response 实体识别结果：违规行为，违约，相关主体，责任\n",
      "意图分类：政策文件信息\n",
      "question: 不动产拍卖规程是哪个部门发布的？\n",
      "response 实体识别结果：不动产拍卖规程，部门\n",
      "意图分类：政策文件信息\n",
      "question: 交互式多媒体教学培训投影仪都有哪些品牌？\n",
      "response 实体识别结果：交互式多媒体教学培训投影仪，品牌\n",
      "意图分类：商品数据\n",
      "question: 【产权交易】上海联合产权交易所有限公司企业非公开协议增资操作流程（沪联产交〔2019〕77号）的发布时间是什么？\n",
      "response 实体识别结果：产权交易，上海联合产权交易所有限公司，企业非公开协议增资操作流程，发布时间\n",
      "意图分类：政策文件信息\n",
      "question: 上海交通大学医学院附属瑞金医院采购的多模态OCT影像系统品牌是什么？\n",
      "response 实体识别结果：上海交通大学医学院附属瑞金医院，多模态OCT影像系统，品牌\n",
      "意图分类：商品数据\n",
      "question: 在监控期间，招投标工作人员能否接待与业务无关的人员？\n",
      "response 实体识别结果：监控期间，招投标工作人员，接待，与业务无关的人员\n",
      "意图分类：政策文件信息\n",
      "question: 康复医院虚拟现实训练系统有哪些供应商？\n",
      "response 实体识别结果：康复医院虚拟现实训练系统，供应商\n",
      "意图分类：商品数据\n",
      "question: 哪些主体如果违反《上海环境能源交易所碳排放交易信息管理办法》会被要求限期改正？\n",
      "response 实体识别结果：《上海环境能源交易所碳排放交易信息管理办法》，主体，限期改正\n",
      "意图分类：政策文件信息\n",
      "question: 最近有什么好听的歌曲？\n",
      "response 实体识别结果：最近，好听，歌曲\n",
      "意图分类：日常问题\n",
      "question: 《财政部、民政部、中国残疾人联合会关于促进残疾人就业政府采购政策的通知》信息来源是哪里？\n",
      "response 实体识别结果：《财政部、民政部、中国残疾人联合会关于促进残疾人就业政府采购政策的通知》，信息来源\n",
      "意图分类：政策文件信息\n",
      "question: 《财政部关于促进政府采购公平竞争优化营商环境的通知》是什么时候发布的？\n",
      "response 实体识别结果：《财政部关于促进政府采购公平竞争优化营商环境的通知》，发布时间\n",
      "意图分类：政策文件信息\n",
      "question: 你知道宇宙有多大吗？\n",
      "response 实体识别结果：宇宙，大小\n",
      "意图分类：日常问题\n",
      "question: 如果对投标电子保函的相关规定有疑问，应该向哪个机构咨询解释？\n",
      "response 实体识别结果：投标电子保函，相关规定，咨询解释\n",
      "意图分类：政策文件信息\n",
      "question: 《财政部关于进一步加强政府采购需求和履约验收管理的指导意见》信息来源是哪里？\n",
      "response 实体识别结果：《财政部关于进一步加强政府采购需求和履约验收管理的指导意见》，信息来源\n",
      "意图分类：政策文件信息\n",
      "question: 世界上最高的山峰是哪座？\n",
      "response 实体识别结果：世界最高山峰\n",
      "意图分类：日常问题\n",
      "question: 如何提高行政事业单位资产管理干部队伍的素质和能力？\n",
      "response 实体识别结果：行政事业单位资产管理干部队伍，素质和能力\n",
      "意图分类：政策文件信息\n",
      "question: 医院高级综合模拟人的最低价格是多少？\n",
      "response 实体识别结果：医院高级综合模拟人，最低价格\n",
      "意图分类：商品数据\n",
      "question: 失眠了怎么办？\n",
      "response 实体识别结果：失眠，怎么办\n",
      "意图分类：日常问题\n",
      "question: 超广角血流光学相干断层扫描仪采购人是谁？\n",
      "response 实体识别结果：超广角血流光学相干断层扫描仪，采购人\n",
      "意图分类：招标中标信息\n",
      "question: 光学干涉断层成像移动系统的价格范围是多少？\n",
      "response 实体识别结果：光学干涉断层成像移动系统，价格范围\n",
      "意图分类：商品数据\n",
      "question: 医院高级综合模拟人属于什么类型的商品？\n",
      "response 实体识别结果：医院高级综合模拟人，类型，商品\n",
      "意图分类：商品数据\n",
      "question: 结算银行未履行相关义务时，交易所可以采取哪些具体措施？\n",
      "response 实体识别结果：结算银行，相关义务，交易所，具体措施\n",
      "意图分类：政策文件信息\n",
      "question: 上海交通大学医学院附属上海儿童医学中心的采购联系人和联系方式是什么？ \n",
      "response 实体识别结果：上海交通大学医学院附属上海儿童医学中心，采购联系人，联系方式\n",
      "意图分类：商品数据\n",
      "question: 数字乳腺X射线摄影系统的产品参数什么？\n",
      "response 实体识别结果：数字乳腺X射线摄影系统，产品参数\n",
      "意图分类：商品数据\n",
      "question: 投标人在申请办理投标电子保函时，如果提供的资料不真实，会有什么后果？\n",
      "response 实体识别结果：投标人，申请办理投标电子保函，提供资料，不真实，后果\n",
      "意图分类：政策文件信息\n",
      "question: 保函出具机构及交易平台开发运维单位的工作人员在哪些情况下会被交易中心终止合作关系并要求承担赔偿责任？\n",
      "response 实体识别结果：保函出具机构及交易平台开发运维单位，工作人员，交易中心，终止合作关系，要求承担赔偿责任\n",
      "意图分类：政策文件信息\n",
      "question: 上海市静安区中医医院X射线计算机扫描系统采购项目的中标金额是多少？\n",
      "response 实体识别结果：上海市静安区中医医院X射线计算机扫描系统采购项目，中标金额\n",
      "意图分类：招标中标信息\n",
      "question: 步态训练跑台有哪些供应商可以提供？\n",
      "response 实体识别结果：步态训练跑台，供应商\n",
      "意图分类：商品数据\n",
      "question: CT机医疗设备的供应商有哪些？\n",
      "response 实体识别结果：CT机医疗设备，供应商\n",
      "意图分类：商品数据\n",
      "question: 减肥有什么好方法？\n",
      "response 实体识别结果：减肥，好方法\n",
      "意图分类：日常问题\n",
      "question: 参加政府采购活动时，残疾人福利性单位需要提供哪些证明材料？\n",
      "response 实体识别结果：参加政府采购活动，残疾人福利性单位，证明材料\n",
      "意图分类：政策文件信息\n",
      "question: 如何提高记忆力？\n",
      "response 实体识别结果：提高记忆力\n",
      "意图分类：日常问题\n",
      "question: 青浦区中心医院医疗设备购置项目的预算金额是多少？\n",
      "response 实体识别结果：青浦区中心医院医疗设备购置项目，预算金额\n",
      "意图分类：招标中标信息\n",
      "question: 上海乐伊物业管理有限公司中标过哪些项目？\n",
      "response 实体识别结果：上海乐伊物业管理有限公司，中标，项目\n",
      "意图分类：招标中标信息\n",
      "question: 医院一代测序仪的供应商是上海的有哪些？\n",
      "response 实体识别结果：医院一代测序仪，供应商，上海\n",
      "意图分类：商品数据\n",
      "question: 《【碳排放权】上海环境能源交易所碳排放交易违规违约处理办法（试行）》信息来源是哪里？\n",
      "response 实体识别结果：《碳排放权》，上海环境能源交易所，碳排放交易违规违约处理办法（试行），信息来源\n",
      "意图分类：政策文件信息\n",
      "question: 残疾人健康体检项目的中标供应商都有哪些？\n",
      "response 实体识别结果：残疾人健康体检项目，中标供应商\n",
      "意图分类：招标中标信息\n",
      "question: 在行政事业单位资产管理中，各级财政部门和主管部门的具体职责是什么？\n",
      "response 实体识别结果：行政事业单位资产管理，各级财政部门，主管部门，具体职责\n",
      "意图分类：政策文件信息\n",
      "question: 康复医院虚拟现实训练系统有哪些品牌？\n",
      "response 实体识别结果：康复医院虚拟现实训练系统，品牌\n",
      "意图分类：商品数据\n",
      "question: 怎样快速缓解压力？\n",
      "response 实体识别结果：缓解压力\n",
      "意图分类：日常问题\n",
      "question: 上海市第七人民医院医疗器械清洗灭菌服务项目的服务时间是多久？ \n",
      "response 实体识别结果：上海市第七人民医院医疗器械清洗灭菌服务项目，服务时间\n",
      "意图分类：招标中标信息\n",
      "question: 大金中央空调一拖三3匹家用客厅vrv变频风管机商用酒店多联机的供应商名称是什么？\n",
      "response 实体识别结果：大金中央空调一拖三3匹家用客厅vrv变频风管机商用酒店多联机，供应商名称\n",
      "意图分类：商品数据\n",
      "question: 步态训练跑台的价格最低是多少？\n",
      "response 实体识别结果：步态训练跑台，价格最低\n",
      "意图分类：商品数据\n",
      "question: 普陀区卫生健康委员会的采购代理人是谁？\n",
      "response 实体识别结果：普陀区卫生健康委员会，采购代理人\n",
      "意图分类：招标中标信息\n",
      "question: 有什么好看的电影推荐？\n",
      "response 实体识别结果：好看，电影，推荐\n",
      "意图分类：日常问题\n",
      "question: 光学干涉断层成像移动系统的产品参数是什么？\n",
      "response 实体识别结果：光学干涉断层成像移动系统，产品参数\n",
      "意图分类：商品数据\n",
      "question: 哪些公司中标了流式细胞仪项目？\n",
      "response 实体识别结果：流式细胞仪项目\n",
      "意图分类：招标中标信息\n",
      "question: 《财政部关于进一步加强政府采购需求和履约验收管理的指导意见》的发布时间是哪一年？\n",
      "response 实体识别结果：《财政部关于进一步加强政府采购需求和履约验收管理的指导意见》，发布时间\n",
      "意图分类：政策文件信息\n",
      "question: 高清腹腔镜系统都有哪些品牌？\n",
      "response 实体识别结果：高清腹腔镜系统，品牌\n",
      "意图分类：商品数据\n",
      "question: 保险公司股权管理办法(2018)信息来源是否是上海市？\n",
      "response 实体识别结果：保险公司股权管理办法(2018)，信息来源，上海市\n",
      "意图分类：政策文件信息\n",
      "question: 行政事业单位所属企业是否需要向国家上交国有资本经营收益？\n",
      "response 实体识别结果：行政事业单位所属企业，国有资本经营收益\n",
      "意图分类：政策文件信息\n",
      "question: 老年人健康体检项目的中标供应商都有哪些？\n",
      "response 实体识别结果：老年人健康体检项目，中标供应商\n",
      "意图分类：招标中标信息\n",
      "question: 《财政部关于开展政府采购意向公开工作的通知》的信息来源是什么？\n",
      "response 实体识别结果：《财政部关于开展政府采购意向公开工作的通知》，信息来源\n",
      "意图分类：政策文件信息\n",
      "question: 上海市黄浦区淮海中路街道社区卫生服务中心的保安服务项目中标金额是多少？\n",
      "response 实体识别结果：上海市黄浦区淮海中路街道社区卫生服务中心，保安服务项目，中标金额\n",
      "意图分类：招标中标信息\n",
      "question: 《不动产拍卖规程》是什么时间发布的？\n",
      "response 实体识别结果：《不动产拍卖规程》，发布时间\n",
      "意图分类：政策文件信息\n",
      "question: 你知道我喜欢什么颜色吗？\n",
      "response 实体识别结果：喜欢，颜色\n",
      "意图分类：日常问题\n",
      "question: 彩色多普勒超声诊断仪的中标金额最低是多少？ \n",
      "response 实体识别结果：彩色多普勒超声诊断仪，中标金额最低\n",
      "意图分类：招标中标信息\n",
      "question: 历史上最伟大的科学家是谁？\n",
      "response 实体识别结果：历史上最伟大，科学家\n",
      "意图分类：日常问题\n",
      "question: 《【碳排放权】上海环境能源交易所碳排放交易违规违约处理办法（试行）》发布时间是什么？\n",
      "response 实体识别结果：《碳排放权》，上海环境能源交易所，碳排放交易违规违约处理办法（试行），发布时间\n",
      "意图分类：政策文件信息\n",
      "question: 你能帮我写一首诗吗？\n",
      "response 实体识别结果：写诗\n",
      "意图分类：日常问题\n"
     ]
    }
   ],
   "source": [
    "datas = pd.read_excel('意图识别数据集-eval(1).xlsx') \n",
    "questions = datas['问题']\n",
    "labels = datas['问题分类']\n",
    "# bodys = datas['提取的实体']\n",
    "# sublabel = set(labels.values.tolist())\n",
    "file = '实体提取_意图分类结果_lora微调_1126_4.csv'\n",
    "for question, label in tqdm(zip(questions, labels), ncols=len(questions)) :\n",
    "    template = f\"\"\"\n",
    "            你是一名实体提取、意图识别和分类领域专家，请严格遵循以下任务和工作流程的指示输出结果。\n",
    "            \n",
    "            任务：\n",
    "            1-分析输入问题的文本和语法结构。\n",
    "            2-根据分析结果，将问题中的停用词、无意图词、语气词和符号剔除。\n",
    "            3-检查是否存在剔除遗漏，是否存在错误剔除，并进行矫正。\n",
    "            4-将保留的文本进行实体、关键词、意图词、主语词、设备词识别。\n",
    "            5-识别出的词以逗号分隔。\n",
    "            6-根据分析结果、实体提取结果和给出的意图分类标签进行问题的意图分类。\n",
    "            7-根据输出格式输出。\n",
    "    \n",
    "            意图标签：商品数据，招标中标信息，政策文件信息，日常问题。\n",
    "            \n",
    "            请根据分类结果与要求的输出格式对比，存在格式问题则进行矫正后输出。\n",
    "                \n",
    "            输出格式：\n",
    "                实体识别结果：实体，实体\n",
    "                意图分类：意图标签\n",
    "    \n",
    "            请注意输出结果严格按照输出格式进行，不需要输出分析过程。不要输出实体结果\n",
    "    \n",
    "            问题：{question}\"\"\"\n",
    "    messages = [\n",
    "                    # {'role':'system', 'content': template},\n",
    "                    {'role':'user', 'content': template}\n",
    "                    ]\n",
    "        # print('打印messages内容：', messages)\n",
    "        # print('打印messages类型：', type(messages))\n",
    "    text = tokenizer_.apply_chat_template(\n",
    "        messages,\n",
    "        tokenize=False,\n",
    "        add_generation_prompt=True\n",
    "    )\n",
    "    model_inputs = tokenizer_([text], return_tensors='pt').to(device)\n",
    "    generated_ids = model_lora.generate(\n",
    "        **model_inputs,\n",
    "        max_new_tokens=512\n",
    "    )\n",
    "    generated_ids = [\n",
    "        output_ids[len(input_ids):] for input_ids, output_ids in zip(model_inputs.input_ids, generated_ids)\n",
    "    ]\n",
    "    response = tokenizer_.batch_decode(generated_ids, skip_special_tokens=True)[0]\n",
    "    print('question:', question)\n",
    "    print('response', response)\n",
    "    body_ = response.split('\\n')[0].split('实体识别结果：')[-1].replace(' ','')\n",
    "    emition = response.split('意图分类：')[-1].replace(' ','')\n",
    "    data_ = [question, body_, label, emition]\n",
    "    with open(file, 'a', newline='', encoding='utf-8') as f:\n",
    "        fw = csv.writer(f)\n",
    "        if not os.path.getsize(file):\n",
    "            header = ['问题', '提取的实体', '问题分类', '意图分类']\n",
    "            fw.writerow(header)\n",
    "        fw.writerow(data_)"
   ]
  },
  {
   "cell_type": "code",
   "execution_count": null,
   "id": "71d99ade-ade0-4073-9d4e-9e3573d07dd7",
   "metadata": {},
   "outputs": [],
   "source": []
  }
 ],
 "metadata": {
  "kernelspec": {
   "display_name": "Python 3 (ipykernel)",
   "language": "python",
   "name": "python3"
  },
  "language_info": {
   "codemirror_mode": {
    "name": "ipython",
    "version": 3
   },
   "file_extension": ".py",
   "mimetype": "text/x-python",
   "name": "python",
   "nbconvert_exporter": "python",
   "pygments_lexer": "ipython3",
   "version": "3.10.8"
  }
 },
 "nbformat": 4,
 "nbformat_minor": 5
}
