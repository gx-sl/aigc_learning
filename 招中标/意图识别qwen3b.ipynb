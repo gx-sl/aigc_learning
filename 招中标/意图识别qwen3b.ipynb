{
 "cells": [
  {
   "cell_type": "code",
   "execution_count": 1,
   "id": "6bc3c1bf-9c83-45ce-b3a0-0b574740734c",
   "metadata": {},
   "outputs": [],
   "source": [
    "import gradio as gr\n",
    "from typing import Optional, List, Any\n",
    "import torch\n",
    "from langchain.embeddings.huggingface import HuggingFaceEmbeddings\n",
    "from langchain.vectorstores import Chroma\n",
    "from langchain.llms.base import LLM\n",
    "from langchain.callbacks.manager import CallbackManagerForLLMRun\n",
    "from transformers import AutoTokenizer, AutoModelForCausalLM, GenerationConfig, TextIteratorStreamer, AutoProcessor\n",
    "# from modelscope import AutoTokenizer, AutoModelForCausalLM, GenerationConfig\n",
    "from langchain import HuggingFacePipeline\n",
    "from langchain.chains import RetrievalQA, ConversationalRetrievalChain\n",
    "from langchain.prompts import PromptTemplate, ChatPromptTemplate, MessagesPlaceholder\n",
    "from langchain_core.outputs.generation import GenerationChunk\n",
    "from torch import device\n",
    "import time\n",
    "from tqdm import tqdm\n",
    "import csv\n",
    "import pandas as pd\n",
    "import re\n",
    "import os\n",
    "import json\n",
    "from langchain.memory import ConversationBufferMemory\n",
    "from langchain_community.chat_message_histories import ChatMessageHistory\n",
    "from langchain.chains.history_aware_retriever import create_history_aware_retriever\n",
    "\n",
    "from langchain.chains.retrieval import create_retrieval_chain\n",
    "from langchain_core.runnables import RunnableWithMessageHistory\n",
    "from langchain.chains.combine_documents import create_stuff_documents_chain\n",
    "\n",
    "\n",
    "# from threading import Thread\n",
    "import warnings\n",
    "warnings.filterwarnings(\"ignore\")"
   ]
  },
  {
   "cell_type": "code",
   "execution_count": 2,
   "id": "bed6ecb3-e17d-40e5-8f61-1a50211f4ff5",
   "metadata": {},
   "outputs": [],
   "source": [
    "device = torch.device('cuda')"
   ]
  },
  {
   "cell_type": "code",
   "execution_count": 3,
   "id": "aba20a98-3ba9-463a-a641-2c902d81fb4e",
   "metadata": {},
   "outputs": [
    {
     "data": {
      "application/vnd.jupyter.widget-view+json": {
       "model_id": "4fc4e19362e042c7aa8c4155b0a89a14",
       "version_major": 2,
       "version_minor": 0
      },
      "text/plain": [
       "Loading checkpoint shards:   0%|          | 0/2 [00:00<?, ?it/s]"
      ]
     },
     "metadata": {},
     "output_type": "display_data"
    },
    {
     "name": "stdout",
     "output_type": "stream",
     "text": [
      "模型加载完成！\n"
     ]
    }
   ],
   "source": [
    "# 加载模型\n",
    "model_cache_path = r'autodl-tmp/Qwen/Qwen2___5-3B-Instruct'\n",
    "tokenizer = AutoTokenizer.from_pretrained(\n",
    "        pretrained_model_name_or_path=model_cache_path,\n",
    "        trust_remote_code=True,\n",
    "    )\n",
    "model = AutoModelForCausalLM.from_pretrained(\n",
    "        pretrained_model_name_or_path=model_cache_path,\n",
    "        # device_map='balanced_low_0',\n",
    "        trust_remote_code=True,\n",
    "        torch_dtype=torch.bfloat16,\n",
    "        temperature=0\n",
    "        ).to(device)\n",
    "model = model.eval()\n",
    "model.generation_config = GenerationConfig.from_pretrained(\n",
    "    model_cache_path,\n",
    "    trust_remote_code=True\n",
    ")\n",
    "# 可指定不同的生成长度、top_p等相关超参\n",
    "processor = AutoProcessor.from_pretrained(model_cache_path)\n",
    "print('模型加载完成！')\n"
   ]
  },
  {
   "cell_type": "code",
   "execution_count": null,
   "id": "3aa618b9-0edb-4ab5-b4df-9bebaeb0bd34",
   "metadata": {},
   "outputs": [],
   "source": []
  },
  {
   "cell_type": "code",
   "execution_count": 4,
   "id": "bead0953-e79c-4a31-87c8-1bf0e6dbbcdd",
   "metadata": {
    "scrolled": true
   },
   "outputs": [
    {
     "name": "stderr",
     "output_type": "stream",
     "text": [
      "0it [00:00, ?it/s]Starting from v4.46, the `logits` model output will have the same type as the model (except at train time, where it will always be FP32)\n",
      "1it [00:00,  1.91it/s]"
     ]
    },
    {
     "name": "stdout",
     "output_type": "stream",
     "text": [
      "question: 医用DR设备都有哪些品牌？\n",
      "response 意图分类：商品数据\n"
     ]
    },
    {
     "name": "stderr",
     "output_type": "stream",
     "text": [
      "3it [00:00,  3.64it/s]"
     ]
    },
    {
     "name": "stdout",
     "output_type": "stream",
     "text": [
      "question: 动态三维脊柱姿态测量分析装置北京的供应商有哪些品牌？\n",
      "response 意图分类：商品数据\n",
      "question: 医院住院大楼生活热水系统改造有哪些品牌？\n",
      "response 意图分类：商品数据\n"
     ]
    },
    {
     "name": "stderr",
     "output_type": "stream",
     "text": [
      "4it [00:01,  4.07it/s]"
     ]
    },
    {
     "name": "stdout",
     "output_type": "stream",
     "text": [
      "question: UPS改造设备的供应商地址在哪里？\n",
      "response 意图分类：商品数据\n"
     ]
    },
    {
     "name": "stderr",
     "output_type": "stream",
     "text": [
      "5it [00:01,  4.34it/s]"
     ]
    },
    {
     "name": "stdout",
     "output_type": "stream",
     "text": [
      "question: 步态训练跑台的价格范围是多少？\n",
      "response 意图分类：商品数据\n"
     ]
    },
    {
     "name": "stderr",
     "output_type": "stream",
     "text": [
      "7it [00:01,  4.66it/s]"
     ]
    },
    {
     "name": "stdout",
     "output_type": "stream",
     "text": [
      "question: 移动式摄影X线机的供应商省份有哪些？\n",
      "response 意图分类：商品数据\n",
      "question: 互联网医院信息化建设的供应商城市有哪些？\n",
      "response 意图分类：商品数据\n"
     ]
    },
    {
     "name": "stderr",
     "output_type": "stream",
     "text": [
      "8it [00:01,  4.72it/s]"
     ]
    },
    {
     "name": "stdout",
     "output_type": "stream",
     "text": [
      "question: 医院彩色超声诊断仪的供应商地址是什么？\n",
      "response 意图分类：商品数据\n"
     ]
    },
    {
     "name": "stderr",
     "output_type": "stream",
     "text": [
      "9it [00:02,  4.79it/s]"
     ]
    },
    {
     "name": "stdout",
     "output_type": "stream",
     "text": [
      "question: 肿瘤医院冷冻治疗设备有哪些型号？\n",
      "response 意图分类：商品数据\n",
      "question: 流式细胞仪的供应商省份是哪里？\n",
      "response 意图分类：商品数据\n"
     ]
    },
    {
     "name": "stderr",
     "output_type": "stream",
     "text": [
      "11it [00:02,  4.82it/s]"
     ]
    },
    {
     "name": "stdout",
     "output_type": "stream",
     "text": [
      "question: 医用织物洗涤服务的供应商地址在哪里？\n",
      "response 意图分类：商品数据\n"
     ]
    },
    {
     "name": "stderr",
     "output_type": "stream",
     "text": [
      "12it [00:02,  4.86it/s]"
     ]
    },
    {
     "name": "stdout",
     "output_type": "stream",
     "text": [
      "question: 残疾人健康服务平台的供应商省份有哪些？\n",
      "response 意图分类：商品数据\n"
     ]
    },
    {
     "name": "stderr",
     "output_type": "stream",
     "text": [
      "13it [00:02,  4.86it/s]"
     ]
    },
    {
     "name": "stdout",
     "output_type": "stream",
     "text": [
      "question: 裸眼康复辅具展示系统的供应商城市是哪里？\n",
      "response 意图分类：商品数据\n",
      "question: 医院离心式冷水机的供应商省份有哪些？\n",
      "response 意图分类：商品数据\n"
     ]
    },
    {
     "name": "stderr",
     "output_type": "stream",
     "text": [
      "15it [00:03,  4.90it/s]"
     ]
    },
    {
     "name": "stdout",
     "output_type": "stream",
     "text": [
      "question: 口腔锥形束CT的供应商地址是什么？\n",
      "response 意图分类：商品数据\n"
     ]
    },
    {
     "name": "stderr",
     "output_type": "stream",
     "text": [
      "16it [00:03,  4.90it/s]"
     ]
    },
    {
     "name": "stdout",
     "output_type": "stream",
     "text": [
      "question: UPS应急电源的供应商城市有哪些？\n",
      "response 意图分类：商品数据\n"
     ]
    },
    {
     "name": "stderr",
     "output_type": "stream",
     "text": [
      "18it [00:03,  4.93it/s]"
     ]
    },
    {
     "name": "stdout",
     "output_type": "stream",
     "text": [
      "question: 民医院远程诊断服务的供应商地址在哪里？\n",
      "response 意图分类：商品数据\n",
      "question: 上海疾控应急作业平台建设的供应商省份是哪里？\n",
      "response 意图分类：商品数据\n"
     ]
    },
    {
     "name": "stderr",
     "output_type": "stream",
     "text": [
      "19it [00:04,  4.94it/s]"
     ]
    },
    {
     "name": "stdout",
     "output_type": "stream",
     "text": [
      "question: 上肢康复系统的供应商地址是什么？\n",
      "response 意图分类：商品数据\n"
     ]
    },
    {
     "name": "stderr",
     "output_type": "stream",
     "text": [
      "20it [00:04,  4.92it/s]"
     ]
    },
    {
     "name": "stdout",
     "output_type": "stream",
     "text": [
      "question: 肌肉关节智能运动康复评估训练系统有哪些品牌？\n",
      "response 意图分类：商品数据\n"
     ]
    },
    {
     "name": "stderr",
     "output_type": "stream",
     "text": [
      "22it [00:04,  4.94it/s]"
     ]
    },
    {
     "name": "stdout",
     "output_type": "stream",
     "text": [
      "question: 智能矫正与经颅磁辅助治疗机器人的供应商城市有哪些？\n",
      "response 意图分类：商品数据\n",
      "question: 被服租赁、洗涤的供应商省份有哪些？\n",
      "response 意图分类：商品数据\n"
     ]
    },
    {
     "name": "stderr",
     "output_type": "stream",
     "text": [
      "23it [00:05,  4.88it/s]"
     ]
    },
    {
     "name": "stdout",
     "output_type": "stream",
     "text": [
      "question: 医用家具的供应商地址在哪里？\n",
      "response 意图分类：商品数据\n",
      "question: 医院医疗设备有哪些品牌？\n",
      "response 意图分类：商品数据\n"
     ]
    },
    {
     "name": "stderr",
     "output_type": "stream",
     "text": [
      "25it [00:05,  4.90it/s]"
     ]
    },
    {
     "name": "stdout",
     "output_type": "stream",
     "text": [
      "question: 脉冲染料激光治疗仪的供应商省份是哪里？\n",
      "response 意图分类：商品数据\n"
     ]
    },
    {
     "name": "stderr",
     "output_type": "stream",
     "text": [
      "26it [00:05,  4.91it/s]"
     ]
    },
    {
     "name": "stdout",
     "output_type": "stream",
     "text": [
      "question: 病毒测序试剂的供应商城市有哪些？\n",
      "response 意图分类：商品数据\n"
     ]
    },
    {
     "name": "stderr",
     "output_type": "stream",
     "text": [
      "27it [00:05,  4.91it/s]"
     ]
    },
    {
     "name": "stdout",
     "output_type": "stream",
     "text": [
      "question: 污水新冠病毒监测与变异株检测试剂耗材的供应商地址是什么？\n",
      "response 意图分类：商品数据\n"
     ]
    },
    {
     "name": "stderr",
     "output_type": "stream",
     "text": [
      "29it [00:06,  4.95it/s]"
     ]
    },
    {
     "name": "stdout",
     "output_type": "stream",
     "text": [
      "question: 放射治疗计划系统的供应商省份有哪些？\n",
      "response 意图分类：商品数据\n",
      "question: 全自动发药机的供应商地址在哪里？\n",
      "response 意图分类：商品数据\n"
     ]
    },
    {
     "name": "stderr",
     "output_type": "stream",
     "text": [
      "30it [00:06,  4.93it/s]"
     ]
    },
    {
     "name": "stdout",
     "output_type": "stream",
     "text": [
      "question: 医疗设备维修维保外包的供应商城市有哪些？\n",
      "response 意图分类：商品数据\n"
     ]
    },
    {
     "name": "stderr",
     "output_type": "stream",
     "text": [
      "31it [00:06,  4.92it/s]"
     ]
    },
    {
     "name": "stdout",
     "output_type": "stream",
     "text": [
      "question: 电子内窥镜主机系统（含一根电子治疗结肠镜）的供应商省份是哪里？\n",
      "response 意图分类：商品数据\n"
     ]
    },
    {
     "name": "stderr",
     "output_type": "stream",
     "text": [
      "32it [00:06,  4.93it/s]"
     ]
    },
    {
     "name": "stdout",
     "output_type": "stream",
     "text": [
      "question: 低强度脉冲式超声波治疗仪的供应商城市有哪些？\n",
      "response 意图分类：商品数据\n"
     ]
    },
    {
     "name": "stderr",
     "output_type": "stream",
     "text": [
      "34it [00:07,  4.96it/s]"
     ]
    },
    {
     "name": "stdout",
     "output_type": "stream",
     "text": [
      "question: 学生智能体质体检健康测试设备的供应商地址是什么？\n",
      "response 意图分类：商品数据\n",
      "question: 医院X射线计算机体层摄影设备的供应商省份有哪些？\n",
      "response 意图分类：商品数据\n"
     ]
    },
    {
     "name": "stderr",
     "output_type": "stream",
     "text": [
      "35it [00:07,  4.95it/s]"
     ]
    },
    {
     "name": "stdout",
     "output_type": "stream",
     "text": [
      "question: 医院远程探视和远程会诊系统的供应商地址在哪里？\n",
      "response 意图分类：商品数据\n"
     ]
    },
    {
     "name": "stderr",
     "output_type": "stream",
     "text": [
      "36it [00:07,  4.93it/s]"
     ]
    },
    {
     "name": "stdout",
     "output_type": "stream",
     "text": [
      "question: 无轨迹等张肌力测试康复训练系统的供应商品牌有哪些？\n",
      "response 意图分类：商品数据\n",
      "question: 无轨迹等张肌力测试康复训练系统的价格范围是多少？\n",
      "response 意图分类：商品数据\n"
     ]
    },
    {
     "name": "stderr",
     "output_type": "stream",
     "text": [
      "38it [00:08,  4.92it/s]"
     ]
    },
    {
     "name": "stdout",
     "output_type": "stream",
     "text": [
      "question: 无轨迹等张肌力测试康复训练系统的供应商地址在哪里？\n",
      "response 意图分类：商品数据\n"
     ]
    },
    {
     "name": "stderr",
     "output_type": "stream",
     "text": [
      "39it [00:08,  4.93it/s]"
     ]
    },
    {
     "name": "stdout",
     "output_type": "stream",
     "text": [
      "question: 医院X射线计算机体层摄影设备的品牌有哪些？\n",
      "response 意图分类：商品数据\n",
      "question: 医院X射线计算机体层摄影设备的型号有哪些？\n",
      "response 意图分类：商品数据\n"
     ]
    },
    {
     "name": "stderr",
     "output_type": "stream",
     "text": [
      "41it [00:08,  4.94it/s]"
     ]
    },
    {
     "name": "stdout",
     "output_type": "stream",
     "text": [
      "question: 气相色谱分析仪的品牌有哪些？\n",
      "response 意图分类：商品数据\n"
     ]
    },
    {
     "name": "stderr",
     "output_type": "stream",
     "text": [
      "42it [00:08,  4.94it/s]"
     ]
    },
    {
     "name": "stdout",
     "output_type": "stream",
     "text": [
      "question: 医院X射线计算机体层摄影设备的供应商省份有哪些？\n",
      "response 意图分类：商品数据\n"
     ]
    },
    {
     "name": "stderr",
     "output_type": "stream",
     "text": [
      "44it [00:09,  4.79it/s]"
     ]
    },
    {
     "name": "stdout",
     "output_type": "stream",
     "text": [
      "question: 太平洋安信农业保险股份有限公司上海分公司中标了哪些保险项目？\n",
      "response 意图分类：招标中标信息\n",
      "question: 上海市青浦区朱家角人民医院是否承担了残疾人健康体检项目？\n",
      "response 意图分类：日常问题\n"
     ]
    },
    {
     "name": "stderr",
     "output_type": "stream",
     "text": [
      "45it [00:09,  4.58it/s]"
     ]
    },
    {
     "name": "stdout",
     "output_type": "stream",
     "text": [
      "question: 《电子招标投标办法》的发布时间是什么？\n",
      "response 意图分类：政策文件信息\n"
     ]
    },
    {
     "name": "stderr",
     "output_type": "stream",
     "text": [
      "46it [00:09,  4.50it/s]"
     ]
    },
    {
     "name": "stdout",
     "output_type": "stream",
     "text": [
      "question: 《工程建设项目货物招标投标办法》的发布时间是什么？\n",
      "response 意图分类：政策文件信息\n"
     ]
    },
    {
     "name": "stderr",
     "output_type": "stream",
     "text": [
      "47it [00:09,  4.43it/s]"
     ]
    },
    {
     "name": "stdout",
     "output_type": "stream",
     "text": [
      "question: 《工程建设项目施工招标投标办法》的发布时间是什么？\n",
      "response 意图分类：政策文件信息\n"
     ]
    },
    {
     "name": "stderr",
     "output_type": "stream",
     "text": [
      "48it [00:10,  4.39it/s]"
     ]
    },
    {
     "name": "stdout",
     "output_type": "stream",
     "text": [
      "question: 《财政部关于印发《政府采购竞争性磋商采购方式管理暂行办法》的通知》的发布时间是什么？\n",
      "response 意图分类：政策文件信息\n"
     ]
    },
    {
     "name": "stderr",
     "output_type": "stream",
     "text": [
      "49it [00:10,  4.35it/s]"
     ]
    },
    {
     "name": "stdout",
     "output_type": "stream",
     "text": [
      "question: 《金融企业国有资产转让管理办法》的发布时间是什么？\n",
      "response 意图分类：政策文件信息\n"
     ]
    },
    {
     "name": "stderr",
     "output_type": "stream",
     "text": [
      "50it [00:10,  4.31it/s]"
     ]
    },
    {
     "name": "stdout",
     "output_type": "stream",
     "text": [
      "question: 《财政部关于印发《政务信息系统政府采购管理暂行办法》的通知》的发布时间是什么？\n",
      "response 意图分类：政策文件信息\n"
     ]
    },
    {
     "name": "stderr",
     "output_type": "stream",
     "text": [
      "51it [00:10,  4.31it/s]"
     ]
    },
    {
     "name": "stdout",
     "output_type": "stream",
     "text": [
      "question: 《民航局机场司关于印发《民航专业工程建设项目招标投标管理办法》的通知》的发布时间是什么？\n",
      "response 意图分类：政策文件信息\n"
     ]
    },
    {
     "name": "stderr",
     "output_type": "stream",
     "text": [
      "52it [00:11,  4.29it/s]"
     ]
    },
    {
     "name": "stdout",
     "output_type": "stream",
     "text": [
      "question: 《财政部关于印发《中央行政事业单位国有资产配置管理办法》的通知》的发布时间是什么？\n",
      "response 意图分类：政策文件信息\n"
     ]
    },
    {
     "name": "stderr",
     "output_type": "stream",
     "text": [
      "53it [00:11,  4.30it/s]"
     ]
    },
    {
     "name": "stdout",
     "output_type": "stream",
     "text": [
      "question: 《房屋建筑和市政基础设施工程施工招标投标管理办法》的发布时间是什么？\n",
      "response 意图分类：政策文件信息\n"
     ]
    },
    {
     "name": "stderr",
     "output_type": "stream",
     "text": [
      "54it [00:11,  4.26it/s]"
     ]
    },
    {
     "name": "stdout",
     "output_type": "stream",
     "text": [
      "question: 《财政部关于政府采购竞争性磋商采购方式管理暂行办法有关问题的补充通知》的发布时间是什么？\n",
      "response 意图分类：政策文件信息\n"
     ]
    },
    {
     "name": "stderr",
     "output_type": "stream",
     "text": [
      "55it [00:11,  4.25it/s]"
     ]
    },
    {
     "name": "stdout",
     "output_type": "stream",
     "text": [
      "question: 《财政部关于在政府采购活动中查询及使用信用记录有关问题的通知》的发布时间是什么？\n",
      "response 意图分类：政策文件信息\n"
     ]
    },
    {
     "name": "stderr",
     "output_type": "stream",
     "text": [
      "56it [00:12,  4.18it/s]"
     ]
    },
    {
     "name": "stdout",
     "output_type": "stream",
     "text": [
      "question: 《港口工程建设管理规定》的发布时间是什么？\n",
      "response 意图分类：政策文件信息\n"
     ]
    },
    {
     "name": "stderr",
     "output_type": "stream",
     "text": [
      "57it [00:12,  4.22it/s]"
     ]
    },
    {
     "name": "stdout",
     "output_type": "stream",
     "text": [
      "question: 《财政部关于做好政府采购信息公开工作的通知》的来源是什么？\n",
      "response 意图分类：政策文件信息\n"
     ]
    },
    {
     "name": "stderr",
     "output_type": "stream",
     "text": [
      "58it [00:12,  4.20it/s]"
     ]
    },
    {
     "name": "stdout",
     "output_type": "stream",
     "text": [
      "question: 《拍卖管理办法》的发布时间是什么？\n",
      "response 意图分类：政策文件信息\n"
     ]
    },
    {
     "name": "stderr",
     "output_type": "stream",
     "text": [
      "59it [00:12,  4.23it/s]"
     ]
    },
    {
     "name": "stdout",
     "output_type": "stream",
     "text": [
      "question: 《机动车拍卖规程》的发布时间是什么？\n",
      "response 意图分类：政策文件信息\n"
     ]
    },
    {
     "name": "stderr",
     "output_type": "stream",
     "text": [
      "60it [00:13,  4.25it/s]"
     ]
    },
    {
     "name": "stdout",
     "output_type": "stream",
     "text": [
      "question: 《建筑工程设计招标投标管理办法》的发布时间是什么？\n",
      "response 意图分类：政策文件信息\n"
     ]
    },
    {
     "name": "stderr",
     "output_type": "stream",
     "text": [
      "61it [00:13,  4.27it/s]"
     ]
    },
    {
     "name": "stdout",
     "output_type": "stream",
     "text": [
      "question: 《财政部关于印发《政府采购进口产品管理办法》的通知》的发布时间是什么？\n",
      "response 意图分类：政策文件信息\n"
     ]
    },
    {
     "name": "stderr",
     "output_type": "stream",
     "text": [
      "62it [00:13,  4.26it/s]"
     ]
    },
    {
     "name": "stdout",
     "output_type": "stream",
     "text": [
      "question: 《工程建设项目招标投标活动投诉处理办法》的发布时间是什么？\n",
      "response 意图分类：政策文件信息\n"
     ]
    },
    {
     "name": "stderr",
     "output_type": "stream",
     "text": [
      "63it [00:13,  4.23it/s]"
     ]
    },
    {
     "name": "stdout",
     "output_type": "stream",
     "text": [
      "question: 《财政部关于印发《金融企业非上市国有产权交易规则》的通知》的发布时间是什么？\n",
      "response 意图分类：政策文件信息\n"
     ]
    },
    {
     "name": "stderr",
     "output_type": "stream",
     "text": [
      "64it [00:13,  4.24it/s]"
     ]
    },
    {
     "name": "stdout",
     "output_type": "stream",
     "text": [
      "question: 《地方国有资产监管工作指导监督办法》的发布时间是什么？\n",
      "response 意图分类：政策文件信息\n"
     ]
    },
    {
     "name": "stderr",
     "output_type": "stream",
     "text": [
      "65it [00:14,  4.24it/s]"
     ]
    },
    {
     "name": "stdout",
     "output_type": "stream",
     "text": [
      "question: 《建筑工程施工发包与承包计价管理办法》的发布时间是什么？\n",
      "response 意图分类：政策文件信息\n"
     ]
    },
    {
     "name": "stderr",
     "output_type": "stream",
     "text": [
      "66it [00:14,  4.23it/s]"
     ]
    },
    {
     "name": "stdout",
     "output_type": "stream",
     "text": [
      "question: 《工业和信息化部、国家统计局、国家发展和改革委员会、财政部关于印发中小企业划型标准规定的通知》的发布时间是什么？\n",
      "response 意图分类：政策文件信息\n"
     ]
    },
    {
     "name": "stderr",
     "output_type": "stream",
     "text": [
      "67it [00:14,  4.22it/s]"
     ]
    },
    {
     "name": "stdout",
     "output_type": "stream",
     "text": [
      "question: 《拍卖监督管理办法》的发布时间是什么？\n",
      "response 意图分类：政策文件信息\n"
     ]
    },
    {
     "name": "stderr",
     "output_type": "stream",
     "text": [
      "68it [00:14,  4.25it/s]"
     ]
    },
    {
     "name": "stdout",
     "output_type": "stream",
     "text": [
      "question: 《财政部关于印发《政府采购评审专家管理办法》的通知》的发布时间是什么？\n",
      "response 意图分类：政策文件信息\n"
     ]
    },
    {
     "name": "stderr",
     "output_type": "stream",
     "text": [
      "69it [00:15,  4.27it/s]"
     ]
    },
    {
     "name": "stdout",
     "output_type": "stream",
     "text": [
      "question: 《上海市规划和国土资源管理局关于印发《关于落实＜关于深化城市有机更新促进历史风貌保护工作的若干意见＞的规划土地管理实施细则》的通知》的发布时间是什么？\n",
      "response 意图分类：政策文件信息\n"
     ]
    },
    {
     "name": "stderr",
     "output_type": "stream",
     "text": [
      "70it [00:15,  4.28it/s]"
     ]
    },
    {
     "name": "stdout",
     "output_type": "stream",
     "text": [
      "question: 《上海市土地交易市场监督管理办法》的发布时间是什么？\n",
      "response 意图分类：政策文件信息\n"
     ]
    },
    {
     "name": "stderr",
     "output_type": "stream",
     "text": [
      "71it [00:15,  4.24it/s]"
     ]
    },
    {
     "name": "stdout",
     "output_type": "stream",
     "text": [
      "question: 《上海市规划和自然资源局关于国有建设用地使用权招标拍卖挂牌出让投标竞买保证金专户管理有关问题的通知》的发布时间是什么？\n",
      "response 意图分类：政策文件信息\n"
     ]
    },
    {
     "name": "stderr",
     "output_type": "stream",
     "text": [
      "72it [00:15,  4.26it/s]"
     ]
    },
    {
     "name": "stdout",
     "output_type": "stream",
     "text": [
      "question: 《评标委员会和评标方法暂行规定》的发布时间是什么？\n",
      "response 意图分类：政策文件信息\n"
     ]
    },
    {
     "name": "stderr",
     "output_type": "stream",
     "text": [
      "73it [00:16,  4.27it/s]"
     ]
    },
    {
     "name": "stdout",
     "output_type": "stream",
     "text": [
      "question: 《评标专家和评标专家库管理暂行办法》的发布时间是什么？\n",
      "response 意图分类：政策文件信息\n"
     ]
    },
    {
     "name": "stderr",
     "output_type": "stream",
     "text": [
      "74it [00:16,  4.27it/s]"
     ]
    },
    {
     "name": "stdout",
     "output_type": "stream",
     "text": [
      "question: 《拍卖术语》的发布时间是什么？\n",
      "response 意图分类：政策文件信息\n"
     ]
    },
    {
     "name": "stderr",
     "output_type": "stream",
     "text": [
      "75it [00:16,  4.26it/s]"
     ]
    },
    {
     "name": "stdout",
     "output_type": "stream",
     "text": [
      "question: 《行政单位国有资产管理暂行办法》的发布时间是什么？\n",
      "response 意图分类：政策文件信息\n"
     ]
    },
    {
     "name": "stderr",
     "output_type": "stream",
     "text": [
      "76it [00:16,  4.26it/s]"
     ]
    },
    {
     "name": "stdout",
     "output_type": "stream",
     "text": [
      "question: 《最高人民法院关于审理涉及农村土地承包经营纠纷调解仲裁案件适用法律若干问题的解释》的发布时间是什么？\n",
      "response 意图分类：政策文件信息\n"
     ]
    },
    {
     "name": "stderr",
     "output_type": "stream",
     "text": [
      "77it [00:17,  4.25it/s]"
     ]
    },
    {
     "name": "stdout",
     "output_type": "stream",
     "text": [
      "question: 《最高人民法院关于审理涉及农村集体土地行政案件若干问题的规定》的发布时间是什么？\n",
      "response 意图分类：政策文件信息\n"
     ]
    },
    {
     "name": "stderr",
     "output_type": "stream",
     "text": [
      "78it [00:17,  4.25it/s]"
     ]
    },
    {
     "name": "stdout",
     "output_type": "stream",
     "text": [
      "question: 《艺术品经营管理办法》的发布时间是什么？\n",
      "response 意图分类：政策文件信息\n"
     ]
    },
    {
     "name": "stderr",
     "output_type": "stream",
     "text": [
      "79it [00:17,  4.25it/s]"
     ]
    },
    {
     "name": "stdout",
     "output_type": "stream",
     "text": [
      "question: 《商业银行股权管理暂行办法》的发布时间是什么？\n",
      "response 意图分类：政策文件信息\n"
     ]
    },
    {
     "name": "stderr",
     "output_type": "stream",
     "text": [
      "80it [00:17,  4.25it/s]"
     ]
    },
    {
     "name": "stdout",
     "output_type": "stream",
     "text": [
      "question: 《企业国有资产监督管理暂行条例》的发布时间是什么？\n",
      "response 意图分类：政策文件信息\n"
     ]
    },
    {
     "name": "stderr",
     "output_type": "stream",
     "text": [
      "81it [00:17,  4.27it/s]"
     ]
    },
    {
     "name": "stdout",
     "output_type": "stream",
     "text": [
      "question: 《区域性股权市场监督管理试行办法》的发布时间是什么？\n",
      "response 意图分类：政策文件信息\n"
     ]
    },
    {
     "name": "stderr",
     "output_type": "stream",
     "text": [
      "82it [00:18,  4.25it/s]"
     ]
    },
    {
     "name": "stdout",
     "output_type": "stream",
     "text": [
      "question: 《企业国有资产交易监督管理办法》的发布时间是什么？\n",
      "response 意图分类：政策文件信息\n"
     ]
    },
    {
     "name": "stderr",
     "output_type": "stream",
     "text": [
      "83it [00:18,  4.27it/s]"
     ]
    },
    {
     "name": "stdout",
     "output_type": "stream",
     "text": [
      "question: 《上海市财政局关于印发《上海市创新产品政府首购和订购实施办法》的通知(2017)》的发布时间是什么？\n",
      "response 意图分类：政策文件信息\n"
     ]
    },
    {
     "name": "stderr",
     "output_type": "stream",
     "text": [
      "84it [00:18,  4.24it/s]"
     ]
    },
    {
     "name": "stdout",
     "output_type": "stream",
     "text": [
      "question: 《上海市财政局关于印发《上海市电子政府采购管理暂行办法》的通知》的发布时间是什么？\n",
      "response 意图分类：政策文件信息\n"
     ]
    },
    {
     "name": "stderr",
     "output_type": "stream",
     "text": [
      "85it [00:18,  4.25it/s]"
     ]
    },
    {
     "name": "stdout",
     "output_type": "stream",
     "text": [
      "question: 《上海市财政局关于印发《上海市政府采购供应商登记及诚信管理办法》的通知(2017)》的发布时间是什么？\n",
      "response 意图分类：政策文件信息\n"
     ]
    },
    {
     "name": "stderr",
     "output_type": "stream",
     "text": [
      "86it [00:19,  4.27it/s]"
     ]
    },
    {
     "name": "stdout",
     "output_type": "stream",
     "text": [
      "question: 《企业国有资产评估管理暂行办法》的发布时间是什么？\n",
      "response 意图分类：政策文件信息\n"
     ]
    },
    {
     "name": "stderr",
     "output_type": "stream",
     "text": [
      "87it [00:19,  4.25it/s]"
     ]
    },
    {
     "name": "stdout",
     "output_type": "stream",
     "text": [
      "question: 《上海市财政局关于2020年度第一批创新产品政府首购有关事项的通知》的发布时间是什么？\n",
      "response 意图分类：政策文件信息\n"
     ]
    },
    {
     "name": "stderr",
     "output_type": "stream",
     "text": [
      "88it [00:19,  4.24it/s]"
     ]
    },
    {
     "name": "stdout",
     "output_type": "stream",
     "text": [
      "question: 《上海市财政局关于2019年度创新产品政府首购有关事项的通知》的发布时间是什么？\n",
      "response 意图分类：政策文件信息\n"
     ]
    },
    {
     "name": "stderr",
     "output_type": "stream",
     "text": [
      "89it [00:19,  4.25it/s]"
     ]
    },
    {
     "name": "stdout",
     "output_type": "stream",
     "text": [
      "question: 《上海市财政局关于印发《上海市政府采购集中采购机构监督考核管理办法》的通知》的发布时间是什么？\n",
      "response 意图分类：政策文件信息\n"
     ]
    },
    {
     "name": "stderr",
     "output_type": "stream",
     "text": [
      "90it [00:20,  4.21it/s]"
     ]
    },
    {
     "name": "stdout",
     "output_type": "stream",
     "text": [
      "question: 《上海市财政局关于印发《上海市政府采购评审专家和评审工作管理办法》的通知(2018)(附：上海市政府采购评审专家工作纪律)》的发布时间是什么？\n",
      "response 意图分类：政策文件信息\n"
     ]
    },
    {
     "name": "stderr",
     "output_type": "stream",
     "text": [
      "91it [00:20,  4.21it/s]"
     ]
    },
    {
     "name": "stdout",
     "output_type": "stream",
     "text": [
      "question: 《上海市财政局关于印发《上海市政府采购协议采购网上供货管理办法》的通知(2017)》的发布时间是什么？\n",
      "response 意图分类：政策文件信息\n"
     ]
    },
    {
     "name": "stderr",
     "output_type": "stream",
     "text": [
      "92it [00:20,  4.21it/s]"
     ]
    },
    {
     "name": "stdout",
     "output_type": "stream",
     "text": [
      "question: 《上海市公共资源交易平台管理暂行办法》的发布时间是什么？\n",
      "response 意图分类：政策文件信息\n"
     ]
    },
    {
     "name": "stderr",
     "output_type": "stream",
     "text": [
      "93it [00:20,  4.23it/s]"
     ]
    },
    {
     "name": "stdout",
     "output_type": "stream",
     "text": [
      "question: 《上海市城乡建设和交通委员会关于印发《关于加强本市大型居住社区工程建设服务和管理工作的若干意见》的通知》的发布时间是什么？\n",
      "response 意图分类：政策文件信息\n"
     ]
    },
    {
     "name": "stderr",
     "output_type": "stream",
     "text": [
      "94it [00:21,  4.26it/s]"
     ]
    },
    {
     "name": "stdout",
     "output_type": "stream",
     "text": [
      "question: 《上海市城乡建设和管理委员会关于印发《上海市建筑施工企业施工现场项目管理机构关键岗位人员配备指南》的通知》的发布时间是什么？\n",
      "response 意图分类：政策文件信息\n"
     ]
    },
    {
     "name": "stderr",
     "output_type": "stream",
     "text": [
      "95it [00:21,  4.26it/s]"
     ]
    },
    {
     "name": "stdout",
     "output_type": "stream",
     "text": [
      "question: 上海市浦东新区南汇新城镇社区卫生服务中心保安服务的中标金额是多少？\n",
      "response 意图分类：招标中标信息\n"
     ]
    },
    {
     "name": "stderr",
     "output_type": "stream",
     "text": [
      "96it [00:21,  4.28it/s]"
     ]
    },
    {
     "name": "stdout",
     "output_type": "stream",
     "text": [
      "question: \"电子招标投标办法\"的发布时间是什么？\n",
      "response 意图分类：政策文件信息\n"
     ]
    },
    {
     "name": "stderr",
     "output_type": "stream",
     "text": [
      "97it [00:21,  4.26it/s]"
     ]
    },
    {
     "name": "stdout",
     "output_type": "stream",
     "text": [
      "question: “工程建设项目货物招标投标办法”的信息来源是什么？\n",
      "response 意图分类：政策文件信息\n"
     ]
    },
    {
     "name": "stderr",
     "output_type": "stream",
     "text": [
      "98it [00:21,  4.27it/s]"
     ]
    },
    {
     "name": "stdout",
     "output_type": "stream",
     "text": [
      "question: 2020年11月发布了多少个政策文件？\n",
      "response 意图分类：政策文件信息\n"
     ]
    },
    {
     "name": "stderr",
     "output_type": "stream",
     "text": [
      "99it [00:22,  4.29it/s]"
     ]
    },
    {
     "name": "stdout",
     "output_type": "stream",
     "text": [
      "question: “财政部关于印发《政府采购竞争性磋商采购方式管理暂行办法》的通知”是什么时候发布的？\n",
      "response 意图分类：政策文件信息\n"
     ]
    },
    {
     "name": "stderr",
     "output_type": "stream",
     "text": [
      "100it [00:22,  4.46it/s]"
     ]
    },
    {
     "name": "stdout",
     "output_type": "stream",
     "text": [
      "question: “金融企业国有资产转让管理办法”的信息来源是什么？\n",
      "response 意图分类：政策内容\n"
     ]
    },
    {
     "name": "stderr",
     "output_type": "stream",
     "text": [
      "101it [00:22,  4.38it/s]"
     ]
    },
    {
     "name": "stdout",
     "output_type": "stream",
     "text": [
      "question: 2020年12月有哪些文件是由国家发布的？\n",
      "response 意图分类：政策文件信息\n"
     ]
    },
    {
     "name": "stderr",
     "output_type": "stream",
     "text": [
      "102it [00:22,  4.35it/s]"
     ]
    },
    {
     "name": "stdout",
     "output_type": "stream",
     "text": [
      "question: “民航局机场司关于印发《民航专业工程建设项目招标投标管理办法》的通知”的发布时间是什么时候？\n",
      "response 意图分类：政策文件信息\n"
     ]
    },
    {
     "name": "stderr",
     "output_type": "stream",
     "text": [
      "103it [00:23,  4.49it/s]"
     ]
    },
    {
     "name": "stdout",
     "output_type": "stream",
     "text": [
      "question: “房屋建筑和市政基础设施工程施工招标投标管理办法”的信息来源是哪里？\n",
      "response 意图分类：政策内容\n"
     ]
    },
    {
     "name": "stderr",
     "output_type": "stream",
     "text": [
      "104it [00:23,  4.42it/s]"
     ]
    },
    {
     "name": "stdout",
     "output_type": "stream",
     "text": [
      "question: 2020年国家发布了多少个关于政府采购的办法？\n",
      "response 意图分类：政策文件信息\n"
     ]
    },
    {
     "name": "stderr",
     "output_type": "stream",
     "text": [
      "105it [00:23,  4.37it/s]"
     ]
    },
    {
     "name": "stdout",
     "output_type": "stream",
     "text": [
      "question: “上海市规划和国土资源管理局关于印发《关于落实＜关于深化城市有机更新促进历史风貌保护工作的若干意见＞的规划土地管理实施细则》的通知”是由哪个信息来源发布的？\n",
      "response 意图分类：政策文件信息\n"
     ]
    },
    {
     "name": "stderr",
     "output_type": "stream",
     "text": [
      "106it [00:23,  4.32it/s]"
     ]
    },
    {
     "name": "stdout",
     "output_type": "stream",
     "text": [
      "question: 2020年12月22日发布了多少个政策文件？\n",
      "response 意图分类：政策文件信息\n"
     ]
    },
    {
     "name": "stderr",
     "output_type": "stream",
     "text": [
      "107it [00:24,  4.30it/s]"
     ]
    },
    {
     "name": "stdout",
     "output_type": "stream",
     "text": [
      "question: “评标委员会和评标方法暂行规定”的发布时间是什么？\n",
      "response 意图分类：政策文件信息\n"
     ]
    },
    {
     "name": "stderr",
     "output_type": "stream",
     "text": [
      "108it [00:24,  4.44it/s]"
     ]
    },
    {
     "name": "stdout",
     "output_type": "stream",
     "text": [
      "question: “评标专家和评标专家库管理暂行办法”的信息来源是什么？\n",
      "response 意图分类：政策内容\n"
     ]
    },
    {
     "name": "stderr",
     "output_type": "stream",
     "text": [
      "109it [00:24,  4.36it/s]"
     ]
    },
    {
     "name": "stdout",
     "output_type": "stream",
     "text": [
      "question: 2020年11月18日有哪些文件被发布？\n",
      "response 意图分类：政策文件信息\n"
     ]
    },
    {
     "name": "stderr",
     "output_type": "stream",
     "text": [
      "110it [00:24,  4.29it/s]"
     ]
    },
    {
     "name": "stdout",
     "output_type": "stream",
     "text": [
      "question: “最高人民法院关于审理涉及农村土地承包经营纠纷调解仲裁案件适用法律若干问题的解释”的发布时间是什么时候？\n",
      "response 意图分类：政策文件信息\n"
     ]
    },
    {
     "name": "stderr",
     "output_type": "stream",
     "text": [
      "111it [00:24,  4.41it/s]"
     ]
    },
    {
     "name": "stdout",
     "output_type": "stream",
     "text": [
      "question: “艺术品经营管理办法”的信息来源是哪里？\n",
      "response 意图分类：政策内容\n"
     ]
    },
    {
     "name": "stderr",
     "output_type": "stream",
     "text": [
      "112it [00:25,  4.38it/s]"
     ]
    },
    {
     "name": "stdout",
     "output_type": "stream",
     "text": [
      "question: 2020年12月10日发布了多少个文件？\n",
      "response 意图分类：政策文件信息\n"
     ]
    },
    {
     "name": "stderr",
     "output_type": "stream",
     "text": [
      "113it [00:25,  4.36it/s]"
     ]
    },
    {
     "name": "stdout",
     "output_type": "stream",
     "text": [
      "question: “商业银行股权管理暂行办法”的发布时间是什么？\n",
      "response 意图分类：政策文件信息\n"
     ]
    },
    {
     "name": "stderr",
     "output_type": "stream",
     "text": [
      "114it [00:25,  4.51it/s]"
     ]
    },
    {
     "name": "stdout",
     "output_type": "stream",
     "text": [
      "question: “企业国有资产监督管理暂行条例”的信息来源是什么？\n",
      "response 意图分类：政策内容\n"
     ]
    },
    {
     "name": "stderr",
     "output_type": "stream",
     "text": [
      "115it [00:25,  4.42it/s]"
     ]
    },
    {
     "name": "stdout",
     "output_type": "stream",
     "text": [
      "question: 2020年11月有哪些文件是由上海市发布的？\n",
      "response 意图分类：政策文件信息\n"
     ]
    },
    {
     "name": "stderr",
     "output_type": "stream",
     "text": [
      "116it [00:26,  4.39it/s]"
     ]
    },
    {
     "name": "stdout",
     "output_type": "stream",
     "text": [
      "question: “工程建设项目施工招标投标办法”是何时发布的？\n",
      "response 意图分类：政策文件信息\n"
     ]
    },
    {
     "name": "stderr",
     "output_type": "stream",
     "text": [
      "117it [00:26,  4.32it/s]"
     ]
    },
    {
     "name": "stdout",
     "output_type": "stream",
     "text": [
      "question: “财政部关于印发《政务信息系统政府采购管理暂行办法》的通知”的信息来源是哪里？\n",
      "response 意图分类：政策文件信息\n"
     ]
    },
    {
     "name": "stderr",
     "output_type": "stream",
     "text": [
      "118it [00:26,  4.31it/s]"
     ]
    },
    {
     "name": "stdout",
     "output_type": "stream",
     "text": [
      "question: 2020年11月18日国家发布了哪些政策文件？\n",
      "response 意图分类：政策文件信息\n"
     ]
    },
    {
     "name": "stderr",
     "output_type": "stream",
     "text": [
      "119it [00:26,  4.28it/s]"
     ]
    },
    {
     "name": "stdout",
     "output_type": "stream",
     "text": [
      "question: “拍卖管理办法”的发布时间是什么？\n",
      "response 意图分类：政策文件信息\n"
     ]
    },
    {
     "name": "stderr",
     "output_type": "stream",
     "text": [
      "120it [00:27,  4.28it/s]"
     ]
    },
    {
     "name": "stdout",
     "output_type": "stream",
     "text": [
      "question: “机动车拍卖规程”的信息来源是什么？\n",
      "response 意图分类：政策文件信息\n"
     ]
    },
    {
     "name": "stderr",
     "output_type": "stream",
     "text": [
      "121it [00:27,  4.29it/s]"
     ]
    },
    {
     "name": "stdout",
     "output_type": "stream",
     "text": [
      "question: 2020年12月22日国家发布了多少个政策文件？\n",
      "response 意图分类：政策文件信息\n"
     ]
    },
    {
     "name": "stderr",
     "output_type": "stream",
     "text": [
      "122it [00:27,  4.29it/s]"
     ]
    },
    {
     "name": "stdout",
     "output_type": "stream",
     "text": [
      "question: “建筑工程设计招标投标管理办法”的发布时间是什么时候？\n",
      "response 意图分类：政策文件信息\n"
     ]
    },
    {
     "name": "stderr",
     "output_type": "stream",
     "text": [
      "123it [00:27,  4.27it/s]"
     ]
    },
    {
     "name": "stdout",
     "output_type": "stream",
     "text": [
      "question: “财政部关于印发《政府采购进口产品管理办法》的通知”的信息来源是哪里？\n",
      "response 意图分类：政策文件信息\n"
     ]
    },
    {
     "name": "stderr",
     "output_type": "stream",
     "text": [
      "124it [00:27,  4.28it/s]"
     ]
    },
    {
     "name": "stdout",
     "output_type": "stream",
     "text": [
      "question: 2020年3月11日发布了哪些文件？\n",
      "response 意图分类：政策文件信息\n"
     ]
    },
    {
     "name": "stderr",
     "output_type": "stream",
     "text": [
      "125it [00:28,  4.29it/s]"
     ]
    },
    {
     "name": "stdout",
     "output_type": "stream",
     "text": [
      "question: “财政部关于政府采购竞争性磋商采购方式管理暂行办法有关问题的补充通知”的发布时间是什么？\n",
      "response 意图分类：政策文件信息\n",
      "question: “港口工程建设管理规定”的信息来源是什么？\n",
      "response 意图分类：政策内容\n"
     ]
    },
    {
     "name": "stderr",
     "output_type": "stream",
     "text": [
      "127it [00:28,  4.42it/s]"
     ]
    },
    {
     "name": "stdout",
     "output_type": "stream",
     "text": [
      "question: 2020年12月10日上海市发布了哪些政策文件？\n",
      "response 意图分类：政策文件信息\n"
     ]
    },
    {
     "name": "stderr",
     "output_type": "stream",
     "text": [
      "128it [00:28,  4.37it/s]"
     ]
    },
    {
     "name": "stdout",
     "output_type": "stream",
     "text": [
      "question: “财政部关于做好政府采购信息公开工作的通知”的发布时间是什么时候？\n",
      "response 意图分类：政策文件信息\n"
     ]
    },
    {
     "name": "stderr",
     "output_type": "stream",
     "text": [
      "129it [00:29,  4.35it/s]"
     ]
    },
    {
     "name": "stdout",
     "output_type": "stream",
     "text": [
      "question: “拍卖监督管理办法”的信息来源是哪里？\n",
      "response 意图分类：政策文件信息\n"
     ]
    },
    {
     "name": "stderr",
     "output_type": "stream",
     "text": [
      "130it [00:29,  4.22it/s]"
     ]
    },
    {
     "name": "stdout",
     "output_type": "stream",
     "text": [
      "question: 2020年12月22日上海市发布了多少个政策文件？\n",
      "response 意图分类：政策文件信息\n"
     ]
    },
    {
     "name": "stderr",
     "output_type": "stream",
     "text": [
      "131it [00:29,  4.24it/s]"
     ]
    },
    {
     "name": "stdout",
     "output_type": "stream",
     "text": [
      "question: “评标专家和评标专家库管理暂行办法”的发布时间是什么？\n",
      "response 意图分类：政策文件信息\n"
     ]
    },
    {
     "name": "stderr",
     "output_type": "stream",
     "text": [
      "132it [00:29,  4.23it/s]"
     ]
    },
    {
     "name": "stdout",
     "output_type": "stream",
     "text": [
      "question: “行政单位国有资产管理暂行办法”的信息来源是什么？\n",
      "response 意图分类：政策文件信息\n"
     ]
    },
    {
     "name": "stderr",
     "output_type": "stream",
     "text": [
      "133it [00:30,  4.26it/s]"
     ]
    },
    {
     "name": "stdout",
     "output_type": "stream",
     "text": [
      "question: 2020年12月10日国家发布了多少个政策文件？\n",
      "response 意图分类：政策文件信息\n"
     ]
    },
    {
     "name": "stderr",
     "output_type": "stream",
     "text": [
      "134it [00:30,  4.27it/s]"
     ]
    },
    {
     "name": "stdout",
     "output_type": "stream",
     "text": [
      "question: “最高人民法院关于审理涉及农村集体土地行政案件若干问题的规定”的发布时间是什么时候？\n",
      "response 意图分类：政策文件信息\n"
     ]
    },
    {
     "name": "stderr",
     "output_type": "stream",
     "text": [
      "135it [00:30,  4.45it/s]"
     ]
    },
    {
     "name": "stdout",
     "output_type": "stream",
     "text": [
      "question: “艺术品经营管理办法”的信息来源是哪里？\n",
      "response 意图分类：政策内容\n"
     ]
    },
    {
     "name": "stderr",
     "output_type": "stream",
     "text": [
      "136it [00:30,  4.37it/s]"
     ]
    },
    {
     "name": "stdout",
     "output_type": "stream",
     "text": [
      "question: 2020年11月18日有哪些文件是由上海市发布的？\n",
      "response 意图分类：政策文件信息\n"
     ]
    },
    {
     "name": "stderr",
     "output_type": "stream",
     "text": [
      "137it [00:30,  4.33it/s]"
     ]
    },
    {
     "name": "stdout",
     "output_type": "stream",
     "text": [
      "question: “商业银行股权管理暂行办法”的发布时间是什么？\n",
      "response 意图分类：政策文件信息\n"
     ]
    },
    {
     "name": "stderr",
     "output_type": "stream",
     "text": [
      "138it [00:31,  4.50it/s]"
     ]
    },
    {
     "name": "stdout",
     "output_type": "stream",
     "text": [
      "question: “企业国有资产监督管理暂行条例”的信息来源是什么？\n",
      "response 意图分类：政策内容\n"
     ]
    },
    {
     "name": "stderr",
     "output_type": "stream",
     "text": [
      "139it [00:31,  4.44it/s]"
     ]
    },
    {
     "name": "stdout",
     "output_type": "stream",
     "text": [
      "question: 2020年12月22日有哪些文件是由国家发布的？\n",
      "response 意图分类：政策文件信息\n"
     ]
    },
    {
     "name": "stderr",
     "output_type": "stream",
     "text": [
      "140it [00:31,  4.40it/s]"
     ]
    },
    {
     "name": "stdout",
     "output_type": "stream",
     "text": [
      "question: “区域性股权市场监督管理试行办法”的发布时间是什么时候？\n",
      "response 意图分类：政策文件信息\n"
     ]
    },
    {
     "name": "stderr",
     "output_type": "stream",
     "text": [
      "141it [00:31,  4.33it/s]"
     ]
    },
    {
     "name": "stdout",
     "output_type": "stream",
     "text": [
      "question: “企业国有资产交易监督管理办法”的信息来源是哪里？\n",
      "response 意图分类：政策文件信息\n"
     ]
    },
    {
     "name": "stderr",
     "output_type": "stream",
     "text": [
      "142it [00:32,  4.33it/s]"
     ]
    },
    {
     "name": "stdout",
     "output_type": "stream",
     "text": [
      "question: 2020年11月17日国家发布了哪些政策文件？\n",
      "response 意图分类：政策文件信息\n"
     ]
    },
    {
     "name": "stderr",
     "output_type": "stream",
     "text": [
      "143it [00:32,  4.29it/s]"
     ]
    },
    {
     "name": "stdout",
     "output_type": "stream",
     "text": [
      "question: “上海市创新产品政府首购和订购实施办法”的发布时间是什么？\n",
      "response 意图分类：政策文件信息\n"
     ]
    },
    {
     "name": "stderr",
     "output_type": "stream",
     "text": [
      "144it [00:32,  4.30it/s]"
     ]
    },
    {
     "name": "stdout",
     "output_type": "stream",
     "text": [
      "question: “上海市财政局关于印发《上海市电子政府采购管理暂行办法》的通知”的信息来源是哪里？\n",
      "response 意图分类：政策文件信息\n"
     ]
    },
    {
     "name": "stderr",
     "output_type": "stream",
     "text": [
      "145it [00:32,  4.29it/s]"
     ]
    },
    {
     "name": "stdout",
     "output_type": "stream",
     "text": [
      "question: 2020年12月22日有哪些文件是由上海市发布的？\n",
      "response 意图分类：政策文件信息\n"
     ]
    },
    {
     "name": "stderr",
     "output_type": "stream",
     "text": [
      "146it [00:33,  4.45it/s]"
     ]
    },
    {
     "name": "stdout",
     "output_type": "stream",
     "text": [
      "question: 上海硕业物业管理有限公司的地址在哪里？\n",
      "response 意图分类：商品数据\n",
      "question: 上海市浦东新区南汇新城镇社区卫生服务中心的联系电话是什么？\n",
      "response 意图分类：日常问题\n"
     ]
    },
    {
     "name": "stderr",
     "output_type": "stream",
     "text": [
      "148it [00:33,  4.50it/s]"
     ]
    },
    {
     "name": "stdout",
     "output_type": "stream",
     "text": [
      "question: 西院肝病楼开办费-标识的中标金额是多少？\n",
      "response 意图分类：招标中标信息\n"
     ]
    },
    {
     "name": "stderr",
     "output_type": "stream",
     "text": [
      "149it [00:33,  4.63it/s]"
     ]
    },
    {
     "name": "stdout",
     "output_type": "stream",
     "text": [
      "question: 上海白衣标识有限公司的地址是什么？\n",
      "response 意图分类：商品数据\n"
     ]
    },
    {
     "name": "stderr",
     "output_type": "stream",
     "text": [
      "150it [00:33,  4.69it/s]"
     ]
    },
    {
     "name": "stdout",
     "output_type": "stream",
     "text": [
      "question: 上海中医药大学附属曙光医院的联系电话是什么？\n",
      "response 意图分类：日常问题\n"
     ]
    },
    {
     "name": "stderr",
     "output_type": "stream",
     "text": [
      "151it [00:34,  4.58it/s]"
     ]
    },
    {
     "name": "stdout",
     "output_type": "stream",
     "text": [
      "question: 病媒防制工作委托管理的中标金额是多少？\n",
      "response 意图分类：招标中标信息\n",
      "question: 上海闽泰环境卫生服务有限公司的地址在哪里？\n",
      "response 意图分类：商品数据\n"
     ]
    },
    {
     "name": "stderr",
     "output_type": "stream",
     "text": [
      "153it [00:34,  4.57it/s]"
     ]
    },
    {
     "name": "stdout",
     "output_type": "stream",
     "text": [
      "question: 徐汇区大华医院保洁配送管理外包服务政府采购项目的标的名称中，中标供应商名称有哪些？\n",
      "response 意图分类：招标中标信息\n"
     ]
    },
    {
     "name": "stderr",
     "output_type": "stream",
     "text": [
      "154it [00:34,  4.47it/s]"
     ]
    },
    {
     "name": "stdout",
     "output_type": "stream",
     "text": [
      "question: 上海电机学院的中标供应商名称中，标的名称有哪些？\n",
      "response 意图分类：招标中标信息\n"
     ]
    },
    {
     "name": "stderr",
     "output_type": "stream",
     "text": [
      "156it [00:35,  4.57it/s]"
     ]
    },
    {
     "name": "stdout",
     "output_type": "stream",
     "text": [
      "question: 上海市嘉定区中心医院的采购人名称中，中标供应商名称有哪些？\n",
      "response 意图分类：招标中标信息\n",
      "question: 上海市东方医院的标的名称中，采购人名称有哪些？\n",
      "response 意图分类：商品数据\n"
     ]
    },
    {
     "name": "stderr",
     "output_type": "stream",
     "text": [
      "157it [00:35,  4.44it/s]"
     ]
    },
    {
     "name": "stdout",
     "output_type": "stream",
     "text": [
      "question: 上海市卫生健康委员会监督所食堂管理项目的中标供应商名称中，标的名称有哪些？\n",
      "response 意图分类：招标中标信息\n"
     ]
    },
    {
     "name": "stderr",
     "output_type": "stream",
     "text": [
      "158it [00:35,  4.58it/s]"
     ]
    },
    {
     "name": "stdout",
     "output_type": "stream",
     "text": [
      "question: 上海市浦东新区金杨社区卫生服务中心物业管理服务的采购人名称中，标的名称有哪些？\n",
      "response 意图分类：商品数据\n"
     ]
    },
    {
     "name": "stderr",
     "output_type": "stream",
     "text": [
      "159it [00:35,  4.46it/s]"
     ]
    },
    {
     "name": "stdout",
     "output_type": "stream",
     "text": [
      "question: 上海霖置实业有限公司的采购人名称中，中标供应商名称有哪些？\n",
      "response 意图分类：招标中标信息\n"
     ]
    },
    {
     "name": "stderr",
     "output_type": "stream",
     "text": [
      "160it [00:36,  4.59it/s]"
     ]
    },
    {
     "name": "stdout",
     "output_type": "stream",
     "text": [
      "question: 上海市青浦区朱家角人民医院的采购人名称中，标的名称有哪些？\n",
      "response 意图分类：商品数据\n"
     ]
    },
    {
     "name": "stderr",
     "output_type": "stream",
     "text": [
      "161it [00:36,  4.51it/s]"
     ]
    },
    {
     "name": "stdout",
     "output_type": "stream",
     "text": [
      "question: 上海济博贸易商行的中标供应商名称中，采购人名称有哪些？\n",
      "response 意图分类：招标中标信息\n"
     ]
    },
    {
     "name": "stderr",
     "output_type": "stream",
     "text": [
      "162it [00:36,  4.63it/s]"
     ]
    },
    {
     "name": "stdout",
     "output_type": "stream",
     "text": [
      "question: 新华人寿保险股份有限公司上海分公司的采购人名称中，标的名称有哪些？\n",
      "response 意图分类：商品数据\n"
     ]
    },
    {
     "name": "stderr",
     "output_type": "stream",
     "text": [
      "163it [00:36,  4.69it/s]"
     ]
    },
    {
     "name": "stdout",
     "output_type": "stream",
     "text": [
      "question: 上海市市级残疾人自助互助康复服务的采购人名称中，标的名称有哪些？\n",
      "response 意图分类：商品数据\n"
     ]
    },
    {
     "name": "stderr",
     "output_type": "stream",
     "text": [
      "164it [00:36,  4.53it/s]"
     ]
    },
    {
     "name": "stdout",
     "output_type": "stream",
     "text": [
      "question: 市级医院肿瘤综合诊治COC（一期）大系统建设项目, 上海市级医院临床专科能力促进子系统建设项目的中标供应商名称中，采购人名称有哪些？\n",
      "response 意图分类：招标中标信息\n"
     ]
    },
    {
     "name": "stderr",
     "output_type": "stream",
     "text": [
      "165it [00:37,  4.47it/s]"
     ]
    },
    {
     "name": "stdout",
     "output_type": "stream",
     "text": [
      "question: 上海爱姆森医疗科技发展有限公司的中标供应商名称中，标的名称有哪些？\n",
      "response 意图分类：招标中标信息\n",
      "question: 上海建科检验有限公司的采购人名称中，标的名称有哪些？\n",
      "response 意图分类：商品数据\n"
     ]
    },
    {
     "name": "stderr",
     "output_type": "stream",
     "text": [
      "167it [00:37,  4.50it/s]"
     ]
    },
    {
     "name": "stdout",
     "output_type": "stream",
     "text": [
      "question: 上海市青浦区赵巷镇社区卫生服务中心的采购人名称中，中标供应商名称有哪些？\n",
      "response 意图分类：招标中标信息\n"
     ]
    },
    {
     "name": "stderr",
     "output_type": "stream",
     "text": [
      "168it [00:37,  4.42it/s]"
     ]
    },
    {
     "name": "stdout",
     "output_type": "stream",
     "text": [
      "question: 上海申卓国际贸易有限公司的采购人名称中，中标供应商名称有哪些？\n",
      "response 意图分类：招标中标信息\n"
     ]
    },
    {
     "name": "stderr",
     "output_type": "stream",
     "text": [
      "169it [00:38,  4.39it/s]"
     ]
    },
    {
     "name": "stdout",
     "output_type": "stream",
     "text": [
      "question: 超声诊断仪的中标供应商名称中，采购人名称有哪些？\n",
      "response 意图分类：招标中标信息\n"
     ]
    },
    {
     "name": "stderr",
     "output_type": "stream",
     "text": [
      "170it [00:38,  4.36it/s]"
     ]
    },
    {
     "name": "stdout",
     "output_type": "stream",
     "text": [
      "question: 复盛建设工程（上海）有限公司的标的名称中，采购人名称有哪些？\n",
      "response 意图分类：招标中标信息\n"
     ]
    },
    {
     "name": "stderr",
     "output_type": "stream",
     "text": [
      "171it [00:38,  4.33it/s]"
     ]
    },
    {
     "name": "stdout",
     "output_type": "stream",
     "text": [
      "question: 65周岁以上老年人健康体检的采购人名称中，中标供应商名称有哪些？\n",
      "response 意图分类：招标中标信息\n",
      "question: 重症医学病房-CT, 重症医学病房-超声诊断仪的标的名称中，采购人名称有哪些？\n",
      "response 意图分类：商品数据\n"
     ]
    },
    {
     "name": "stderr",
     "output_type": "stream",
     "text": [
      "173it [00:38,  4.60it/s]"
     ]
    },
    {
     "name": "stdout",
     "output_type": "stream",
     "text": [
      "question: 合伙人能否将其在合伙企业中的财产份额进行出质？需要哪些程序？\n",
      "response 意图分类：日常问题\n"
     ]
    },
    {
     "name": "stderr",
     "output_type": "stream",
     "text": [
      "174it [00:39,  4.70it/s]"
     ]
    },
    {
     "name": "stdout",
     "output_type": "stream",
     "text": [
      "question: 交易所在哪些情况下会被市发展改革部门处以罚款？\n",
      "response 意图分类：政策内容\n"
     ]
    },
    {
     "name": "stderr",
     "output_type": "stream",
     "text": [
      "175it [00:39,  4.77it/s]"
     ]
    },
    {
     "name": "stdout",
     "output_type": "stream",
     "text": [
      "question: 农民在农业生产中使用了国家明令淘汰的农药，会受到什么处罚？\n",
      "response 意图分类：政策内容\n"
     ]
    },
    {
     "name": "stderr",
     "output_type": "stream",
     "text": [
      "176it [00:39,  4.77it/s]"
     ]
    },
    {
     "name": "stdout",
     "output_type": "stream",
     "text": [
      "question: 如何确保政府采购信息的公开透明？\n",
      "response 意图分类：政策内容\n"
     ]
    },
    {
     "name": "stderr",
     "output_type": "stream",
     "text": [
      "177it [00:39,  4.80it/s]"
     ]
    },
    {
     "name": "stdout",
     "output_type": "stream",
     "text": [
      "question: 有意受让土地使用权者需要从出让人处获取哪些资料？\n",
      "response 意图分类：商品数据\n"
     ]
    },
    {
     "name": "stderr",
     "output_type": "stream",
     "text": [
      "179it [00:40,  4.88it/s]"
     ]
    },
    {
     "name": "stdout",
     "output_type": "stream",
     "text": [
      "question: 在拍卖活动中，如果某方当事人违反了公开、公平、公正、诚实信用的原则，会有什么后果？\n",
      "response 意图分类：日常问题\n",
      "question: 在本市社会投资的房屋建筑工程中，建设单位是否还需要提供银行资金到位证明和预付款证明？\n",
      "response 意图分类：政策内容\n"
     ]
    },
    {
     "name": "stderr",
     "output_type": "stream",
     "text": [
      "180it [00:40,  4.92it/s]"
     ]
    },
    {
     "name": "stdout",
     "output_type": "stream",
     "text": [
      "question: 采购人在与供应商交往过程中有哪些禁止行为？\n",
      "response 意图分类：政策内容\n"
     ]
    },
    {
     "name": "stderr",
     "output_type": "stream",
     "text": [
      "181it [00:40,  4.93it/s]"
     ]
    },
    {
     "name": "stdout",
     "output_type": "stream",
     "text": [
      "question: 采购人能否与政务信息系统运行维护供应商签订超过三年的政府采购合同？\n",
      "response 意图分类：政策内容\n"
     ]
    },
    {
     "name": "stderr",
     "output_type": "stream",
     "text": [
      "182it [00:40,  4.93it/s]"
     ]
    },
    {
     "name": "stdout",
     "output_type": "stream",
     "text": [
      "question: 对于上海市公共资源交易目录外的新增交易活动，应如何处理交易平台问题？\n",
      "response 意图分类：政策内容\n"
     ]
    },
    {
     "name": "stderr",
     "output_type": "stream",
     "text": [
      "184it [00:41,  4.94it/s]"
     ]
    },
    {
     "name": "stdout",
     "output_type": "stream",
     "text": [
      "question: 在国有企业改革中，如何确保党组织的法定地位和发挥其政治核心作用？\n",
      "response 意图分类：政策内容\n",
      "question: 委托拍卖合同签订时，委托人如何交付拍卖标的？\n",
      "response 意图分类：日常问题\n"
     ]
    },
    {
     "name": "stderr",
     "output_type": "stream",
     "text": [
      "185it [00:41,  4.91it/s]"
     ]
    },
    {
     "name": "stdout",
     "output_type": "stream",
     "text": [
      "question: 招投标监管部门在信用标管理方面有哪些具体职责？\n",
      "response 意图分类：政策内容\n"
     ]
    },
    {
     "name": "stderr",
     "output_type": "stream",
     "text": [
      "186it [00:41,  4.92it/s]"
     ]
    },
    {
     "name": "stdout",
     "output_type": "stream",
     "text": [
      "question: 如果在招投标过程中遇到合同纠纷，是否可以直接引用《中华人民共和国民法典》进行维权？\n",
      "response 意图分类：政策内容\n"
     ]
    },
    {
     "name": "stderr",
     "output_type": "stream",
     "text": [
      "187it [00:41,  4.68it/s]"
     ]
    },
    {
     "name": "stdout",
     "output_type": "stream",
     "text": [
      "question: 交易主体在进行招投标活动前，必须通过哪些方式进行身份认证？\n",
      "response 意图分类：招标中标信息\n"
     ]
    },
    {
     "name": "stderr",
     "output_type": "stream",
     "text": [
      "189it [00:42,  4.81it/s]"
     ]
    },
    {
     "name": "stdout",
     "output_type": "stream",
     "text": [
      "question: 采购人在进行政府采购时，是否可以按照个人意愿选择供应商？\n",
      "response 意图分类：政策内容\n",
      "question: 对于不属于工程建设项目但属于固定资产投资的货物招标投标活动，应如何执行相关规定？\n",
      "response 意图分类：政策内容\n"
     ]
    },
    {
     "name": "stderr",
     "output_type": "stream",
     "text": [
      "190it [00:42,  4.63it/s]"
     ]
    },
    {
     "name": "stdout",
     "output_type": "stream",
     "text": [
      "question: 招标人在设定投标人资格要求时，哪些行为会被视为以不合理条件限制或排斥潜在投标人？\n",
      "response 意图分类：招标中标信息\n"
     ]
    },
    {
     "name": "stderr",
     "output_type": "stream",
     "text": [
      "191it [00:42,  4.54it/s]"
     ]
    },
    {
     "name": "stdout",
     "output_type": "stream",
     "text": [
      "question: 招标人或其委托的招标代理机构在发布资格预审公告、招标公告或投标邀请书时，需要包含哪些信息？\n",
      "response 意图分类：招标中标信息\n"
     ]
    },
    {
     "name": "stderr",
     "output_type": "stream",
     "text": [
      "192it [00:42,  4.63it/s]"
     ]
    },
    {
     "name": "stdout",
     "output_type": "stream",
     "text": [
      "question: 联交所能否为非公开协议租赁的双方提供登记和资金结算服务？\n",
      "response 意图分类：日常问题\n"
     ]
    },
    {
     "name": "stderr",
     "output_type": "stream",
     "text": [
      "194it [00:43,  4.80it/s]"
     ]
    },
    {
     "name": "stdout",
     "output_type": "stream",
     "text": [
      "question: 在承包期内，发包方是否有权调整承包地？\n",
      "response 意图分类：日常问题\n",
      "question: 如何判断采购文件是否存在限制性和倾向性？\n",
      "response 意图分类：政策内容\n"
     ]
    },
    {
     "name": "stderr",
     "output_type": "stream",
     "text": [
      "195it [00:43,  4.85it/s]"
     ]
    },
    {
     "name": "stdout",
     "output_type": "stream",
     "text": [
      "question: 财政部门如何实现对事业单位国有资产的动态管理？\n",
      "response 意图分类：政策内容\n"
     ]
    },
    {
     "name": "stderr",
     "output_type": "stream",
     "text": [
      "196it [00:43,  4.88it/s]"
     ]
    },
    {
     "name": "stdout",
     "output_type": "stream",
     "text": [
      "question: 哪些企业属于国家出资企业的范畴？\n",
      "response 意图分类：商品数据\n"
     ]
    },
    {
     "name": "stderr",
     "output_type": "stream",
     "text": [
      "197it [00:43,  4.84it/s]"
     ]
    },
    {
     "name": "stdout",
     "output_type": "stream",
     "text": [
      "question: 第三方机构在碳排放核查过程中，如果出具了虚假的核查报告，会受到怎样的处罚？\n",
      "response 意图分类：政策内容\n"
     ]
    },
    {
     "name": "stderr",
     "output_type": "stream",
     "text": [
      "198it [00:44,  4.87it/s]"
     ]
    },
    {
     "name": "stdout",
     "output_type": "stream",
     "text": [
      "question: 集体经济组织在参与镇村规划编制和村民住宅用地管理时，需要履行哪些职责？\n",
      "response 意图分类：政策内容\n"
     ]
    },
    {
     "name": "stderr",
     "output_type": "stream",
     "text": [
      "199it [00:44,  4.90it/s]"
     ]
    },
    {
     "name": "stdout",
     "output_type": "stream",
     "text": [
      "question: 保险公司变更注册资本时，需要提交哪些关键材料？\n",
      "response 意图分类：政策内容\n"
     ]
    },
    {
     "name": "stderr",
     "output_type": "stream",
     "text": [
      "201it [00:44,  4.93it/s]"
     ]
    },
    {
     "name": "stdout",
     "output_type": "stream",
     "text": [
      "question: 历史文化名城的环境遭到严重破坏，会有什么后果？\n",
      "response 意图分类：政策内容\n",
      "question: 第三方机构在碳排放核查中违规，会受到哪些处罚？\n",
      "response 意图分类：政策内容\n"
     ]
    },
    {
     "name": "stderr",
     "output_type": "stream",
     "text": [
      "202it [00:44,  4.89it/s]"
     ]
    },
    {
     "name": "stdout",
     "output_type": "stream",
     "text": [
      "question: 如果国有金融企业未完成公司制改革，其子公司的增资行为需要报备吗？\n",
      "response 意图分类：政策内容\n",
      "question: 如果企业在过渡期内不符合相关政策要求，应该如何处理？\n",
      "response 意图分类：政策内容\n"
     ]
    },
    {
     "name": "stderr",
     "output_type": "stream",
     "text": [
      "204it [00:45,  4.92it/s]"
     ]
    },
    {
     "name": "stdout",
     "output_type": "stream",
     "text": [
      "question: 闲置土地的动工开发时间如何重新起算？\n",
      "response 意图分类：政策内容\n"
     ]
    },
    {
     "name": "stderr",
     "output_type": "stream",
     "text": [
      "206it [00:45,  4.78it/s]"
     ]
    },
    {
     "name": "stdout",
     "output_type": "stream",
     "text": [
      "question: 投标保证金的到账截止时间应如何设定？\n",
      "response 意图分类：招标中标信息\n",
      "question: 如果企业在“195区域”内擅自分割转让土地使用权，会有什么后果？\n",
      "response 意图分类：政策内容\n"
     ]
    },
    {
     "name": "stderr",
     "output_type": "stream",
     "text": [
      "207it [00:46,  4.60it/s]"
     ]
    },
    {
     "name": "stdout",
     "output_type": "stream",
     "text": [
      "question: 投标人能否使用银行保函代替现金提交投标保证金？\n",
      "response 意图分类：招标中标信息\n"
     ]
    },
    {
     "name": "stderr",
     "output_type": "stream",
     "text": [
      "208it [00:46,  4.69it/s]"
     ]
    },
    {
     "name": "stdout",
     "output_type": "stream",
     "text": [
      "question: 如何确定政府采购的资金节约率？\n",
      "response 意图分类：政策内容\n",
      "question: 农村土地承包经营权证的发放管理由哪个部门负责？\n",
      "response 意图分类：政策内容\n"
     ]
    },
    {
     "name": "stderr",
     "output_type": "stream",
     "text": [
      "210it [00:46,  4.83it/s]"
     ]
    },
    {
     "name": "stdout",
     "output_type": "stream",
     "text": [
      "question: 事业单位的国有资产评估项目需要经过哪些审批程序？\n",
      "response 意图分类：政策内容\n"
     ]
    },
    {
     "name": "stderr",
     "output_type": "stream",
     "text": [
      "211it [00:46,  4.84it/s]"
     ]
    },
    {
     "name": "stdout",
     "output_type": "stream",
     "text": [
      "question: 在招投标过程中，如果发现营商环境方面的问题，可以通过哪些途径进行投诉举报？\n",
      "response 意图分类：政策内容\n"
     ]
    },
    {
     "name": "stderr",
     "output_type": "stream",
     "text": [
      "212it [00:47,  4.64it/s]"
     ]
    },
    {
     "name": "stdout",
     "output_type": "stream",
     "text": [
      "question: 产权转让项目首次正式信息披露的转让底价有何要求？\n",
      "response 意图分类：招标中标信息\n",
      "question: 综合类会员和自营类会员在结算部门的职责上有何区别？\n",
      "response 意图分类：日常问题\n"
     ]
    },
    {
     "name": "stderr",
     "output_type": "stream",
     "text": [
      "214it [00:47,  4.77it/s]"
     ]
    },
    {
     "name": "stdout",
     "output_type": "stream",
     "text": [
      "question: 国有资产监管机构在履行出资人职责时，应如何界定监管边界？\n",
      "response 意图分类：政策内容\n"
     ]
    },
    {
     "name": "stderr",
     "output_type": "stream",
     "text": [
      "215it [00:47,  4.83it/s]"
     ]
    },
    {
     "name": "stdout",
     "output_type": "stream",
     "text": [
      "question: 如果对本规范的内容有疑问，应该向哪个部门咨询？\n",
      "response 意图分类：政策内容\n"
     ]
    },
    {
     "name": "stderr",
     "output_type": "stream",
     "text": [
      "216it [00:47,  4.65it/s]"
     ]
    },
    {
     "name": "stdout",
     "output_type": "stream",
     "text": [
      "question: 在招投标过程中，如何快速办理简易公证事项和查询公证信息？\n",
      "response 意图分类：招标中标信息\n"
     ]
    },
    {
     "name": "stderr",
     "output_type": "stream",
     "text": [
      "217it [00:48,  4.72it/s]"
     ]
    },
    {
     "name": "stdout",
     "output_type": "stream",
     "text": [
      "question: 国有资产监督管理机构的具体职责包括哪些方面？\n",
      "response 意图分类：政策内容\n"
     ]
    },
    {
     "name": "stderr",
     "output_type": "stream",
     "text": [
      "218it [00:48,  4.79it/s]"
     ]
    },
    {
     "name": "stdout",
     "output_type": "stream",
     "text": [
      "question: 市发展改革部门和行业主管部门在公共资源交易中具体负责哪些方面的数据质量评价？\n",
      "response 意图分类：政策内容\n"
     ]
    },
    {
     "name": "stderr",
     "output_type": "stream",
     "text": [
      "219it [00:48,  4.83it/s]"
     ]
    },
    {
     "name": "stdout",
     "output_type": "stream",
     "text": [
      "question: 挂牌出让国有土地使用权的过程中，如何确定最终的土地使用者？\n",
      "response 意图分类：政策内容\n"
     ]
    },
    {
     "name": "stderr",
     "output_type": "stream",
     "text": [
      "220it [00:48,  4.85it/s]"
     ]
    },
    {
     "name": "stdout",
     "output_type": "stream",
     "text": [
      "question: 拍卖企业在举办拍卖活动时，公告发布的时间和媒体选择有哪些具体要求？\n",
      "response 意图分类：政策内容\n"
     ]
    },
    {
     "name": "stderr",
     "output_type": "stream",
     "text": [
      "221it [00:48,  4.86it/s]"
     ]
    },
    {
     "name": "stdout",
     "output_type": "stream",
     "text": [
      "question: 在推广托管服务模式时，如何确保农户的承包关系不被改变？\n",
      "response 意图分类：政策内容\n"
     ]
    },
    {
     "name": "stderr",
     "output_type": "stream",
     "text": [
      "222it [00:49,  4.87it/s]"
     ]
    },
    {
     "name": "stdout",
     "output_type": "stream",
     "text": [
      "question: 建设管理部门在记录从业单位的不良信用信息后，需要多久将其记入市建管平台？\n",
      "response 意图分类：政策内容\n"
     ]
    },
    {
     "name": "stderr",
     "output_type": "stream",
     "text": [
      "223it [00:49,  4.89it/s]"
     ]
    },
    {
     "name": "stdout",
     "output_type": "stream",
     "text": [
      "question: 在拍卖过程中，如果我出价后反悔了，可以撤回我的出价吗？\n",
      "response 意图分类：日常问题\n"
     ]
    },
    {
     "name": "stderr",
     "output_type": "stream",
     "text": [
      "224it [00:49,  4.70it/s]"
     ]
    },
    {
     "name": "stdout",
     "output_type": "stream",
     "text": [
      "question: 中标后，招标人和中标人是否可以签订与原投标文件内容不一致的合同？\n",
      "response 意图分类：招标中标信息\n"
     ]
    },
    {
     "name": "stderr",
     "output_type": "stream",
     "text": [
      "225it [00:49,  4.55it/s]"
     ]
    },
    {
     "name": "stdout",
     "output_type": "stream",
     "text": [
      "question: 询价采购中，供应商提交响应文件的截止时间最少需要提前多少天通知？\n",
      "response 意图分类：招标中标信息\n"
     ]
    },
    {
     "name": "stderr",
     "output_type": "stream",
     "text": [
      "226it [00:50,  4.62it/s]"
     ]
    },
    {
     "name": "stdout",
     "output_type": "stream",
     "text": [
      "question: 如果出让合同约定由受让人拆除原有建筑物，受让人支付出让金后可以获得什么证明？\n",
      "response 意图分类：日常问题\n"
     ]
    },
    {
     "name": "stderr",
     "output_type": "stream",
     "text": [
      "227it [00:50,  4.71it/s]"
     ]
    },
    {
     "name": "stdout",
     "output_type": "stream",
     "text": [
      "question: 评标专家入选专家库有哪些途径？\n",
      "response 意图分类：政策内容\n"
     ]
    },
    {
     "name": "stderr",
     "output_type": "stream",
     "text": [
      "228it [00:50,  4.75it/s]"
     ]
    },
    {
     "name": "stdout",
     "output_type": "stream",
     "text": [
      "question: 借碳期限届满后，如果借入方未偿还所借入的配额，交易所将如何处理？\n",
      "response 意图分类：政策内容\n"
     ]
    },
    {
     "name": "stderr",
     "output_type": "stream",
     "text": [
      "229it [00:50,  4.80it/s]"
     ]
    },
    {
     "name": "stdout",
     "output_type": "stream",
     "text": [
      "question: 财政部门在事业单位国有资产管理中的具体职责包括哪些？\n",
      "response 意图分类：政策内容\n"
     ]
    },
    {
     "name": "stderr",
     "output_type": "stream",
     "text": [
      "230it [00:50,  4.84it/s]"
     ]
    },
    {
     "name": "stdout",
     "output_type": "stream",
     "text": [
      "question: 在哪些情况下，交易所会发出风险警示公告？\n",
      "response 意图分类：政策内容\n"
     ]
    },
    {
     "name": "stderr",
     "output_type": "stream",
     "text": [
      "231it [00:51,  4.61it/s]"
     ]
    },
    {
     "name": "stdout",
     "output_type": "stream",
     "text": [
      "question: 哪些情况下可以开展预选招标？\n",
      "response 意图分类：招标中标信息\n"
     ]
    },
    {
     "name": "stderr",
     "output_type": "stream",
     "text": [
      "232it [00:51,  4.52it/s]"
     ]
    },
    {
     "name": "stdout",
     "output_type": "stream",
     "text": [
      "question: 施工招标中，如果设有标底，评标标底的具体确定方法有哪些？\n",
      "response 意图分类：招标中标信息\n"
     ]
    },
    {
     "name": "stderr",
     "output_type": "stream",
     "text": [
      "233it [00:51,  4.60it/s]"
     ]
    },
    {
     "name": "stdout",
     "output_type": "stream",
     "text": [
      "question: 境外国有产权转让的价款支付方式有何规定？\n",
      "response 意图分类：政策内容\n"
     ]
    },
    {
     "name": "stderr",
     "output_type": "stream",
     "text": [
      "234it [00:51,  4.69it/s]"
     ]
    },
    {
     "name": "stdout",
     "output_type": "stream",
     "text": [
      "question: 新型农业经营主体在建设配套辅助设施时能享受哪些政策优惠？\n",
      "response 意图分类：政策内容\n"
     ]
    },
    {
     "name": "stderr",
     "output_type": "stream",
     "text": [
      "235it [00:51,  4.73it/s]"
     ]
    },
    {
     "name": "stdout",
     "output_type": "stream",
     "text": [
      "question: 在处理多地块平衡、组合出让的历史风貌保护项目时，需要特别注意哪些方面？\n",
      "response 意图分类：政策内容\n"
     ]
    },
    {
     "name": "stderr",
     "output_type": "stream",
     "text": [
      "236it [00:52,  4.56it/s]"
     ]
    },
    {
     "name": "stdout",
     "output_type": "stream",
     "text": [
      "question: 招标人和中标人在中标通知书发出后，应在多长时间内签订书面合同？\n",
      "response 意图分类：招标中标信息\n"
     ]
    },
    {
     "name": "stderr",
     "output_type": "stream",
     "text": [
      "237it [00:52,  4.49it/s]"
     ]
    },
    {
     "name": "stdout",
     "output_type": "stream",
     "text": [
      "question: 在未中标或未竞得前，投标、竞买外汇保证金的所有权归属如何？\n",
      "response 意图分类：招标中标信息\n"
     ]
    },
    {
     "name": "stderr",
     "output_type": "stream",
     "text": [
      "238it [00:52,  4.58it/s]"
     ]
    },
    {
     "name": "stdout",
     "output_type": "stream",
     "text": [
      "question: 上海市的公共资源拍卖活动是否必须通过公共资源拍卖平台进行？\n",
      "response 意图分类：政策内容\n"
     ]
    },
    {
     "name": "stderr",
     "output_type": "stream",
     "text": [
      "239it [00:52,  4.66it/s]"
     ]
    },
    {
     "name": "stdout",
     "output_type": "stream",
     "text": [
      "question: 银监会在调查商业银行股东涉嫌违法事项时，是否有权查阅和复制相关财务会计文件？\n",
      "response 意图分类：政策内容\n"
     ]
    },
    {
     "name": "stderr",
     "output_type": "stream",
     "text": [
      "240it [00:53,  4.52it/s]"
     ]
    },
    {
     "name": "stdout",
     "output_type": "stream",
     "text": [
      "question: 招标人申请自行办理招标事宜时需要提交哪些书面材料？\n",
      "response 意图分类：招标中标信息\n"
     ]
    },
    {
     "name": "stderr",
     "output_type": "stream",
     "text": [
      "241it [00:53,  4.64it/s]"
     ]
    },
    {
     "name": "stdout",
     "output_type": "stream",
     "text": [
      "question: 供销合作社在综合改革试点中应如何改造自我以更好地服务农民？\n",
      "response 意图分类：政策内容\n"
     ]
    },
    {
     "name": "stderr",
     "output_type": "stream",
     "text": [
      "242it [00:53,  4.73it/s]"
     ]
    },
    {
     "name": "stdout",
     "output_type": "stream",
     "text": [
      "question: 综合类会员在交易中是否可以向客户收取佣金？\n",
      "response 意图分类：日常问题\n"
     ]
    },
    {
     "name": "stderr",
     "output_type": "stream",
     "text": [
      "243it [00:53,  4.57it/s]"
     ]
    },
    {
     "name": "stdout",
     "output_type": "stream",
     "text": [
      "question: 在施工招标中，参加开标的投标人代表有哪些具体要求？\n",
      "response 意图分类：招标中标信息\n",
      "question: 采购人在哪些情况下会被责令限期改正并可能面临罚款？\n",
      "response 意图分类：政策内容\n"
     ]
    },
    {
     "name": "stderr",
     "output_type": "stream",
     "text": [
      "245it [00:54,  4.73it/s]"
     ]
    },
    {
     "name": "stdout",
     "output_type": "stream",
     "text": [
      "question: 提交产权交易中止申请时，需要提供哪些材料？\n",
      "response 意图分类：日常问题\n"
     ]
    },
    {
     "name": "stderr",
     "output_type": "stream",
     "text": [
      "246it [00:54,  4.80it/s]"
     ]
    },
    {
     "name": "stdout",
     "output_type": "stream",
     "text": [
      "question: 单位违反配额管理规定，除了罚款外，还会受到哪些行政处理措施？\n",
      "response 意图分类：政策内容\n"
     ]
    },
    {
     "name": "stderr",
     "output_type": "stream",
     "text": [
      "247it [00:54,  4.79it/s]"
     ]
    },
    {
     "name": "stdout",
     "output_type": "stream",
     "text": [
      "question: 民防工程部分的建设用地使用权基本价格如何确定？\n",
      "response 意图分类：政策内容\n"
     ]
    },
    {
     "name": "stderr",
     "output_type": "stream",
     "text": [
      "248it [00:54,  4.81it/s]"
     ]
    },
    {
     "name": "stdout",
     "output_type": "stream",
     "text": [
      "question: 地区铁路监督管理局如何开展铁路建设工程招标投标的监督检查工作？\n",
      "response 意图分类：政策内容\n"
     ]
    },
    {
     "name": "stderr",
     "output_type": "stream",
     "text": [
      "249it [00:54,  4.64it/s]"
     ]
    },
    {
     "name": "stdout",
     "output_type": "stream",
     "text": [
      "question: 招标文件中的技术规格是否必须符合国家技术法规？\n",
      "response 意图分类：招标中标信息\n"
     ]
    },
    {
     "name": "stderr",
     "output_type": "stream",
     "text": [
      "251it [00:55,  4.79it/s]"
     ]
    },
    {
     "name": "stdout",
     "output_type": "stream",
     "text": [
      "question: 评估结果为不佳的发起方在市交易中心会被如何标注？\n",
      "response 意图分类：政策内容\n",
      "question: 房地产权属登记管理的具体要求和流程是怎样的？\n",
      "response 意图分类：政策内容\n"
     ]
    },
    {
     "name": "stderr",
     "output_type": "stream",
     "text": [
      "252it [00:55,  4.84it/s]"
     ]
    },
    {
     "name": "stdout",
     "output_type": "stream",
     "text": [
      "question: 如果采购任务因重大变故取消，采购人需要做哪些工作？\n",
      "response 意图分类：政策内容\n"
     ]
    },
    {
     "name": "stderr",
     "output_type": "stream",
     "text": [
      "254it [00:55,  4.90it/s]"
     ]
    },
    {
     "name": "stdout",
     "output_type": "stream",
     "text": [
      "question: 国有企业经理层成员如何实现任期制和契约化管理？\n",
      "response 意图分类：政策内容\n",
      "question: 评审专家在哪些情况下会被取消专家资格？\n",
      "response 意图分类：政策内容\n"
     ]
    },
    {
     "name": "stderr",
     "output_type": "stream",
     "text": [
      "255it [00:56,  4.90it/s]"
     ]
    },
    {
     "name": "stdout",
     "output_type": "stream",
     "text": [
      "question: 招标文件的澄清和修改是否需要依法进行？\n",
      "response 意图分类：政策内容\n"
     ]
    },
    {
     "name": "stderr",
     "output_type": "stream",
     "text": [
      "257it [00:56,  4.94it/s]"
     ]
    },
    {
     "name": "stdout",
     "output_type": "stream",
     "text": [
      "question: 本市各级财政部门在政府采购创新产品政策执行中需要承担哪些职责？\n",
      "response 意图分类：政策内容\n",
      "question: 增资人在发布增资公告时，需要承担哪些责任？\n",
      "response 意图分类：政策内容\n"
     ]
    },
    {
     "name": "stderr",
     "output_type": "stream",
     "text": [
      "258it [00:56,  4.93it/s]"
     ]
    },
    {
     "name": "stdout",
     "output_type": "stream",
     "text": [
      "question: 如果申请人未按规定交纳保证金，其申请会被视为无效吗？\n",
      "response 意图分类：政策内容\n"
     ]
    },
    {
     "name": "stderr",
     "output_type": "stream",
     "text": [
      "259it [00:56,  4.94it/s]"
     ]
    },
    {
     "name": "stdout",
     "output_type": "stream",
     "text": [
      "question: 采购人和采购代理机构在提供材料时需要承担哪些责任？\n",
      "response 意图分类：政策内容\n"
     ]
    },
    {
     "name": "stderr",
     "output_type": "stream",
     "text": [
      "260it [00:57,  4.69it/s]"
     ]
    },
    {
     "name": "stdout",
     "output_type": "stream",
     "text": [
      "question: 港口工程项目有尾留工程时，项目单位应如何处理？\n",
      "response 意图分类：招标中标信息\n"
     ]
    },
    {
     "name": "stderr",
     "output_type": "stream",
     "text": [
      "261it [00:57,  4.77it/s]"
     ]
    },
    {
     "name": "stdout",
     "output_type": "stream",
     "text": [
      "question: 房地产买卖合同中需要包含哪些主要内容？\n",
      "response 意图分类：商品数据\n"
     ]
    },
    {
     "name": "stderr",
     "output_type": "stream",
     "text": [
      "262it [00:57,  4.78it/s]"
     ]
    },
    {
     "name": "stdout",
     "output_type": "stream",
     "text": [
      "question: 财政部门在处理投诉事项时，主要采用什么方式？在什么情况下会进行调查取证或组织质证？\n",
      "response 意图分类：政策内容\n"
     ]
    },
    {
     "name": "stderr",
     "output_type": "stream",
     "text": [
      "263it [00:57,  4.81it/s]"
     ]
    },
    {
     "name": "stdout",
     "output_type": "stream",
     "text": [
      "question: 在技术复杂、专业性强的采购项目中，如何选择合适的评审专家？\n",
      "response 意图分类：政策内容\n"
     ]
    },
    {
     "name": "stderr",
     "output_type": "stream",
     "text": [
      "264it [00:58,  4.83it/s]"
     ]
    },
    {
     "name": "stdout",
     "output_type": "stream",
     "text": [
      "question: 民航地区管理局收到招标方案备案材料后，多久内会给出审核结果？\n",
      "response 意图分类：政策内容\n"
     ]
    },
    {
     "name": "stderr",
     "output_type": "stream",
     "text": [
      "265it [00:58,  4.83it/s]"
     ]
    },
    {
     "name": "stdout",
     "output_type": "stream",
     "text": [
      "question: 上海市拍卖行业公共平台计划在哪些领域率先应用网络同步拍卖？\n",
      "response 意图分类：商品数据\n"
     ]
    },
    {
     "name": "stderr",
     "output_type": "stream",
     "text": [
      "266it [00:58,  4.86it/s]"
     ]
    },
    {
     "name": "stdout",
     "output_type": "stream",
     "text": [
      "question: 施工单位未向施工现场管理人员和作业人员进行方案交底和安全技术交底，会受到哪些处罚？\n",
      "response 意图分类：政策内容\n"
     ]
    },
    {
     "name": "stderr",
     "output_type": "stream",
     "text": [
      "267it [00:58,  4.88it/s]"
     ]
    },
    {
     "name": "stdout",
     "output_type": "stream",
     "text": [
      "question: 成套改造风貌保护更新项目是否可以新增用地？\n",
      "response 意图分类：商品数据\n"
     ]
    },
    {
     "name": "stderr",
     "output_type": "stream",
     "text": [
      "268it [00:58,  4.89it/s]"
     ]
    },
    {
     "name": "stdout",
     "output_type": "stream",
     "text": [
      "question: 商业银行股东通过不正当手段获得5%以上股份的批准，会有什么后果？\n",
      "response 意图分类：政策内容\n"
     ]
    },
    {
     "name": "stderr",
     "output_type": "stream",
     "text": [
      "269it [00:59,  4.90it/s]"
     ]
    },
    {
     "name": "stdout",
     "output_type": "stream",
     "text": [
      "question: 哪些法律法规对提高政府采购透明度提出了要求？\n",
      "response 意图分类：政策内容\n"
     ]
    },
    {
     "name": "stderr",
     "output_type": "stream",
     "text": [
      "270it [00:59,  4.90it/s]"
     ]
    },
    {
     "name": "stdout",
     "output_type": "stream",
     "text": [
      "question: 会员无法履约时，交易所可以采取哪些措施？\n",
      "response 意图分类：日常问题\n"
     ]
    },
    {
     "name": "stderr",
     "output_type": "stream",
     "text": [
      "271it [00:59,  4.89it/s]"
     ]
    },
    {
     "name": "stdout",
     "output_type": "stream",
     "text": [
      "question: 供应商提交登记申请后，多久能知道是否入库？\n",
      "response 意图分类：商品数据\n"
     ]
    },
    {
     "name": "stderr",
     "output_type": "stream",
     "text": [
      "272it [00:59,  4.87it/s]"
     ]
    },
    {
     "name": "stdout",
     "output_type": "stream",
     "text": [
      "question: 大型居住社区的安全质量监督申报手续如何办理？\n",
      "response 意图分类：日常问题\n"
     ]
    },
    {
     "name": "stderr",
     "output_type": "stream",
     "text": [
      "273it [00:59,  4.90it/s]"
     ]
    },
    {
     "name": "stdout",
     "output_type": "stream",
     "text": [
      "question: 发起方的信用记分达到多少分会被评估为优秀？\n",
      "response 意图分类：政策内容\n"
     ]
    },
    {
     "name": "stderr",
     "output_type": "stream",
     "text": [
      "274it [01:00,  4.90it/s]"
     ]
    },
    {
     "name": "stdout",
     "output_type": "stream",
     "text": [
      "question: 竣工验收现场核查组的成员人数和专家比例有何规定？\n",
      "response 意图分类：政策内容\n"
     ]
    },
    {
     "name": "stderr",
     "output_type": "stream",
     "text": [
      "275it [01:00,  4.91it/s]"
     ]
    },
    {
     "name": "stdout",
     "output_type": "stream",
     "text": [
      "question: 国家铁路局在铁路建设工程招标投标监督管理中的具体职责是什么？\n",
      "response 意图分类：政策内容\n"
     ]
    },
    {
     "name": "stderr",
     "output_type": "stream",
     "text": [
      "276it [01:00,  4.92it/s]"
     ]
    },
    {
     "name": "stdout",
     "output_type": "stream",
     "text": [
      "question: 公共资源拍卖平台如何加强对拍卖活动的规范引导？\n",
      "response 意图分类：政策内容\n"
     ]
    },
    {
     "name": "stderr",
     "output_type": "stream",
     "text": [
      "277it [01:00,  4.70it/s]"
     ]
    },
    {
     "name": "stdout",
     "output_type": "stream",
     "text": [
      "question: 招标文件中哪些要求和条件属于实质性要求，必须以醒目的方式标明？\n",
      "response 意图分类：招标中标信息\n"
     ]
    },
    {
     "name": "stderr",
     "output_type": "stream",
     "text": [
      "278it [01:00,  4.77it/s]"
     ]
    },
    {
     "name": "stdout",
     "output_type": "stream",
     "text": [
      "question: 如果单位在第三方机构核查时提供虚假资料，会受到什么处罚？\n",
      "response 意图分类：政策内容\n"
     ]
    },
    {
     "name": "stderr",
     "output_type": "stream",
     "text": [
      "279it [01:01,  4.79it/s]"
     ]
    },
    {
     "name": "stdout",
     "output_type": "stream",
     "text": [
      "question: 电子认证服务提供者如果不遵守认证业务规则会有什么后果？\n",
      "response 意图分类：政策内容\n"
     ]
    },
    {
     "name": "stderr",
     "output_type": "stream",
     "text": [
      "280it [01:01,  4.82it/s]"
     ]
    },
    {
     "name": "stdout",
     "output_type": "stream",
     "text": [
      "question: 在审查电子投标文件作为证据的真实性时，需要考虑哪些因素？\n",
      "response 意图分类：政策内容\n"
     ]
    },
    {
     "name": "stderr",
     "output_type": "stream",
     "text": [
      "281it [01:01,  4.86it/s]"
     ]
    },
    {
     "name": "stdout",
     "output_type": "stream",
     "text": [
      "question: 在房地产项目中，如果国家为了公共利益需要征收个人住宅，被征收人可以获得哪些补偿和保障？\n",
      "response 意图分类：政策内容\n",
      "question: 保险公司筹备组在开立验资账户时需要遵循哪些规定？\n",
      "response 意图分类：政策内容\n"
     ]
    },
    {
     "name": "stderr",
     "output_type": "stream",
     "text": [
      "283it [01:01,  4.92it/s]"
     ]
    },
    {
     "name": "stdout",
     "output_type": "stream",
     "text": [
      "question: 企业违反碳排放配额管理规定，除了罚款外，还可能面临哪些行政处理措施？\n",
      "response 意图分类：政策内容\n"
     ]
    },
    {
     "name": "stderr",
     "output_type": "stream",
     "text": [
      "284it [01:02,  4.89it/s]"
     ]
    },
    {
     "name": "stdout",
     "output_type": "stream",
     "text": [
      "question: 在土地使用权出让意向书中，公示期间如果有异议且经审查发现违反法律法规行为，会如何处理？\n",
      "response 意图分类：政策内容\n"
     ]
    },
    {
     "name": "stderr",
     "output_type": "stream",
     "text": [
      "285it [01:02,  4.70it/s]"
     ]
    },
    {
     "name": "stdout",
     "output_type": "stream",
     "text": [
      "question: 在招标拍卖挂牌出让公告中，出让人可以设置哪些限制条件？\n",
      "response 意图分类：招标中标信息\n"
     ]
    },
    {
     "name": "stderr",
     "output_type": "stream",
     "text": [
      "286it [01:02,  4.76it/s]"
     ]
    },
    {
     "name": "stdout",
     "output_type": "stream",
     "text": [
      "question: 拟聘评审专家需要接受哪些培训？\n",
      "response 意图分类：政策内容\n"
     ]
    },
    {
     "name": "stderr",
     "output_type": "stream",
     "text": [
      "287it [01:02,  4.78it/s]"
     ]
    },
    {
     "name": "stdout",
     "output_type": "stream",
     "text": [
      "question: 财政部门在政府采购项目绩效评价方面有哪些职责？\n",
      "response 意图分类：政策内容\n"
     ]
    },
    {
     "name": "stderr",
     "output_type": "stream",
     "text": [
      "288it [01:02,  4.83it/s]"
     ]
    },
    {
     "name": "stdout",
     "output_type": "stream",
     "text": [
      "question: 本市公共资源交易平台管理办法的修订主要包括哪些内容？\n",
      "response 意图分类：政策内容\n"
     ]
    },
    {
     "name": "stderr",
     "output_type": "stream",
     "text": [
      "289it [01:03,  4.86it/s]"
     ]
    },
    {
     "name": "stdout",
     "output_type": "stream",
     "text": [
      "question: 在仲裁过程中，如果当事人发现笔录中有遗漏或差错，应该如何处理？\n",
      "response 意图分类：日常问题\n"
     ]
    },
    {
     "name": "stderr",
     "output_type": "stream",
     "text": [
      "290it [01:03,  4.89it/s]"
     ]
    },
    {
     "name": "stdout",
     "output_type": "stream",
     "text": [
      "question: 事业单位在处置国有资产时，是否可以自行决定处置而不经过审批？\n",
      "response 意图分类：政策内容\n"
     ]
    },
    {
     "name": "stderr",
     "output_type": "stream",
     "text": [
      "291it [01:03,  4.90it/s]"
     ]
    },
    {
     "name": "stdout",
     "output_type": "stream",
     "text": [
      "question: 出租方在招租过程中需要设置保证金吗？如果需要，应明确哪些内容？\n",
      "response 意图分类：日常问题\n"
     ]
    },
    {
     "name": "stderr",
     "output_type": "stream",
     "text": [
      "292it [01:03,  4.91it/s]"
     ]
    },
    {
     "name": "stdout",
     "output_type": "stream",
     "text": [
      "question: 在政府采购项目中，补抽专家或重新组建评审委员会后，需要做哪些书面记录？\n",
      "response 意图分类：政策内容\n"
     ]
    },
    {
     "name": "stderr",
     "output_type": "stream",
     "text": [
      "293it [01:03,  4.87it/s]"
     ]
    },
    {
     "name": "stdout",
     "output_type": "stream",
     "text": [
      "question: 意向投资人在参与增资项目时，需要进行哪些工作？\n",
      "response 意图分类：日常问题\n"
     ]
    },
    {
     "name": "stderr",
     "output_type": "stream",
     "text": [
      "294it [01:04,  4.89it/s]"
     ]
    },
    {
     "name": "stdout",
     "output_type": "stream",
     "text": [
      "question: 在进行上市公司股份直接协议转让时，转让方需要履行哪些内部决策程序？\n",
      "response 意图分类：政策内容\n"
     ]
    },
    {
     "name": "stderr",
     "output_type": "stream",
     "text": [
      "295it [01:04,  4.88it/s]"
     ]
    },
    {
     "name": "stdout",
     "output_type": "stream",
     "text": [
      "question: 政府在履行出资人职责时，应遵循哪些原则？\n",
      "response 意图分类：政策内容\n"
     ]
    },
    {
     "name": "stderr",
     "output_type": "stream",
     "text": [
      "296it [01:04,  4.68it/s]"
     ]
    },
    {
     "name": "stdout",
     "output_type": "stream",
     "text": [
      "question: 如何满足“采购三重四级杆气相色谱质谱联用仪”项目的申请人资格要求？\n",
      "response 意图分类：招标中标信息\n"
     ]
    },
    {
     "name": "stderr",
     "output_type": "stream",
     "text": [
      "297it [01:04,  4.56it/s]"
     ]
    },
    {
     "name": "stdout",
     "output_type": "stream",
     "text": [
      "question: “数字倒置荧光显微镜”项目的最高限价是多少？\n",
      "response 意图分类：招标中标信息\n"
     ]
    },
    {
     "name": "stderr",
     "output_type": "stream",
     "text": [
      "298it [01:05,  4.67it/s]"
     ]
    },
    {
     "name": "stdout",
     "output_type": "stream",
     "text": [
      "question: “罗泾社区卫生服务中心X射线计算机体层摄影（CT）设备采购”项目的联系人是谁？\n",
      "response 意图分类：商品数据\n"
     ]
    },
    {
     "name": "stderr",
     "output_type": "stream",
     "text": [
      "299it [01:05,  4.54it/s]"
     ]
    },
    {
     "name": "stdout",
     "output_type": "stream",
     "text": [
      "question: “皮秒激光仪”项目的采购人代理人联系方式是什么？\n",
      "response 意图分类：招标中标信息\n"
     ]
    },
    {
     "name": "stderr",
     "output_type": "stream",
     "text": [
      "300it [01:05,  4.44it/s]"
     ]
    },
    {
     "name": "stdout",
     "output_type": "stream",
     "text": [
      "question: “生物分子相互作用分析系统”项目的采购人地址在哪里？\n",
      "response 意图分类：招标中标信息\n"
     ]
    },
    {
     "name": "stderr",
     "output_type": "stream",
     "text": [
      "301it [01:05,  4.38it/s]"
     ]
    },
    {
     "name": "stdout",
     "output_type": "stream",
     "text": [
      "question: “高级成像与表面形貌分析用多功能共聚焦显微镜”项目的最高限价是多少？\n",
      "response 意图分类：招标中标信息\n"
     ]
    },
    {
     "name": "stderr",
     "output_type": "stream",
     "text": [
      "302it [01:05,  4.33it/s]"
     ]
    },
    {
     "name": "stdout",
     "output_type": "stream",
     "text": [
      "question: “沉积物粒度组成和年代测试”项目的采购人代理人名称是什么？\n",
      "response 意图分类：招标中标信息\n"
     ]
    },
    {
     "name": "stderr",
     "output_type": "stream",
     "text": [
      "303it [01:06,  4.33it/s]"
     ]
    },
    {
     "name": "stdout",
     "output_type": "stream",
     "text": [
      "question: “浦东新区南汇新城镇社区卫生服务中心CT机”项目是否有特定的资格要求？\n",
      "response 意图分类：招标中标信息\n"
     ]
    },
    {
     "name": "stderr",
     "output_type": "stream",
     "text": [
      "304it [01:06,  4.29it/s]"
     ]
    },
    {
     "name": "stdout",
     "output_type": "stream",
     "text": [
      "question: “颗粒纳米生物检测仪”项目的预算金额是多少？\n",
      "response 意图分类：招标中标信息\n"
     ]
    },
    {
     "name": "stderr",
     "output_type": "stream",
     "text": [
      "305it [01:06,  4.30it/s]"
     ]
    },
    {
     "name": "stdout",
     "output_type": "stream",
     "text": [
      "question: “高端便携式彩色多普勒超声诊断仪”项目的采购人代理人地址在哪里？\n",
      "response 意图分类：招标中标信息\n"
     ]
    },
    {
     "name": "stderr",
     "output_type": "stream",
     "text": [
      "306it [01:06,  4.29it/s]"
     ]
    },
    {
     "name": "stdout",
     "output_type": "stream",
     "text": [
      "question: “细胞器精准提取分析系统”项目的联系人电话是什么？\n",
      "response 意图分类：招标中标信息\n"
     ]
    },
    {
     "name": "stderr",
     "output_type": "stream",
     "text": [
      "307it [01:07,  4.30it/s]"
     ]
    },
    {
     "name": "stdout",
     "output_type": "stream",
     "text": [
      "question: “上海交通大学医学院动物手术实验室设备等采购项目”的预算金额是多少？\n",
      "response 意图分类：招标中标信息\n"
     ]
    },
    {
     "name": "stderr",
     "output_type": "stream",
     "text": [
      "308it [01:07,  4.27it/s]"
     ]
    },
    {
     "name": "stdout",
     "output_type": "stream",
     "text": [
      "question: “中国福利会国际和平妇幼保健院2024年医疗设备（四）”项目的包名称是什么？\n",
      "response 意图分类：招标中标信息\n"
     ]
    },
    {
     "name": "stderr",
     "output_type": "stream",
     "text": [
      "309it [01:07,  4.27it/s]"
     ]
    },
    {
     "name": "stdout",
     "output_type": "stream",
     "text": [
      "question: “层析成像扫描仪配件升级”项目的采购人联系方式是什么？\n",
      "response 意图分类：招标中标信息\n"
     ]
    },
    {
     "name": "stderr",
     "output_type": "stream",
     "text": [
      "310it [01:07,  4.27it/s]"
     ]
    },
    {
     "name": "stdout",
     "output_type": "stream",
     "text": [
      "question: “徐汇区城运中心-区公安分局2024年度350兆PDT系统建设”项目的预算金额是多少？\n",
      "response 意图分类：招标中标信息\n"
     ]
    },
    {
     "name": "stderr",
     "output_type": "stream",
     "text": [
      "311it [01:08,  4.28it/s]"
     ]
    },
    {
     "name": "stdout",
     "output_type": "stream",
     "text": [
      "question: “公卫中心开办设备第一批”项目的采购人代理人名称是什么？\n",
      "response 意图分类：招标中标信息\n"
     ]
    },
    {
     "name": "stderr",
     "output_type": "stream",
     "text": [
      "312it [01:08,  4.46it/s]"
     ]
    },
    {
     "name": "stdout",
     "output_type": "stream",
     "text": [
      "question: “高精度地图创新应用保障技术性支撑和地图成果技术审查”项目的联系人是谁？\n",
      "response 意图分类：政策内容\n"
     ]
    },
    {
     "name": "stderr",
     "output_type": "stream",
     "text": [
      "313it [01:08,  4.37it/s]"
     ]
    },
    {
     "name": "stdout",
     "output_type": "stream",
     "text": [
      "question: “触控一体机更新项目（二）”项目的采购人代理人地址在哪里？\n",
      "response 意图分类：招标中标信息\n"
     ]
    },
    {
     "name": "stderr",
     "output_type": "stream",
     "text": [
      "314it [01:08,  4.35it/s]"
     ]
    },
    {
     "name": "stdout",
     "output_type": "stream",
     "text": [
      "question: “上海健康医学院附属崇明医院医疗设备采购”项目的包名称是什么？\n",
      "response 意图分类：招标中标信息\n"
     ]
    },
    {
     "name": "stderr",
     "output_type": "stream",
     "text": [
      "315it [01:09,  4.31it/s]"
     ]
    },
    {
     "name": "stdout",
     "output_type": "stream",
     "text": [
      "question: “2024年青浦区卫健委医疗设备采购项目三（2）”项目的预算金额是多少？\n",
      "response 意图分类：招标中标信息\n"
     ]
    },
    {
     "name": "stderr",
     "output_type": "stream",
     "text": [
      "316it [01:09,  4.31it/s]"
     ]
    },
    {
     "name": "stdout",
     "output_type": "stream",
     "text": [
      "question: “设备-彩色超声诊断仪”项目的采购人代理人联系方式是什么？\n",
      "response 意图分类：招标中标信息\n"
     ]
    },
    {
     "name": "stderr",
     "output_type": "stream",
     "text": [
      "317it [01:09,  4.23it/s]"
     ]
    },
    {
     "name": "stdout",
     "output_type": "stream",
     "text": [
      "question: “上海交通大学医学院附属上海儿童医学中心 医疗设备项目”的联系人电话是什么？\n",
      "response 意图分类：招标中标信息\n"
     ]
    },
    {
     "name": "stderr",
     "output_type": "stream",
     "text": [
      "318it [01:09,  4.24it/s]"
     ]
    },
    {
     "name": "stdout",
     "output_type": "stream",
     "text": [
      "question: “直线加速器（第二次）”项目的采购人地址在哪里？\n",
      "response 意图分类：招标中标信息\n"
     ]
    },
    {
     "name": "stderr",
     "output_type": "stream",
     "text": [
      "319it [01:09,  4.24it/s]"
     ]
    },
    {
     "name": "stdout",
     "output_type": "stream",
     "text": [
      "question: “嘉定卫生信息服务采购项目”的预算金额是多少？\n",
      "response 意图分类：招标中标信息\n"
     ]
    },
    {
     "name": "stderr",
     "output_type": "stream",
     "text": [
      "320it [01:10,  4.24it/s]"
     ]
    },
    {
     "name": "stdout",
     "output_type": "stream",
     "text": [
      "question: “上海市中医医院嘉定院区设备物资开办（超声引导激光消融治疗系统 ）”项目的采购人代理人名称是什么？\n",
      "response 意图分类：招标中标信息\n"
     ]
    },
    {
     "name": "stderr",
     "output_type": "stream",
     "text": [
      "321it [01:10,  4.24it/s]"
     ]
    },
    {
     "name": "stdout",
     "output_type": "stream",
     "text": [
      "question: “多功能全自动蛋白质表达定量分析系统”项目的采购人联系方式是什么？\n",
      "response 意图分类：招标中标信息\n"
     ]
    },
    {
     "name": "stderr",
     "output_type": "stream",
     "text": [
      "322it [01:10,  4.24it/s]"
     ]
    },
    {
     "name": "stdout",
     "output_type": "stream",
     "text": [
      "question: “流式细胞分析/分选仪”项目的预算金额是多少？\n",
      "response 意图分类：招标中标信息\n"
     ]
    },
    {
     "name": "stderr",
     "output_type": "stream",
     "text": [
      "323it [01:10,  4.25it/s]"
     ]
    },
    {
     "name": "stdout",
     "output_type": "stream",
     "text": [
      "question: “超声外科吸引系统”项目的采购人代理人地址在哪里？\n",
      "response 意图分类：招标中标信息\n"
     ]
    },
    {
     "name": "stderr",
     "output_type": "stream",
     "text": [
      "324it [01:11,  4.25it/s]"
     ]
    },
    {
     "name": "stdout",
     "output_type": "stream",
     "text": [
      "question: “一体式大平板C型臂”项目的联系人是谁？\n",
      "response 意图分类：招标中标信息\n"
     ]
    },
    {
     "name": "stderr",
     "output_type": "stream",
     "text": [
      "325it [01:11,  4.25it/s]"
     ]
    },
    {
     "name": "stdout",
     "output_type": "stream",
     "text": [
      "question: “外科腹腔镜超声”项目的采购人代理人名称是什么？\n",
      "response 意图分类：招标中标信息\n"
     ]
    },
    {
     "name": "stderr",
     "output_type": "stream",
     "text": [
      "326it [01:11,  4.21it/s]"
     ]
    },
    {
     "name": "stdout",
     "output_type": "stream",
     "text": [
      "question: “3.0T核磁共振”项目的采购人联系方式是什么？\n",
      "response 意图分类：招标中标信息\n"
     ]
    },
    {
     "name": "stderr",
     "output_type": "stream",
     "text": [
      "327it [01:11,  4.24it/s]"
     ]
    },
    {
     "name": "stdout",
     "output_type": "stream",
     "text": [
      "question: “月浦镇农村房地一体宅基地确权登记项目”的预算金额是多少？\n",
      "response 意图分类：招标中标信息\n"
     ]
    },
    {
     "name": "stderr",
     "output_type": "stream",
     "text": [
      "328it [01:12,  4.20it/s]"
     ]
    },
    {
     "name": "stdout",
     "output_type": "stream",
     "text": [
      "question: “第七人民医院钬激光治疗机项目”的采购人代理人地址在哪里？\n",
      "response 意图分类：招标中标信息\n"
     ]
    },
    {
     "name": "stderr",
     "output_type": "stream",
     "text": [
      "329it [01:12,  4.22it/s]"
     ]
    },
    {
     "name": "stdout",
     "output_type": "stream",
     "text": [
      "question: “辐射抗扰度测试系统”项目的联系人电话是什么？\n",
      "response 意图分类：招标中标信息\n"
     ]
    },
    {
     "name": "stderr",
     "output_type": "stream",
     "text": [
      "330it [01:12,  4.21it/s]"
     ]
    },
    {
     "name": "stdout",
     "output_type": "stream",
     "text": [
      "question: “特种光纤化学气相沉积材料生长系统”项目的采购人名称是什么？\n",
      "response 意图分类：招标中标信息\n"
     ]
    },
    {
     "name": "stderr",
     "output_type": "stream",
     "text": [
      "331it [01:12,  4.24it/s]"
     ]
    },
    {
     "name": "stdout",
     "output_type": "stream",
     "text": [
      "question: “高档彩色多普勒超声诊断仪”项目的预算金额是多少？\n",
      "response 意图分类：招标中标信息\n"
     ]
    },
    {
     "name": "stderr",
     "output_type": "stream",
     "text": [
      "332it [01:13,  4.25it/s]"
     ]
    },
    {
     "name": "stdout",
     "output_type": "stream",
     "text": [
      "question: “朱家角人民医院医用超声波仪器及设备项目”的采购人代理人名称是什么？\n",
      "response 意图分类：招标中标信息\n"
     ]
    },
    {
     "name": "stderr",
     "output_type": "stream",
     "text": [
      "333it [01:13,  4.27it/s]"
     ]
    },
    {
     "name": "stdout",
     "output_type": "stream",
     "text": [
      "question: “振动样品磁强计装备”项目的采购人联系方式是什么？\n",
      "response 意图分类：招标中标信息\n"
     ]
    },
    {
     "name": "stderr",
     "output_type": "stream",
     "text": [
      "334it [01:13,  4.25it/s]"
     ]
    },
    {
     "name": "stdout",
     "output_type": "stream",
     "text": [
      "question: “上海市精神卫生中心流式细胞仪项目”的预算金额是多少？\n",
      "response 意图分类：招标中标信息\n"
     ]
    },
    {
     "name": "stderr",
     "output_type": "stream",
     "text": [
      "335it [01:13,  4.26it/s]"
     ]
    },
    {
     "name": "stdout",
     "output_type": "stream",
     "text": [
      "question: “社保队员第三方购买服务项目”的采购人代理人地址在哪里？\n",
      "response 意图分类：招标中标信息\n"
     ]
    },
    {
     "name": "stderr",
     "output_type": "stream",
     "text": [
      "336it [01:13,  4.27it/s]"
     ]
    },
    {
     "name": "stdout",
     "output_type": "stream",
     "text": [
      "question: “上海市养志康复医院（上海市阳光康复中心）虚拟现实康复训练系统”项目的联系人是谁？\n",
      "response 意图分类：招标中标信息\n"
     ]
    },
    {
     "name": "stderr",
     "output_type": "stream",
     "text": [
      "337it [01:14,  4.25it/s]"
     ]
    },
    {
     "name": "stdout",
     "output_type": "stream",
     "text": [
      "question: “上海市第一人民医院重症医学病房建设项目（五）”项目的采购人代理人名称是什么？\n",
      "response 意图分类：招标中标信息\n"
     ]
    },
    {
     "name": "stderr",
     "output_type": "stream",
     "text": [
      "338it [01:14,  4.24it/s]"
     ]
    },
    {
     "name": "stdout",
     "output_type": "stream",
     "text": [
      "question: “采购三重四级杆气相色谱质谱联用仪”项目的采购人代理人联系方式是什么？\n",
      "response 意图分类：招标中标信息\n"
     ]
    },
    {
     "name": "stderr",
     "output_type": "stream",
     "text": [
      "339it [01:14,  4.24it/s]"
     ]
    },
    {
     "name": "stdout",
     "output_type": "stream",
     "text": [
      "question: “数字倒置荧光显微镜”项目的采购人地址在哪里？\n",
      "response 意图分类：招标中标信息\n"
     ]
    },
    {
     "name": "stderr",
     "output_type": "stream",
     "text": [
      "340it [01:14,  4.27it/s]"
     ]
    },
    {
     "name": "stdout",
     "output_type": "stream",
     "text": [
      "question: “手术显微镜（含自筹）”项目的联系人电话是什么？\n",
      "response 意图分类：招标中标信息\n"
     ]
    },
    {
     "name": "stderr",
     "output_type": "stream",
     "text": [
      "342it [01:15,  4.46it/s]"
     ]
    },
    {
     "name": "stdout",
     "output_type": "stream",
     "text": [
      "question: “上海市老年医学中心开办项目-痕量分子靶标检测系统、流式细胞仪”项目的预算金额是多少？\n",
      "response 意图分类：招标中标信息\n",
      "question: “罗泾社区卫生服务中心X射线计算机体层摄影（CT）设备采购”项目的采购人代理人名称是什么？\n",
      "response 意图分类：商品数据\n"
     ]
    },
    {
     "name": "stderr",
     "output_type": "stream",
     "text": [
      "343it [01:15,  4.35it/s]"
     ]
    },
    {
     "name": "stdout",
     "output_type": "stream",
     "text": [
      "question: “皮秒激光仪”项目的采购人联系方式是什么？\n",
      "response 意图分类：招标中标信息\n"
     ]
    },
    {
     "name": "stderr",
     "output_type": "stream",
     "text": [
      "344it [01:15,  4.33it/s]"
     ]
    },
    {
     "name": "stdout",
     "output_type": "stream",
     "text": [
      "question: “生物分子相互作用分析系统”项目的预算金额是多少？\n",
      "response 意图分类：招标中标信息\n"
     ]
    },
    {
     "name": "stderr",
     "output_type": "stream",
     "text": [
      "345it [01:16,  4.29it/s]"
     ]
    },
    {
     "name": "stdout",
     "output_type": "stream",
     "text": [
      "question: “高级成像与表面形貌分析用多功能共聚焦显微镜”项目的采购人代理人地址在哪里？\n",
      "response 意图分类：招标中标信息\n"
     ]
    },
    {
     "name": "stderr",
     "output_type": "stream",
     "text": [
      "346it [01:16,  4.29it/s]"
     ]
    },
    {
     "name": "stdout",
     "output_type": "stream",
     "text": [
      "question: “沉积物粒度组成和年代测试”项目的联系人是谁？\n",
      "response 意图分类：招标中标信息\n"
     ]
    },
    {
     "name": "stderr",
     "output_type": "stream",
     "text": [
      "347it [01:16,  4.28it/s]"
     ]
    },
    {
     "name": "stdout",
     "output_type": "stream",
     "text": [
      "question: “浦东新区南汇新城镇社区卫生服务中心CT机”项目的采购人代理人名称是什么？\n",
      "response 意图分类：招标中标信息\n"
     ]
    },
    {
     "name": "stderr",
     "output_type": "stream",
     "text": [
      "348it [01:16,  4.29it/s]"
     ]
    },
    {
     "name": "stdout",
     "output_type": "stream",
     "text": [
      "question: “颗粒纳米生物检测仪”项目的采购人联系方式是什么？\n",
      "response 意图分类：招标中标信息\n"
     ]
    },
    {
     "name": "stderr",
     "output_type": "stream",
     "text": [
      "349it [01:16,  4.29it/s]"
     ]
    },
    {
     "name": "stdout",
     "output_type": "stream",
     "text": [
      "question: “高端便携式彩色多普勒超声诊断仪”项目的预算金额是多少？\n",
      "response 意图分类：招标中标信息\n",
      "question: “细胞器精准提取分析系统”项目的采购人代理人地址在哪里？\n",
      "response 意图分类：商品数据\n"
     ]
    },
    {
     "name": "stderr",
     "output_type": "stream",
     "text": [
      "351it [01:17,  4.41it/s]"
     ]
    },
    {
     "name": "stdout",
     "output_type": "stream",
     "text": [
      "question: “上海交通大学医学院动物手术实验室设备等采购项目”项目的联系人电话是什么？\n",
      "response 意图分类：招标中标信息\n"
     ]
    },
    {
     "name": "stderr",
     "output_type": "stream",
     "text": [
      "352it [01:17,  4.34it/s]"
     ]
    },
    {
     "name": "stdout",
     "output_type": "stream",
     "text": [
      "question: “中国福利会国际和平妇幼保健院2024年医疗设备（四）”项目的采购人名称是什么？\n",
      "response 意图分类：招标中标信息\n"
     ]
    },
    {
     "name": "stderr",
     "output_type": "stream",
     "text": [
      "353it [01:17,  4.32it/s]"
     ]
    },
    {
     "name": "stdout",
     "output_type": "stream",
     "text": [
      "question: “层析成像扫描仪配件升级”项目的预算金额是多少？\n",
      "response 意图分类：招标中标信息\n"
     ]
    },
    {
     "name": "stderr",
     "output_type": "stream",
     "text": [
      "354it [01:18,  4.29it/s]"
     ]
    },
    {
     "name": "stdout",
     "output_type": "stream",
     "text": [
      "question: “徐汇区城运中心-区公安分局2024年度350兆PDT系统建设”项目的采购人代理人名称是什么？\n",
      "response 意图分类：招标中标信息\n"
     ]
    },
    {
     "name": "stderr",
     "output_type": "stream",
     "text": [
      "355it [01:18,  4.29it/s]"
     ]
    },
    {
     "name": "stdout",
     "output_type": "stream",
     "text": [
      "question: “公卫中心开办设备第一批”项目的采购人联系方式是什么？\n",
      "response 意图分类：招标中标信息\n"
     ]
    },
    {
     "name": "stderr",
     "output_type": "stream",
     "text": [
      "356it [01:18,  4.26it/s]"
     ]
    },
    {
     "name": "stdout",
     "output_type": "stream",
     "text": [
      "question: “高精度地图创新应用保障技术性支撑和地图成果技术审查”项目的预算金额是多少？\n",
      "response 意图分类：招标中标信息\n"
     ]
    },
    {
     "name": "stderr",
     "output_type": "stream",
     "text": [
      "357it [01:18,  4.27it/s]"
     ]
    },
    {
     "name": "stdout",
     "output_type": "stream",
     "text": [
      "question: “触控一体机更新项目（二）”项目的采购人代理人地址在哪里？\n",
      "response 意图分类：招标中标信息\n"
     ]
    },
    {
     "name": "stderr",
     "output_type": "stream",
     "text": [
      "358it [01:19,  4.28it/s]"
     ]
    },
    {
     "name": "stdout",
     "output_type": "stream",
     "text": [
      "question: “上海健康医学院附属崇明医院医疗设备采购”项目的联系人是谁？\n",
      "response 意图分类：招标中标信息\n"
     ]
    },
    {
     "name": "stderr",
     "output_type": "stream",
     "text": [
      "359it [01:19,  4.28it/s]"
     ]
    },
    {
     "name": "stdout",
     "output_type": "stream",
     "text": [
      "question: “2024年青浦区卫健委医疗设备采购项目三（2）”项目的采购人代理人名称是什么？\n",
      "response 意图分类：招标中标信息\n"
     ]
    },
    {
     "name": "stderr",
     "output_type": "stream",
     "text": [
      "360it [01:19,  4.25it/s]"
     ]
    },
    {
     "name": "stdout",
     "output_type": "stream",
     "text": [
      "question: “设备-彩色超声诊断仪”项目的采购人联系方式是什么？\n",
      "response 意图分类：招标中标信息\n"
     ]
    },
    {
     "name": "stderr",
     "output_type": "stream",
     "text": [
      "361it [01:19,  4.24it/s]"
     ]
    },
    {
     "name": "stdout",
     "output_type": "stream",
     "text": [
      "question: “上海交通大学医学院附属上海儿童医学中心 医疗设备项目”项目的预算金额是多少？\n",
      "response 意图分类：招标中标信息\n"
     ]
    },
    {
     "name": "stderr",
     "output_type": "stream",
     "text": [
      "362it [01:20,  4.24it/s]"
     ]
    },
    {
     "name": "stdout",
     "output_type": "stream",
     "text": [
      "question: “直线加速器（第二次）”项目的采购人代理人地址在哪里？\n",
      "response 意图分类：招标中标信息\n"
     ]
    },
    {
     "name": "stderr",
     "output_type": "stream",
     "text": [
      "363it [01:20,  4.24it/s]"
     ]
    },
    {
     "name": "stdout",
     "output_type": "stream",
     "text": [
      "question: “嘉定卫生信息服务采购项目”项目的联系人电话是什么？\n",
      "response 意图分类：招标中标信息\n"
     ]
    },
    {
     "name": "stderr",
     "output_type": "stream",
     "text": [
      "364it [01:20,  4.23it/s]"
     ]
    },
    {
     "name": "stdout",
     "output_type": "stream",
     "text": [
      "question: “上海市中医医院嘉定院区设备物资开办（超声引导激光消融治疗系统 ）”项目的采购人名称是什么？\n",
      "response 意图分类：招标中标信息\n"
     ]
    },
    {
     "name": "stderr",
     "output_type": "stream",
     "text": [
      "365it [01:20,  4.22it/s]"
     ]
    },
    {
     "name": "stdout",
     "output_type": "stream",
     "text": [
      "question: “多功能全自动蛋白质表达定量分析系统”项目的预算金额是多少？\n",
      "response 意图分类：招标中标信息\n"
     ]
    },
    {
     "name": "stderr",
     "output_type": "stream",
     "text": [
      "366it [01:20,  4.25it/s]"
     ]
    },
    {
     "name": "stdout",
     "output_type": "stream",
     "text": [
      "question: “流式细胞分析/分选仪”项目的采购人代理人名称是什么？\n",
      "response 意图分类：招标中标信息\n"
     ]
    },
    {
     "name": "stderr",
     "output_type": "stream",
     "text": [
      "367it [01:21,  4.26it/s]"
     ]
    },
    {
     "name": "stdout",
     "output_type": "stream",
     "text": [
      "question: “超声外科吸引系统”项目的采购人联系方式是什么？\n",
      "response 意图分类：招标中标信息\n"
     ]
    },
    {
     "name": "stderr",
     "output_type": "stream",
     "text": [
      "368it [01:21,  4.26it/s]"
     ]
    },
    {
     "name": "stdout",
     "output_type": "stream",
     "text": [
      "question: “一体式大平板C型臂”项目的预算金额是多少？\n",
      "response 意图分类：招标中标信息\n"
     ]
    },
    {
     "name": "stderr",
     "output_type": "stream",
     "text": [
      "369it [01:21,  4.21it/s]"
     ]
    },
    {
     "name": "stdout",
     "output_type": "stream",
     "text": [
      "question: “外科腹腔镜超声”项目的采购人代理人地址在哪里？\n",
      "response 意图分类：招标中标信息\n"
     ]
    },
    {
     "name": "stderr",
     "output_type": "stream",
     "text": [
      "370it [01:21,  4.24it/s]"
     ]
    },
    {
     "name": "stdout",
     "output_type": "stream",
     "text": [
      "question: “3.0T核磁共振”项目的联系人是谁？\n",
      "response 意图分类：招标中标信息\n"
     ]
    },
    {
     "name": "stderr",
     "output_type": "stream",
     "text": [
      "371it [01:22,  4.15it/s]"
     ]
    },
    {
     "name": "stdout",
     "output_type": "stream",
     "text": [
      "question: “月浦镇农村房地一体宅基地确权登记项目”项目的采购人代理人名称是什么？\n",
      "response 意图分类：招标中标信息\n"
     ]
    },
    {
     "name": "stderr",
     "output_type": "stream",
     "text": [
      "372it [01:22,  4.19it/s]"
     ]
    },
    {
     "name": "stdout",
     "output_type": "stream",
     "text": [
      "question: “第七人民医院钬激光治疗机项目”的采购人联系方式是什么？\n",
      "response 意图分类：招标中标信息\n"
     ]
    },
    {
     "name": "stderr",
     "output_type": "stream",
     "text": [
      "373it [01:22,  4.20it/s]"
     ]
    },
    {
     "name": "stdout",
     "output_type": "stream",
     "text": [
      "question: “辐射抗扰度测试系统”项目的预算金额是多少？\n",
      "response 意图分类：招标中标信息\n"
     ]
    },
    {
     "name": "stderr",
     "output_type": "stream",
     "text": [
      "374it [01:22,  4.23it/s]"
     ]
    },
    {
     "name": "stdout",
     "output_type": "stream",
     "text": [
      "question: “特种光纤化学气相沉积材料生长系统”项目的采购人代理人地址在哪里？\n",
      "response 意图分类：招标中标信息\n"
     ]
    },
    {
     "name": "stderr",
     "output_type": "stream",
     "text": [
      "375it [01:23,  4.25it/s]"
     ]
    },
    {
     "name": "stdout",
     "output_type": "stream",
     "text": [
      "question: “高档彩色多普勒超声诊断仪”项目的联系人电话是什么？\n",
      "response 意图分类：招标中标信息\n"
     ]
    },
    {
     "name": "stderr",
     "output_type": "stream",
     "text": [
      "377it [01:23,  4.49it/s]"
     ]
    },
    {
     "name": "stdout",
     "output_type": "stream",
     "text": [
      "question: “朱家角人民医院医用超声波仪器及设备项目”项目的采购\n",
      "response 意图分类：招标中标信息\n",
      "question: 你好！\n",
      "response 意图分类：日常问题\n"
     ]
    },
    {
     "name": "stderr",
     "output_type": "stream",
     "text": [
      "379it [01:23,  4.73it/s]"
     ]
    },
    {
     "name": "stdout",
     "output_type": "stream",
     "text": [
      "question: 你好，今天天气怎么样？\n",
      "response 意图分类：日常问题\n",
      "question: 早上好！\n",
      "response 意图分类：日常问题\n"
     ]
    },
    {
     "name": "stderr",
     "output_type": "stream",
     "text": [
      "380it [01:24,  4.77it/s]"
     ]
    },
    {
     "name": "stdout",
     "output_type": "stream",
     "text": [
      "question: 你能告诉我现在的时间吗？\n",
      "response 意图分类：日常问题\n"
     ]
    },
    {
     "name": "stderr",
     "output_type": "stream",
     "text": [
      "381it [01:24,  4.74it/s]"
     ]
    },
    {
     "name": "stdout",
     "output_type": "stream",
     "text": [
      "question: 周末有什么计划吗？\n",
      "response 意图分类：日常问题\n"
     ]
    },
    {
     "name": "stderr",
     "output_type": "stream",
     "text": [
      "382it [01:24,  4.73it/s]"
     ]
    },
    {
     "name": "stdout",
     "output_type": "stream",
     "text": [
      "question: 你能推荐几本好书吗？\n",
      "response 意图分类：日常问题\n"
     ]
    },
    {
     "name": "stderr",
     "output_type": "stream",
     "text": [
      "383it [01:24,  4.76it/s]"
     ]
    },
    {
     "name": "stdout",
     "output_type": "stream",
     "text": [
      "question: 今天的工作忙不忙？\n",
      "response 意图分类：日常问题\n"
     ]
    },
    {
     "name": "stderr",
     "output_type": "stream",
     "text": [
      "384it [01:24,  4.77it/s]"
     ]
    },
    {
     "name": "stdout",
     "output_type": "stream",
     "text": [
      "question: 你了解最新的科技趋势吗？\n",
      "response 意图分类：日常问题\n"
     ]
    },
    {
     "name": "stderr",
     "output_type": "stream",
     "text": [
      "386it [01:25,  4.89it/s]"
     ]
    },
    {
     "name": "stdout",
     "output_type": "stream",
     "text": [
      "question: 你能教我几句常用的外语表达吗？\n",
      "response 意图分类：日常问题\n",
      "question: 你最喜欢的电影是什么？\n",
      "response 意图分类：日常问题\n"
     ]
    },
    {
     "name": "stderr",
     "output_type": "stream",
     "text": [
      "387it [01:25,  4.87it/s]"
     ]
    },
    {
     "name": "stdout",
     "output_type": "stream",
     "text": [
      "question: 你能帮我查一下明天的天气预报吗？\n",
      "response 意图分类：日常问题\n"
     ]
    },
    {
     "name": "stderr",
     "output_type": "stream",
     "text": [
      "388it [01:25,  4.86it/s]"
     ]
    },
    {
     "name": "stdout",
     "output_type": "stream",
     "text": [
      "question: 你能告诉我一些健康饮食的建议吗？\n",
      "response 意图分类：日常问题\n"
     ]
    },
    {
     "name": "stderr",
     "output_type": "stream",
     "text": [
      "389it [01:25,  4.88it/s]"
     ]
    },
    {
     "name": "stdout",
     "output_type": "stream",
     "text": [
      "question: 你了解当前的股市行情吗？\n",
      "response 意图分类：日常问题\n"
     ]
    },
    {
     "name": "stderr",
     "output_type": "stream",
     "text": [
      "390it [01:26,  4.89it/s]"
     ]
    },
    {
     "name": "stdout",
     "output_type": "stream",
     "text": [
      "question: 你能帮我找一首轻松的音乐吗？\n",
      "response 意图分类：日常问题\n"
     ]
    },
    {
     "name": "stderr",
     "output_type": "stream",
     "text": [
      "391it [01:26,  4.85it/s]"
     ]
    },
    {
     "name": "stdout",
     "output_type": "stream",
     "text": [
      "question: 你有什么兴趣爱好？\n",
      "response 意图分类：日常问题\n"
     ]
    },
    {
     "name": "stderr",
     "output_type": "stream",
     "text": [
      "392it [01:26,  4.86it/s]"
     ]
    },
    {
     "name": "stdout",
     "output_type": "stream",
     "text": [
      "question: 你能推荐一些旅行的好去处吗？\n",
      "response 意图分类：日常问题\n"
     ]
    },
    {
     "name": "stderr",
     "output_type": "stream",
     "text": [
      "393it [01:26,  4.86it/s]"
     ]
    },
    {
     "name": "stdout",
     "output_type": "stream",
     "text": [
      "question: 你能教我如何缓解压力吗？\n",
      "response 意图分类：日常问题\n"
     ]
    },
    {
     "name": "stderr",
     "output_type": "stream",
     "text": [
      "394it [01:27,  4.86it/s]"
     ]
    },
    {
     "name": "stdout",
     "output_type": "stream",
     "text": [
      "question: 你能帮我查一下最近的新闻头条吗？\n",
      "response 意图分类：日常问题\n"
     ]
    },
    {
     "name": "stderr",
     "output_type": "stream",
     "text": [
      "395it [01:27,  4.88it/s]"
     ]
    },
    {
     "name": "stdout",
     "output_type": "stream",
     "text": [
      "question: 你能告诉我一些关于月亮的有趣事实吗？\n",
      "response 意图分类：日常问题\n"
     ]
    },
    {
     "name": "stderr",
     "output_type": "stream",
     "text": [
      "396it [01:27,  4.87it/s]"
     ]
    },
    {
     "name": "stdout",
     "output_type": "stream",
     "text": [
      "question: 你了解人工智能的最新发展吗？\n",
      "response 意图分类：日常问题\n"
     ]
    },
    {
     "name": "stderr",
     "output_type": "stream",
     "text": [
      "397it [01:27,  4.87it/s]"
     ]
    },
    {
     "name": "stdout",
     "output_type": "stream",
     "text": [
      "question: 你能帮我找一些学习资源吗？\n",
      "response 意图分类：日常问题\n"
     ]
    },
    {
     "name": "stderr",
     "output_type": "stream",
     "text": [
      "398it [01:27,  4.84it/s]"
     ]
    },
    {
     "name": "stdout",
     "output_type": "stream",
     "text": [
      "question: 你能推荐一些提高工作效率的方法吗？\n",
      "response 意图分类：日常问题\n"
     ]
    },
    {
     "name": "stderr",
     "output_type": "stream",
     "text": [
      "399it [01:28,  4.82it/s]"
     ]
    },
    {
     "name": "stdout",
     "output_type": "stream",
     "text": [
      "question: 你能帮我查一下航班信息吗？\n",
      "response 意图分类：日常问题\n"
     ]
    },
    {
     "name": "stderr",
     "output_type": "stream",
     "text": [
      "400it [01:28,  4.80it/s]"
     ]
    },
    {
     "name": "stdout",
     "output_type": "stream",
     "text": [
      "question: 你能告诉我一些关于宇宙的有趣知识吗？\n",
      "response 意图分类：日常问题\n"
     ]
    },
    {
     "name": "stderr",
     "output_type": "stream",
     "text": [
      "401it [01:28,  4.83it/s]"
     ]
    },
    {
     "name": "stdout",
     "output_type": "stream",
     "text": [
      "question: 你了解不同的文化习俗吗？\n",
      "response 意图分类：日常问题\n"
     ]
    },
    {
     "name": "stderr",
     "output_type": "stream",
     "text": [
      "402it [01:28,  4.81it/s]"
     ]
    },
    {
     "name": "stdout",
     "output_type": "stream",
     "text": [
      "question: 你能帮我找一些放松的瑜伽视频吗？\n",
      "response 意图分类：日常问题\n"
     ]
    },
    {
     "name": "stderr",
     "output_type": "stream",
     "text": [
      "403it [01:28,  4.82it/s]"
     ]
    },
    {
     "name": "stdout",
     "output_type": "stream",
     "text": [
      "question: 你能推荐一些周末的活动吗？\n",
      "response 意图分类：日常问题\n"
     ]
    },
    {
     "name": "stderr",
     "output_type": "stream",
     "text": [
      "404it [01:29,  4.82it/s]"
     ]
    },
    {
     "name": "stdout",
     "output_type": "stream",
     "text": [
      "question: 你能告诉我一些关于环保的小知识吗？\n",
      "response 意图分类：日常问题\n"
     ]
    },
    {
     "name": "stderr",
     "output_type": "stream",
     "text": [
      "405it [01:29,  4.83it/s]"
     ]
    },
    {
     "name": "stdout",
     "output_type": "stream",
     "text": [
      "question: 你了解最新的医疗健康资讯吗？\n",
      "response 意图分类：政策内容\n"
     ]
    },
    {
     "name": "stderr",
     "output_type": "stream",
     "text": [
      "406it [01:29,  4.84it/s]"
     ]
    },
    {
     "name": "stdout",
     "output_type": "stream",
     "text": [
      "question: 你能帮我找一些提高睡眠质量的方法吗？\n",
      "response 意图分类：日常问题\n"
     ]
    },
    {
     "name": "stderr",
     "output_type": "stream",
     "text": [
      "407it [01:29,  4.83it/s]"
     ]
    },
    {
     "name": "stdout",
     "output_type": "stream",
     "text": [
      "question: 你能推荐一些有趣的播客节目吗？\n",
      "response 意图分类：日常问题\n"
     ]
    },
    {
     "name": "stderr",
     "output_type": "stream",
     "text": [
      "408it [01:29,  4.83it/s]"
     ]
    },
    {
     "name": "stdout",
     "output_type": "stream",
     "text": [
      "question: 你能告诉我一些关于历史的有趣故事吗？\n",
      "response 意图分类：日常问题\n"
     ]
    },
    {
     "name": "stderr",
     "output_type": "stream",
     "text": [
      "409it [01:30,  4.83it/s]"
     ]
    },
    {
     "name": "stdout",
     "output_type": "stream",
     "text": [
      "question: 你了解不同的星座性格吗？\n",
      "response 意图分类：日常问题\n"
     ]
    },
    {
     "name": "stderr",
     "output_type": "stream",
     "text": [
      "410it [01:30,  4.82it/s]"
     ]
    },
    {
     "name": "stdout",
     "output_type": "stream",
     "text": [
      "question: 你能帮我找一些学习编程的资源吗？\n",
      "response 意图分类：日常问题\n"
     ]
    },
    {
     "name": "stderr",
     "output_type": "stream",
     "text": [
      "411it [01:30,  4.84it/s]"
     ]
    },
    {
     "name": "stdout",
     "output_type": "stream",
     "text": [
      "question: 你能推荐一些提高记忆力的技巧吗？\n",
      "response 意图分类：日常问题\n"
     ]
    },
    {
     "name": "stderr",
     "output_type": "stream",
     "text": [
      "412it [01:30,  4.83it/s]"
     ]
    },
    {
     "name": "stdout",
     "output_type": "stream",
     "text": [
      "question: 你能告诉我一些关于植物养护的知识吗？\n",
      "response 意图分类：日常问题\n"
     ]
    },
    {
     "name": "stderr",
     "output_type": "stream",
     "text": [
      "413it [01:30,  4.83it/s]"
     ]
    },
    {
     "name": "stdout",
     "output_type": "stream",
     "text": [
      "question: 你了解不同的艺术风格吗？\n",
      "response 意图分类：日常问题\n"
     ]
    },
    {
     "name": "stderr",
     "output_type": "stream",
     "text": [
      "414it [01:31,  4.84it/s]"
     ]
    },
    {
     "name": "stdout",
     "output_type": "stream",
     "text": [
      "question: 你能帮我找一些家庭健身的指导吗？\n",
      "response 意图分类：日常问题\n"
     ]
    },
    {
     "name": "stderr",
     "output_type": "stream",
     "text": [
      "415it [01:31,  4.84it/s]"
     ]
    },
    {
     "name": "stdout",
     "output_type": "stream",
     "text": [
      "question: 你能推荐一些提高专注力的方法吗？\n",
      "response 意图分类：日常问题\n"
     ]
    },
    {
     "name": "stderr",
     "output_type": "stream",
     "text": [
      "416it [01:31,  4.86it/s]"
     ]
    },
    {
     "name": "stdout",
     "output_type": "stream",
     "text": [
      "question: 你能告诉我一些关于动物的有趣事实吗？\n",
      "response 意图分类：日常问题\n"
     ]
    },
    {
     "name": "stderr",
     "output_type": "stream",
     "text": [
      "417it [01:31,  4.84it/s]"
     ]
    },
    {
     "name": "stdout",
     "output_type": "stream",
     "text": [
      "question: 你了解不同的烹饪技巧吗？\n",
      "response 意图分类：日常问题\n"
     ]
    },
    {
     "name": "stderr",
     "output_type": "stream",
     "text": [
      "418it [01:31,  4.87it/s]"
     ]
    },
    {
     "name": "stdout",
     "output_type": "stream",
     "text": [
      "question: 你能帮我找一些学习语言的应用程序吗？\n",
      "response 意图分类：日常问题\n"
     ]
    },
    {
     "name": "stderr",
     "output_type": "stream",
     "text": [
      "419it [01:32,  4.87it/s]"
     ]
    },
    {
     "name": "stdout",
     "output_type": "stream",
     "text": [
      "question: 你能推荐一些提高自信心的技巧吗？\n",
      "response 意图分类：日常问题\n"
     ]
    },
    {
     "name": "stderr",
     "output_type": "stream",
     "text": [
      "420it [01:32,  4.87it/s]"
     ]
    },
    {
     "name": "stdout",
     "output_type": "stream",
     "text": [
      "question: 你能告诉我一些关于心理学的知识吗？\n",
      "response 意图分类：日常问题\n"
     ]
    },
    {
     "name": "stderr",
     "output_type": "stream",
     "text": [
      "421it [01:32,  4.89it/s]"
     ]
    },
    {
     "name": "stdout",
     "output_type": "stream",
     "text": [
      "question: 你了解不同的建筑风格吗？\n",
      "response 意图分类：日常问题\n"
     ]
    },
    {
     "name": "stderr",
     "output_type": "stream",
     "text": [
      "422it [01:32,  4.85it/s]"
     ]
    },
    {
     "name": "stdout",
     "output_type": "stream",
     "text": [
      "question: 你能帮我找一些提高创造力的方法吗？\n",
      "response 意图分类：日常问题\n"
     ]
    },
    {
     "name": "stderr",
     "output_type": "stream",
     "text": [
      "423it [01:33,  4.88it/s]"
     ]
    },
    {
     "name": "stdout",
     "output_type": "stream",
     "text": [
      "question: 你能推荐一些提高阅读速度的技巧吗？\n",
      "response 意图分类：日常问题\n"
     ]
    },
    {
     "name": "stderr",
     "output_type": "stream",
     "text": [
      "424it [01:33,  4.89it/s]"
     ]
    },
    {
     "name": "stdout",
     "output_type": "stream",
     "text": [
      "question: 你能告诉我一些关于海洋生物的有趣事实吗？\n",
      "response 意图分类：日常问题\n"
     ]
    },
    {
     "name": "stderr",
     "output_type": "stream",
     "text": [
      "425it [01:33,  4.89it/s]"
     ]
    },
    {
     "name": "stdout",
     "output_type": "stream",
     "text": [
      "question: 你了解不同的音乐流派吗？\n",
      "response 意图分类：日常问题\n"
     ]
    },
    {
     "name": "stderr",
     "output_type": "stream",
     "text": [
      "426it [01:33,  4.91it/s]"
     ]
    },
    {
     "name": "stdout",
     "output_type": "stream",
     "text": [
      "question: 你能帮我找一些提高工作效率的软件吗？\n",
      "response 意图分类：日常问题\n"
     ]
    },
    {
     "name": "stderr",
     "output_type": "stream",
     "text": [
      "427it [01:33,  4.87it/s]"
     ]
    },
    {
     "name": "stdout",
     "output_type": "stream",
     "text": [
      "question: 你能推荐一些提高时间管理能力的方法吗？\n",
      "response 意图分类：日常问题\n"
     ]
    },
    {
     "name": "stderr",
     "output_type": "stream",
     "text": [
      "428it [01:34,  4.89it/s]"
     ]
    },
    {
     "name": "stdout",
     "output_type": "stream",
     "text": [
      "question: 你能告诉我一些关于天文学的有趣知识吗？\n",
      "response 意图分类：日常问题\n"
     ]
    },
    {
     "name": "stderr",
     "output_type": "stream",
     "text": [
      "429it [01:34,  4.87it/s]"
     ]
    },
    {
     "name": "stdout",
     "output_type": "stream",
     "text": [
      "question: 你了解不同的棋类游戏吗？\n",
      "response 意图分类：日常问题\n"
     ]
    },
    {
     "name": "stderr",
     "output_type": "stream",
     "text": [
      "430it [01:34,  4.85it/s]"
     ]
    },
    {
     "name": "stdout",
     "output_type": "stream",
     "text": [
      "question: 你能帮我找一些提高公共演讲技巧的资源吗？\n",
      "response 意图分类：日常问题\n"
     ]
    },
    {
     "name": "stderr",
     "output_type": "stream",
     "text": [
      "431it [01:34,  4.87it/s]"
     ]
    },
    {
     "name": "stdout",
     "output_type": "stream",
     "text": [
      "question: 你能推荐一些提高写作技巧的方法吗？\n",
      "response 意图分类：日常问题\n"
     ]
    },
    {
     "name": "stderr",
     "output_type": "stream",
     "text": [
      "432it [01:34,  4.84it/s]"
     ]
    },
    {
     "name": "stdout",
     "output_type": "stream",
     "text": [
      "question: 你能告诉我一些关于古文明的有趣事实吗？\n",
      "response 意图分类：日常问题\n"
     ]
    },
    {
     "name": "stderr",
     "output_type": "stream",
     "text": [
      "433it [01:35,  4.85it/s]"
     ]
    },
    {
     "name": "stdout",
     "output_type": "stream",
     "text": [
      "question: 你了解不同的舞蹈风格吗？\n",
      "response 意图分类：日常问题\n"
     ]
    },
    {
     "name": "stderr",
     "output_type": "stream",
     "text": [
      "434it [01:35,  4.88it/s]"
     ]
    },
    {
     "name": "stdout",
     "output_type": "stream",
     "text": [
      "question: 你能帮我找一些提高绘画技巧的教程吗？\n",
      "response 意图分类：日常问题\n"
     ]
    },
    {
     "name": "stderr",
     "output_type": "stream",
     "text": [
      "435it [01:35,  4.89it/s]"
     ]
    },
    {
     "name": "stdout",
     "output_type": "stream",
     "text": [
      "question: 你能推荐一些提高逻辑思维的方法吗？\n",
      "response 意图分类：日常问题\n"
     ]
    },
    {
     "name": "stderr",
     "output_type": "stream",
     "text": [
      "436it [01:35,  4.89it/s]"
     ]
    },
    {
     "name": "stdout",
     "output_type": "stream",
     "text": [
      "question: 你能告诉我一些关于昆虫的有趣知识吗？\n",
      "response 意图分类：日常问题\n"
     ]
    },
    {
     "name": "stderr",
     "output_type": "stream",
     "text": [
      "437it [01:35,  4.88it/s]"
     ]
    },
    {
     "name": "stdout",
     "output_type": "stream",
     "text": [
      "question: 你了解不同的园艺技巧吗？\n",
      "response 意图分类：日常问题\n"
     ]
    },
    {
     "name": "stderr",
     "output_type": "stream",
     "text": [
      "438it [01:36,  4.88it/s]"
     ]
    },
    {
     "name": "stdout",
     "output_type": "stream",
     "text": [
      "question: 你能帮我找一些提高学习效率的方法吗？\n",
      "response 意图分类：日常问题\n"
     ]
    },
    {
     "name": "stderr",
     "output_type": "stream",
     "text": [
      "439it [01:36,  4.87it/s]"
     ]
    },
    {
     "name": "stdout",
     "output_type": "stream",
     "text": [
      "question: 你能推荐一些提高团队协作能力的方法吗？\n",
      "response 意图分类：日常问题\n"
     ]
    },
    {
     "name": "stderr",
     "output_type": "stream",
     "text": [
      "440it [01:36,  4.89it/s]"
     ]
    },
    {
     "name": "stdout",
     "output_type": "stream",
     "text": [
      "question: 你能告诉我一些关于鸟类的有趣事实吗？\n",
      "response 意图分类：日常问题\n"
     ]
    },
    {
     "name": "stderr",
     "output_type": "stream",
     "text": [
      "441it [01:36,  4.88it/s]"
     ]
    },
    {
     "name": "stdout",
     "output_type": "stream",
     "text": [
      "question: 你了解不同的手工艺吗？\n",
      "response 意图分类：日常问题\n"
     ]
    },
    {
     "name": "stderr",
     "output_type": "stream",
     "text": [
      "442it [01:36,  4.85it/s]"
     ]
    },
    {
     "name": "stdout",
     "output_type": "stream",
     "text": [
      "question: 你能帮我找一些提高决策能力的方法吗？\n",
      "response 意图分类：日常问题\n"
     ]
    },
    {
     "name": "stderr",
     "output_type": "stream",
     "text": [
      "443it [01:37,  4.88it/s]"
     ]
    },
    {
     "name": "stdout",
     "output_type": "stream",
     "text": [
      "question: 你能推荐一些提高领导力的技巧吗？\n",
      "response 意图分类：日常问题\n"
     ]
    },
    {
     "name": "stderr",
     "output_type": "stream",
     "text": [
      "444it [01:37,  4.87it/s]"
     ]
    },
    {
     "name": "stdout",
     "output_type": "stream",
     "text": [
      "question: 你能告诉我一些关于地质学的有趣知识吗？\n",
      "response 意图分类：日常问题\n"
     ]
    },
    {
     "name": "stderr",
     "output_type": "stream",
     "text": [
      "445it [01:37,  4.88it/s]"
     ]
    },
    {
     "name": "stdout",
     "output_type": "stream",
     "text": [
      "question: 你了解不同的茶文化吗？\n",
      "response 意图分类：日常问题\n"
     ]
    },
    {
     "name": "stderr",
     "output_type": "stream",
     "text": [
      "446it [01:37,  4.88it/s]"
     ]
    },
    {
     "name": "stdout",
     "output_type": "stream",
     "text": [
      "question: 你能帮我找一些提高情绪管理能力的方法吗？\n",
      "response 意图分类：日常问题\n"
     ]
    },
    {
     "name": "stderr",
     "output_type": "stream",
     "text": [
      "447it [01:37,  4.87it/s]"
     ]
    },
    {
     "name": "stdout",
     "output_type": "stream",
     "text": [
      "question: 你能推荐一些提高人际交往能力的方法吗？\n",
      "response 意图分类：日常问题\n"
     ]
    },
    {
     "name": "stderr",
     "output_type": "stream",
     "text": [
      "448it [01:38,  4.89it/s]"
     ]
    },
    {
     "name": "stdout",
     "output_type": "stream",
     "text": [
      "question: 你能告诉我一些关于物理学的有趣事实吗？\n",
      "response 意图分类：日常问题\n",
      "question: 你了解不同的咖啡种类吗？\n",
      "response 意图分类：日常问题\n"
     ]
    },
    {
     "name": "stderr",
     "output_type": "stream",
     "text": [
      "450it [01:38,  4.92it/s]"
     ]
    },
    {
     "name": "stdout",
     "output_type": "stream",
     "text": [
      "question: 你能帮我找一些提高财务管理能力的方法吗？\n",
      "response 意图分类：日常问题\n"
     ]
    },
    {
     "name": "stderr",
     "output_type": "stream",
     "text": [
      "451it [01:38,  4.92it/s]"
     ]
    },
    {
     "name": "stdout",
     "output_type": "stream",
     "text": [
      "question: 你能推荐一些提高自我激励的方法吗？\n",
      "response 意图分类：日常问题\n"
     ]
    },
    {
     "name": "stderr",
     "output_type": "stream",
     "text": [
      "452it [01:38,  4.91it/s]"
     ]
    },
    {
     "name": "stdout",
     "output_type": "stream",
     "text": [
      "question: 你能告诉我一些关于化学的有趣实验吗？\n",
      "response 意图分类：日常问题\n"
     ]
    },
    {
     "name": "stderr",
     "output_type": "stream",
     "text": [
      "453it [01:39,  4.91it/s]"
     ]
    },
    {
     "name": "stdout",
     "output_type": "stream",
     "text": [
      "question: 你了解不同的酒文化吗？\n",
      "response 意图分类：日常问题\n"
     ]
    },
    {
     "name": "stderr",
     "output_type": "stream",
     "text": [
      "454it [01:39,  4.86it/s]"
     ]
    },
    {
     "name": "stdout",
     "output_type": "stream",
     "text": [
      "question: 你能帮我找一些提高批判性思维的方法吗？\n",
      "response 意图分类：日常问题\n"
     ]
    },
    {
     "name": "stderr",
     "output_type": "stream",
     "text": [
      "455it [01:39,  4.89it/s]"
     ]
    },
    {
     "name": "stdout",
     "output_type": "stream",
     "text": [
      "question: 你能推荐一些提高适应能力的方法吗？\n",
      "response 意图分类：日常问题\n"
     ]
    },
    {
     "name": "stderr",
     "output_type": "stream",
     "text": [
      "456it [01:39,  4.88it/s]"
     ]
    },
    {
     "name": "stdout",
     "output_type": "stream",
     "text": [
      "question: 你能告诉我一些关于生物学的有趣知识吗？\n",
      "response 意图分类：日常问题\n"
     ]
    },
    {
     "name": "stderr",
     "output_type": "stream",
     "text": [
      "457it [01:39,  4.85it/s]"
     ]
    },
    {
     "name": "stdout",
     "output_type": "stream",
     "text": [
      "question: 你了解不同的摄影技巧吗？\n",
      "response 意图分类：日常问题\n"
     ]
    },
    {
     "name": "stderr",
     "output_type": "stream",
     "text": [
      "458it [01:40,  4.88it/s]"
     ]
    },
    {
     "name": "stdout",
     "output_type": "stream",
     "text": [
      "question: 你能帮我找一些提高组织能力的方法吗？\n",
      "response 意图分类：日常问题\n"
     ]
    },
    {
     "name": "stderr",
     "output_type": "stream",
     "text": [
      "459it [01:40,  4.85it/s]"
     ]
    },
    {
     "name": "stdout",
     "output_type": "stream",
     "text": [
      "question: 你能推荐一些提高解决问题能力的方法吗？\n",
      "response 意图分类：日常问题\n"
     ]
    },
    {
     "name": "stderr",
     "output_type": "stream",
     "text": [
      "460it [01:40,  4.89it/s]"
     ]
    },
    {
     "name": "stdout",
     "output_type": "stream",
     "text": [
      "question: 你能告诉我一些关于哲学的有趣思想吗？\n",
      "response 意图分类：日常问题\n"
     ]
    },
    {
     "name": "stderr",
     "output_type": "stream",
     "text": [
      "461it [01:40,  4.89it/s]"
     ]
    },
    {
     "name": "stdout",
     "output_type": "stream",
     "text": [
      "question: 你了解不同的时尚趋势吗？\n",
      "response 意图分类：日常问题\n"
     ]
    },
    {
     "name": "stderr",
     "output_type": "stream",
     "text": [
      "462it [01:40,  4.89it/s]"
     ]
    },
    {
     "name": "stdout",
     "output_type": "stream",
     "text": [
      "question: 你能帮我找一些提高创新能力的方法吗？\n",
      "response 意图分类：日常问题\n"
     ]
    },
    {
     "name": "stderr",
     "output_type": "stream",
     "text": [
      "463it [01:41,  4.90it/s]"
     ]
    },
    {
     "name": "stdout",
     "output_type": "stream",
     "text": [
      "question: 你能推荐一些提高说服力的技巧吗？\n",
      "response 意图分类：日常问题\n"
     ]
    },
    {
     "name": "stderr",
     "output_type": "stream",
     "text": [
      "464it [01:41,  4.91it/s]"
     ]
    },
    {
     "name": "stdout",
     "output_type": "stream",
     "text": [
      "question: 你能告诉我一些关于数学的有趣问题吗？\n",
      "response 意图分类：日常问题\n"
     ]
    },
    {
     "name": "stderr",
     "output_type": "stream",
     "text": [
      "465it [01:41,  4.92it/s]"
     ]
    },
    {
     "name": "stdout",
     "output_type": "stream",
     "text": [
      "question: 你了解不同的电影流派吗？\n",
      "response 意图分类：日常问题\n"
     ]
    },
    {
     "name": "stderr",
     "output_type": "stream",
     "text": [
      "466it [01:41,  4.89it/s]"
     ]
    },
    {
     "name": "stdout",
     "output_type": "stream",
     "text": [
      "question: 你能帮我找一些提高自我意识的方法吗？\n",
      "response 意图分类：日常问题\n"
     ]
    },
    {
     "name": "stderr",
     "output_type": "stream",
     "text": [
      "467it [01:42,  4.86it/s]"
     ]
    },
    {
     "name": "stdout",
     "output_type": "stream",
     "text": [
      "question: 你能推荐一些提高自我反省能力的方法吗？\n",
      "response 意图分类：日常问题\n"
     ]
    },
    {
     "name": "stderr",
     "output_type": "stream",
     "text": [
      "468it [01:42,  4.88it/s]"
     ]
    },
    {
     "name": "stdout",
     "output_type": "stream",
     "text": [
      "question: 你能告诉我一些关于政治学的有趣事实吗？\n",
      "response 意图分类：日常问题\n"
     ]
    },
    {
     "name": "stderr",
     "output_type": "stream",
     "text": [
      "469it [01:42,  4.85it/s]"
     ]
    },
    {
     "name": "stdout",
     "output_type": "stream",
     "text": [
      "question: 你了解不同的体育项目吗？\n",
      "response 意图分类：日常问题\n"
     ]
    },
    {
     "name": "stderr",
     "output_type": "stream",
     "text": [
      "470it [01:42,  4.85it/s]"
     ]
    },
    {
     "name": "stdout",
     "output_type": "stream",
     "text": [
      "question: 你能帮我找一些提高身体协调性的方法吗？\n",
      "response 意图分类：日常问题\n"
     ]
    },
    {
     "name": "stderr",
     "output_type": "stream",
     "text": [
      "471it [01:42,  4.85it/s]"
     ]
    },
    {
     "name": "stdout",
     "output_type": "stream",
     "text": [
      "question: 你能推荐一些提高反应速度的技巧吗？\n",
      "response 意图分类：日常问题\n"
     ]
    },
    {
     "name": "stderr",
     "output_type": "stream",
     "text": [
      "472it [01:43,  4.87it/s]"
     ]
    },
    {
     "name": "stdout",
     "output_type": "stream",
     "text": [
      "question: 你能告诉我一些关于人类学的有趣知识吗？\n",
      "response 意图分类：日常问题\n"
     ]
    },
    {
     "name": "stderr",
     "output_type": "stream",
     "text": [
      "473it [01:43,  4.89it/s]"
     ]
    },
    {
     "name": "stdout",
     "output_type": "stream",
     "text": [
      "question: 你了解不同的旅行目的地吗？\n",
      "response 意图分类：日常问题\n"
     ]
    },
    {
     "name": "stderr",
     "output_type": "stream",
     "text": [
      "474it [01:43,  4.87it/s]"
     ]
    },
    {
     "name": "stdout",
     "output_type": "stream",
     "text": [
      "question: 你能帮我找一些提高语言能力的方法吗？\n",
      "response 意图分类：日常问题\n"
     ]
    },
    {
     "name": "stderr",
     "output_type": "stream",
     "text": [
      "475it [01:43,  4.88it/s]"
     ]
    },
    {
     "name": "stdout",
     "output_type": "stream",
     "text": [
      "question: 你能推荐一些提高听力理解能力的方法吗？\n",
      "response 意图分类：日常问题\n"
     ]
    },
    {
     "name": "stderr",
     "output_type": "stream",
     "text": [
      "476it [01:43,  4.86it/s]"
     ]
    },
    {
     "name": "stdout",
     "output_type": "stream",
     "text": [
      "question: 你能告诉我一些关于社会学的有趣事实吗？\n",
      "response 意图分类：日常问题\n"
     ]
    },
    {
     "name": "stderr",
     "output_type": "stream",
     "text": [
      "477it [01:44,  4.83it/s]"
     ]
    },
    {
     "name": "stdout",
     "output_type": "stream",
     "text": [
      "question: 你了解不同的节日庆典吗？\n",
      "response 意图分类：日常问题\n"
     ]
    },
    {
     "name": "stderr",
     "output_type": "stream",
     "text": [
      "478it [01:44,  4.85it/s]"
     ]
    },
    {
     "name": "stdout",
     "output_type": "stream",
     "text": [
      "question: 无轨迹等张肌力测试康复训练系统的品牌有哪些？\n",
      "response 意图分类：商品数据\n"
     ]
    },
    {
     "name": "stderr",
     "output_type": "stream",
     "text": [
      "479it [01:44,  4.85it/s]"
     ]
    },
    {
     "name": "stdout",
     "output_type": "stream",
     "text": [
      "question: 无轨迹等张肌力测试康复训练系统的产品价格范围是多少？\n",
      "response 意图分类：商品数据\n"
     ]
    },
    {
     "name": "stderr",
     "output_type": "stream",
     "text": [
      "480it [01:44,  4.58it/s]"
     ]
    },
    {
     "name": "stdout",
     "output_type": "stream",
     "text": [
      "question: 无轨迹等张肌力测试康复训练系统的供应商城市有哪些？\n",
      "response 意图分类：商品数据\n"
     ]
    },
    {
     "name": "stderr",
     "output_type": "stream",
     "text": [
      "\n"
     ]
    }
   ],
   "source": [
    "datas = pd.read_csv('实体提取_改进.csv') \n",
    "questions = datas['问题']\n",
    "labels = datas['问题分类']\n",
    "bodys = datas['提取的实体']\n",
    "# sublabel = set(labels.values.tolist())\n",
    "file = '意图分类结果3.csv'\n",
    "for question, label, body_ in tqdm(zip(questions, labels, bodys), ncols=len(questions)) :\n",
    "    template = f\"\"\"\n",
    "            你是一名意图识别和分类领域专家，请严格遵循以下任务和工作流程的指示输出结果。请根据给出的example进行意图分类。\n",
    "            \n",
    "            任务：\n",
    "            1-分析用户输入的问题。\n",
    "            2-根据分析和给出的意图分类标签进行问题的意图分类。\n",
    "    \n",
    "            意图标签：商品数据，招标中标信息，政策内容，政策文件信息，日常问题。\n",
    "            \n",
    "            请根据分类结果与要求的输出格式对比，存在格式问题则进行矫正后输出。\n",
    "\n",
    "            example:\n",
    "                问题：《工程建设项目施工招标投标办法》的发布时间是什么？\n",
    "                意图分类：政策文件信息\n",
    "\n",
    "                问题：医院X射线计算机体层摄影设备的供应商省份有哪些？\n",
    "                意图分类：商品数据\n",
    "\n",
    "                问题：如何确保政府采购信息的公开透明？\n",
    "                意图分类：政策内容\n",
    "\n",
    "                问题：“高端便携式彩色多普勒超声诊断仪”项目的预算金额是多少？\n",
    "                意图分类：招标中标信息\n",
    "\n",
    "                问题：你能教我几句常用的外语表达吗？\n",
    "                意图分类：日常问题\n",
    "                \n",
    "            输出格式：\n",
    "                意图分类：意图标签\n",
    "\n",
    "            请注意输出结果严格按照输出格式进行，不需要输出分析过程。不要输出实体结果\n",
    "\n",
    "            问题：{question}\"\"\"\n",
    "            #问题主干\n",
    "            # 不存在实体输出格式：\n",
    "            #     实体提取: [],\n",
    "            #     意图分类:日常问题\n",
    "                # 实体提取和意图分类结果：\n",
    "\n",
    "    messages = [\n",
    "                # {'role':'system', 'content': template},\n",
    "                {'role':'user', 'content': template}\n",
    "                ]\n",
    "    # print('打印messages内容：', messages)\n",
    "    # print('打印messages类型：', type(messages))\n",
    "    text = tokenizer.apply_chat_template(\n",
    "        messages,\n",
    "        tokenize=False,\n",
    "        add_generation_prompt=True\n",
    "    )\n",
    "    model_inputs = tokenizer([text], return_tensors='pt').to(device)\n",
    "    generated_ids = model.generate(\n",
    "        **model_inputs,\n",
    "        max_new_tokens=512\n",
    "    )\n",
    "    generated_ids = [\n",
    "        output_ids[len(input_ids):] for input_ids, output_ids in zip(model_inputs.input_ids, generated_ids)\n",
    "    ]\n",
    "    response = tokenizer.batch_decode(generated_ids, skip_special_tokens=True)[0]\n",
    "    print('question:', question)\n",
    "    print('response', response)\n",
    "    emition = response.split('意图分类：')[-1].replace(' ','')\n",
    "    data_ = [question, body_, label, emition]\n",
    "    with open(file, 'a', newline='', encoding='utf-8') as f:\n",
    "        fw = csv.writer(f)\n",
    "        if not os.path.getsize(file):\n",
    "            header = ['问题', '提取的实体', '问题分类', '意图分类']\n",
    "            fw.writerow(header)\n",
    "        fw.writerow(data_)\n",
    "\n",
    "\n",
    "\n",
    "    # print(f'问题：{question}', f'意图分类：{target}', f'标签真值：{label}')\n"
   ]
  },
  {
   "cell_type": "code",
   "execution_count": 43,
   "id": "a224ff3b-eeda-4938-b299-fec1aec4cdab",
   "metadata": {},
   "outputs": [
    {
     "data": {
      "text/plain": [
       "{'商品数据', '招标中标信息', '政策内容', '政策文件信息', '日常问题'}"
      ]
     },
     "execution_count": 43,
     "metadata": {},
     "output_type": "execute_result"
    }
   ],
   "source": [
    "# example:\n",
    "#     问题：肌肉关节智能运动康复评估训练系统有哪些品牌？\n",
    "#     识别结果：肌肉关节智能运动康复评估训练系统（主语词），品牌（意图词）\n",
    "\n",
    "#     问题：流式细胞仪的供应商省份是哪里？\n",
    "#     识别结果：流式细胞仪（设备词），供应商省份（意图词）"
   ]
  },
  {
   "cell_type": "code",
   "execution_count": 147,
   "id": "eed72069-2882-4c17-9a0a-4b953e92c10a",
   "metadata": {},
   "outputs": [
    {
     "data": {
      "text/html": [
       "<div>\n",
       "<style scoped>\n",
       "    .dataframe tbody tr th:only-of-type {\n",
       "        vertical-align: middle;\n",
       "    }\n",
       "\n",
       "    .dataframe tbody tr th {\n",
       "        vertical-align: top;\n",
       "    }\n",
       "\n",
       "    .dataframe thead th {\n",
       "        text-align: right;\n",
       "    }\n",
       "</style>\n",
       "<table border=\"1\" class=\"dataframe\">\n",
       "  <thead>\n",
       "    <tr style=\"text-align: right;\">\n",
       "      <th></th>\n",
       "      <th>0</th>\n",
       "    </tr>\n",
       "  </thead>\n",
       "  <tbody>\n",
       "    <tr>\n",
       "      <th>0</th>\n",
       "      <td>全自动发药机的供应商地址在哪里？</td>\n",
       "    </tr>\n",
       "    <tr>\n",
       "      <th>1</th>\n",
       "      <td>日常问题</td>\n",
       "    </tr>\n",
       "    <tr>\n",
       "      <th>2</th>\n",
       "      <td>商品数据</td>\n",
       "    </tr>\n",
       "    <tr>\n",
       "      <th>3</th>\n",
       "      <td>[全自动发药机,  供应商,  地址]</td>\n",
       "    </tr>\n",
       "  </tbody>\n",
       "</table>\n",
       "</div>"
      ],
      "text/plain": [
       "                     0\n",
       "0     全自动发药机的供应商地址在哪里？\n",
       "1                 日常问题\n",
       "2                 商品数据\n",
       "3  [全自动发药机,  供应商,  地址]"
      ]
     },
     "execution_count": 147,
     "metadata": {},
     "output_type": "execute_result"
    }
   ],
   "source": [
    "data_"
   ]
  },
  {
   "cell_type": "code",
   "execution_count": null,
   "id": "f92fa410-2b6d-47c6-a9f6-198fc53416d4",
   "metadata": {},
   "outputs": [],
   "source": [
    "template = f\"\"\"\n",
    "            你是一名实体提取和意图识别分类领域专家，请严格遵循以下任务和工作流程的指示输出结果。\n",
    "            \n",
    "            任务：\n",
    "            1-判断用户问题是否存在实体。\n",
    "            2-抽取用户问题中可能表达意图的实体。\n",
    "            3-根据实体与给出的意图标签进行判定该用户问题的意图。\n",
    "            \n",
    "            工作流程：\n",
    "            1-先判断是否存在实体，不存在实体则实体提取为[]，意图分类为日常问题，存在实体则继续以下工作流程，并通过存在实体输出格式输出。\n",
    "            2-实体提取：请从用户问题中提取出所有实体，多个实体请用逗号分隔。\n",
    "            3-意图分类：请根据第2点提取的实体以及意图标签，进行意图识别并分类用户问题。\n",
    "\n",
    "            输出格式：\n",
    "                实体提取：实体\n",
    "                意图分类：意图标签\n",
    "\n",
    "\n",
    "            问题：{question}。\n",
    "\n",
    "            对比实体提取的结果，筛掉问题中不存在的、重复的实体。实体与实体之间是否用逗号分隔，请矫正。\n",
    "\n",
    "            请根据意图分类结果与用户问题进行分析，再次根据提取的实体对用户问题给出正确的意图标签。\n",
    "            \n",
    "            每个问题只能分为一类意图，矫正后的意图分类结果替换前面的分类结果。\n",
    "            \n",
    "            请根据生成的结果与要求的输出格式对比，存在格式问题则进行矫正后输出。\n",
    "\n",
    "            意图标签：商品数据，招标中标信息，政策内容，政策文件信息，日常问题。\n",
    "\n",
    "            实体提取和意图分类结果：\"\"\""
   ]
  },
  {
   "cell_type": "code",
   "execution_count": null,
   "id": "9b8305ac-7a27-459f-aac0-a1c643e7d364",
   "metadata": {},
   "outputs": [],
   "source": [
    "template = f\"\"\"\n",
    "            你是一名实体提取领域专家，请严格遵循以下任务和工作流程的指示输出结果。\n",
    "            \n",
    "            任务：\n",
    "            1-判断上下文是否存在实体。\n",
    "            2-抽取上下文中表达意图的所有实体。\n",
    "            \n",
    "            工作流程：\n",
    "            1-首先对输入文本进行分词。\n",
    "            1-其次判断每个分词是否为实体。\n",
    "            2-判断结果表明所有分词不是实体则直接输出实体提取：''。\n",
    "            3-判断每个分词，存在至少一个实体的，则根据输出格式提取并输出。\n",
    "            4-请从上下文中提取出所有实体，多个实体请用逗号分隔。\n",
    "\n",
    "            对比实体提取的结果，筛掉上下文中不存在的、重复的实体。实体与实体之间是否用逗号分隔，请矫正。\n",
    "\n",
    "            请根据生成的结果与要求的输出格式对比，存在格式问题则进行矫正后输出。\n",
    "\n",
    "            输出格式：\n",
    "                实体提取：实体\n",
    "\n",
    "            请注意输出结果严格按照输出格式进行，不需要输出分析过程。\n",
    "\n",
    "            上下文：{question}\"\"\""
   ]
  },
  {
   "cell_type": "code",
   "execution_count": null,
   "id": "26930c9d-7215-49df-a7c7-a11475f651d0",
   "metadata": {},
   "outputs": [],
   "source": [
    "template = f\"\"\"\n",
    "            请根据问题进行实体提取，尽可能提取所有实体，按照格式输出。\n",
    "            请检查提取的实体和问题，所有实体是否占据问题较小篇幅，是则进一步辨别实体并提取。\n",
    "            可能存在较长实体，请提取出来。\n",
    "            请将产品名称、产品系统等实体也提取出来。按照格式输出。\n",
    "            提取出的实体存在重复的请筛掉。\n",
    "            请将产品名称、产品系统等实体也提取出来。按照格式输出。\n",
    "\n",
    "            输出格式：\n",
    "                实体提取：实体，实体，\n",
    "\n",
    "            问题：{question}\n",
    "            \"\"\""
   ]
  },
  {
   "cell_type": "code",
   "execution_count": null,
   "id": "70c69c99-46f9-4ca6-a1f7-ad2e5c6f2ec0",
   "metadata": {},
   "outputs": [],
   "source": [
    "template = f\"\"\"\n",
    "            你是一名意图识别和分类领域专家，请严格遵循以下任务和工作流程的指示输出结果。请根据给出的example进行意图分类。\n",
    "            \n",
    "            任务：\n",
    "            1-分析用户输入的问题和对应问题的实体。\n",
    "            2-根据分析和给出的意图分类标签进行问题的意图分类。\n",
    "    \n",
    "            意图标签：商品数据，招标中标信息，政策内容，政策文件信息，日常问题。\n",
    "            \n",
    "            请根据分类结果与要求的输出格式对比，存在格式问题则进行矫正后输出。\n",
    "\n",
    "            example:\n",
    "                问题：《工程建设项目施工招标投标办法》的发布时间是什么？\n",
    "                实体：['工程建设项目施工招标投标办法，发布时间']\n",
    "                意图分类：政策文件信息\n",
    "\n",
    "                问题：医院X射线计算机体层摄影设备的供应商省份有哪些？\n",
    "                实体：['医院X射线计算机体层摄影设备，供应商省份']\n",
    "                意图分类：商品数据\n",
    "\n",
    "                问题：如何确保政府采购信息的公开透明？\n",
    "                实体：['政府采购信息，公开透明']\n",
    "                意图分类：政策内容\n",
    "\n",
    "                问题：“高端便携式彩色多普勒超声诊断仪”项目的预算金额是多少？\n",
    "                实体：['高端便携式彩色多普勒超声诊断仪，预算金额']\n",
    "                意图分类：招标中标信息\n",
    "\n",
    "                问题：你能教我几句常用的外语表达吗？\n",
    "                实体：['外语表达']\n",
    "                意图分类：日常问题\n",
    "                \n",
    "            输出格式：\n",
    "                意图分类：意图标签\n",
    "\n",
    "            请注意输出结果严格按照输出格式进行，不需要输出分析过程。不要输出实体结果\n",
    "\n",
    "            实体：{body_}\n",
    "\n",
    "            问题：{question}\"\"\""
   ]
  }
 ],
 "metadata": {
  "kernelspec": {
   "display_name": "Python 3 (ipykernel)",
   "language": "python",
   "name": "python3"
  },
  "language_info": {
   "codemirror_mode": {
    "name": "ipython",
    "version": 3
   },
   "file_extension": ".py",
   "mimetype": "text/x-python",
   "name": "python",
   "nbconvert_exporter": "python",
   "pygments_lexer": "ipython3",
   "version": "3.10.8"
  }
 },
 "nbformat": 4,
 "nbformat_minor": 5
}
