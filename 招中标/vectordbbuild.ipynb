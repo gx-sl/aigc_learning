{
 "cells": [
  {
   "cell_type": "code",
   "execution_count": 1,
   "id": "c6dc6b8f-51d3-479d-b513-0a5fae7e77de",
   "metadata": {
    "tags": []
   },
   "outputs": [],
   "source": [
    "from pathlib import Path\n",
    "import json\n",
    "from langchain.vectorstores import Chroma\n",
    "from langchain.text_splitter import RecursiveCharacterTextSplitter\n",
    "from langchain.embeddings.huggingface import HuggingFaceEmbeddings"
   ]
  },
  {
   "cell_type": "code",
   "execution_count": 2,
   "id": "93da8d32-2f2b-4f51-8bcc-7c2ef0673b9a",
   "metadata": {
    "tags": []
   },
   "outputs": [],
   "source": [
    "def docs_persistence(path: Path) -> str:\n",
    "    \"\"\"\n",
    "\n",
    "    :param path: 爬取文本路径\n",
    "    :return: 知识库磁盘保存路径\n",
    "    \"\"\"\n",
    "    data_list = []\n",
    "    for file in path.rglob('*.json'):\n",
    "        with open(file, 'r', encoding='utf-8-sig') as f:\n",
    "            data = json.load(f)\n",
    "            # 格式特殊字符处理\n",
    "            data['title'] = data['title'].replace('/u200b', '')\n",
    "            # 保存所有数据\n",
    "            data_list.append(data)\n",
    "\n",
    "    # 遍历数据列表，检查文章标题是否存在重复，进行筛选\n",
    "    all_title = {}\n",
    "    duplicate_samples_title = []\n",
    "    all_title['title'] = []\n",
    "    single_context = []\n",
    "\n",
    "    for context in data_list:\n",
    "        all = ''\n",
    "        for key, value in context.items():\n",
    "            if type(value) == list:\n",
    "                for value1 in value:\n",
    "                    all += value1\n",
    "            else:\n",
    "                all += value\n",
    "\n",
    "            # 根据标题筛选\n",
    "            if key == 'title' and value not in all_title.values():\n",
    "                all_title[key].append(value)\n",
    "            else:\n",
    "                if key == 'title':\n",
    "                    duplicate_samples_title.append(value)\n",
    "        # 合并单个文本信息\n",
    "        single_context.append(all)\n",
    "    if duplicate_samples_title:\n",
    "        print('存在重复标题：', duplicate_samples_title)\n",
    "    else:\n",
    "        print('标题均不重复')\n",
    "\n",
    "    # 所有数据文本信息合并\n",
    "    all_text = ''\n",
    "\n",
    "    for text in single_context:\n",
    "        # 创建 Document 对象\n",
    "\n",
    "        all_text += text\n",
    "\n",
    "    # 数据进行递归切割、分块\n",
    "    text_spliter = RecursiveCharacterTextSplitter(chunk_size=500, chunk_overlap=100)\n",
    "\n",
    "    split_docs = text_spliter.split_text(all_text)\n",
    "\n",
    "    # 创建 Document 对象\n",
    "    # doc = Document(page_content=all_text)\n",
    "    # split_docs = [Document(page_content=doc) for doc in split_docs]\n",
    "    # 加载检查点的embedding模型\n",
    "    persist_directory = r'vectordb/chroma'\n",
    "    embeddings_model_cache_path = r'autodl-tmp/embedding_model/Ceceliachenen/paraphrase-multilingual-MiniLM-L12-v2'\n",
    "    embeddings = HuggingFaceEmbeddings(model_name=embeddings_model_cache_path)\n",
    "    # langchain框架构建本地向量库, 使用chroma知识库\n",
    "\n",
    "    # 初始化向量数据库\n",
    "    vectordb = Chroma.from_texts(\n",
    "        texts=split_docs,\n",
    "        embedding=embeddings,\n",
    "        persist_directory=persist_directory,\n",
    "    )\n",
    "\n",
    "    vectordb.persist()\n",
    "    return persist_directory"
   ]
  },
  {
   "cell_type": "code",
   "execution_count": 3,
   "id": "5121e3fe-abfb-4ca9-be23-390810ac9dc0",
   "metadata": {
    "tags": []
   },
   "outputs": [
    {
     "name": "stdout",
     "output_type": "stream",
     "text": [
      "标题均不重复\n"
     ]
    },
    {
     "name": "stderr",
     "output_type": "stream",
     "text": [
      "/root/miniconda3/lib/python3.8/site-packages/torch/_utils.py:776: UserWarning: TypedStorage is deprecated. It will be removed in the future and UntypedStorage will be the only storage class. This should only matter to you if you are using storages directly.  To access UntypedStorage directly, use tensor.untyped_storage() instead of tensor.storage()\n",
      "  return self.fget.__get__(instance, owner)()\n"
     ]
    },
    {
     "data": {
      "text/plain": [
       "'vectordb/chroma'"
      ]
     },
     "execution_count": 3,
     "metadata": {},
     "output_type": "execute_result"
    }
   ],
   "source": [
    "path = Path.cwd() / 'allinfodata'\n",
    "docs_persistence(path)\n"
   ]
  },
  {
   "cell_type": "code",
   "execution_count": null,
   "id": "37491d30-9c43-4cc9-83f8-505019c88862",
   "metadata": {},
   "outputs": [],
   "source": []
  }
 ],
 "metadata": {
  "kernelspec": {
   "display_name": "Python 3 (ipykernel)",
   "language": "python",
   "name": "python3"
  },
  "language_info": {
   "codemirror_mode": {
    "name": "ipython",
    "version": 3
   },
   "file_extension": ".py",
   "mimetype": "text/x-python",
   "name": "python",
   "nbconvert_exporter": "python",
   "pygments_lexer": "ipython3",
   "version": "3.8.10"
  }
 },
 "nbformat": 4,
 "nbformat_minor": 5
}
