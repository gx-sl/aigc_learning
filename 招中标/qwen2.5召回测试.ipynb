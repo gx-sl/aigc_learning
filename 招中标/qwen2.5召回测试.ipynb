{
 "cells": [
  {
   "cell_type": "code",
   "execution_count": 1,
   "id": "906ce176-935f-44d0-b65f-480deacfed19",
   "metadata": {
    "tags": []
   },
   "outputs": [],
   "source": [
    "import gradio as gr\n",
    "from typing import Optional, List, Any\n",
    "import torch\n",
    "from langchain.embeddings.huggingface import HuggingFaceEmbeddings\n",
    "from langchain.vectorstores import Chroma\n",
    "from langchain.llms.base import LLM\n",
    "from langchain.callbacks.manager import CallbackManagerForLLMRun\n",
    "from transformers import AutoTokenizer, AutoModelForCausalLM, GenerationConfig, TextIteratorStreamer, AutoProcessor\n",
    "# from modelscope import AutoTokenizer, AutoModelForCausalLM, GenerationConfig\n",
    "from langchain import HuggingFacePipeline\n",
    "from langchain.chains import RetrievalQA, ConversationalRetrievalChain\n",
    "from langchain.prompts import PromptTemplate, ChatPromptTemplate, MessagesPlaceholder\n",
    "from langchain_core.outputs.generation import GenerationChunk\n",
    "from torch import device\n",
    "import time\n",
    "from langchain import LLMChain\n",
    "from langchain.memory import ConversationBufferMemory\n",
    "from langchain_community.chat_message_histories import ChatMessageHistory\n",
    "from langchain.chains.history_aware_retriever import create_history_aware_retriever\n",
    "\n",
    "from langchain.chains.retrieval import create_retrieval_chain\n",
    "from langchain_core.runnables import RunnableWithMessageHistory\n",
    "from langchain.chains.combine_documents import create_stuff_documents_chain\n",
    "from tqdm.notebook import tqdm\n",
    "\n",
    "# from threading import Thread\n",
    "import warnings\n",
    "warnings.filterwarnings(\"ignore\")"
   ]
  },
  {
   "cell_type": "code",
   "execution_count": 2,
   "id": "2c892838-f4a7-48b1-99d6-7bedb90b8120",
   "metadata": {},
   "outputs": [],
   "source": [
    "device = torch.device('cuda')\n"
   ]
  },
  {
   "cell_type": "code",
   "execution_count": 3,
   "id": "5bb71bc6-feb2-4935-b026-95862673728f",
   "metadata": {
    "tags": []
   },
   "outputs": [],
   "source": [
    "# 构建模型\n",
    "class QianWenLLM(LLM):\n",
    "    # 基于本地的QianWen7B-Chat模型自定义LLM类\n",
    "    tokenizer: AutoTokenizer = None\n",
    "    model: AutoModelForCausalLM = None\n",
    "    processor: AutoProcessor = None\n",
    "    \n",
    "    def __init__(self, model_dir: str):\n",
    "        # 从本地加载模型\n",
    "        super().__init__()\n",
    "        print('正从本地加载模型。。。。。')\n",
    "\n",
    "        self.tokenizer = AutoTokenizer.from_pretrained(\n",
    "            pretrained_model_name_or_path=model_dir,\n",
    "            trust_remote_code=True,\n",
    "        )\n",
    "        self.model = AutoModelForCausalLM.from_pretrained(\n",
    "            pretrained_model_name_or_path=model_dir,\n",
    "            # device_map='auto',\n",
    "            trust_remote_code=True,\n",
    "            torch_dtype=torch.bfloat16,\n",
    "            # temperature=0\n",
    "            ).to(device)\n",
    "        self.model = self.model.eval()\n",
    "        self.model.generation_config = GenerationConfig.from_pretrained(\n",
    "            model_dir,\n",
    "            trust_remote_code=True\n",
    "        )\n",
    "        # 可指定不同的生成长度、top_p等相关超参\n",
    "        self.processor = AutoProcessor.from_pretrained(model_dir)\n",
    "        print('模型加载完成！')\n",
    "\n",
    "    def _call(self, infor,\n",
    "              stop: Optional[List[str]] = None,\n",
    "              run_manager: Optional[CallbackManagerForLLMRun] = None,\n",
    "              **kwargs: Any):\n",
    "        # response, history = self.model.chat(self.tokenizer, prompt, history=[])\n",
    "        # print('infor:', infor)\n",
    "        # system_info =  infor.split('说“谢谢你的提问！”。')[-1].split('问题：')[0].strip()\n",
    "        # human_info =  infor.split('问题：')[-1].strip()\n",
    "        # time.sleep(1000)\n",
    "        messages = [\n",
    "                    # {'role':'system', 'content': system_info},\n",
    "                    {'role':'user', 'content': infor}\n",
    "                    ]\n",
    "        # print('打印messages内容：', messages)\n",
    "        # print('打印messages类型：', type(messages))\n",
    "        text = self.tokenizer.apply_chat_template(\n",
    "            messages,\n",
    "            tokenize=False,\n",
    "            add_generation_prompt=True\n",
    "        )\n",
    "        model_inputs = self.tokenizer([text], return_tensors='pt').to(device)\n",
    "        generated_ids = self.model.generate(\n",
    "            **model_inputs,\n",
    "            max_new_tokens=1024\n",
    "        )\n",
    "        generated_ids = [\n",
    "            output_ids[len(input_ids):] for input_ids, output_ids in zip(model_inputs.input_ids, generated_ids)\n",
    "        ]\n",
    "        response = self.tokenizer.batch_decode(generated_ids, skip_special_tokens=True)[0]\n",
    "       \n",
    "        return response\n",
    "        \n",
    "    @property\n",
    "    def _llm_type(self) -> str:\n",
    "        return \"QwenLM\""
   ]
  },
  {
   "cell_type": "code",
   "execution_count": 4,
   "id": "2a0aa4c1-af87-4d29-8478-9875ca3278a2",
   "metadata": {
    "tags": []
   },
   "outputs": [],
   "source": [
    "def init_db():\n",
    "    # persist_directory = r'vectordb/chroma/m3e-base'\n",
    "    persist_directory = r'vectordb/chroma/bge_large'\n",
    "    # embeddings_model_cache_path = r'autodl-tmp/embedding_model/AI-ModelScope/m3e-base'\n",
    "    \n",
    "    embeddings_model_cache_path = r'autodl-tmp/embedding_model/BAAI/bge-large-zh-v1___5'\n",
    "    # 加载词向量模型\n",
    "    embeddings = HuggingFaceEmbeddings(\n",
    "        model_name=embeddings_model_cache_path)\n",
    "    \n",
    "    # 加载缓存知识库\n",
    "    vectordb = Chroma(\n",
    "        persist_directory=persist_directory,\n",
    "        embedding_function=embeddings,\n",
    "    )\n",
    "    return vectordb"
   ]
  },
  {
   "cell_type": "code",
   "execution_count": 5,
   "id": "8ef66d60-7bcc-4ca2-866d-d1f6ecb4c9e3",
   "metadata": {
    "tags": []
   },
   "outputs": [],
   "source": [
    "def init_model(vectordb):\n",
    "    # 初始化模型\n",
    "    # model_cache_path = r'autodl-tmp/Qwen/Qwen-7B-Chat'\n",
    "    model_cache_path = r'autodl-tmp/Qwen/Qwen2.5-7B-Instruct'\n",
    "    llm = QianWenLLM(model_dir=model_cache_path)\n",
    "    template = \"\"\"\n",
    "        使用上下文来回答最后的问题。如果你不知道答案，就说你不知道，不要试图编造答案。总是在回答的最后说“谢谢你的提问！”。\n",
    "        {context}\n",
    "        问题：{question}\n",
    "        \"\"\"\n",
    "    QA_CHAIN_PROMPT = PromptTemplate(input_variables=['context', 'question'], template=template)\n",
    "\n",
    "    # 构造检索问答链\n",
    "    qa_chain_ = RetrievalQA.from_chain_type(\n",
    "        llm=llm,\n",
    "        retriever=vectordb.as_retriever(\n",
    "                    search_type=\"mmr\", \n",
    "        search_kwargs={\"k\": 10, \"fetch_k\": 20}\n",
    "        ),\n",
    "        return_source_documents=True,\n",
    "        chain_type_kwargs={'prompt': QA_CHAIN_PROMPT},\n",
    "        # chain_type='stuff'\n",
    "    )\n",
    "    return qa_chain_"
   ]
  },
  {
   "cell_type": "code",
   "execution_count": 6,
   "id": "4f29765f-5f17-42cb-bf93-2a02b3d6de9c",
   "metadata": {},
   "outputs": [],
   "source": [
    "def init2_model(vectordb):\n",
    "    # 初始化模型\n",
    "    # model_cache_path = r'autodl-tmp/Qwen/Qwen-7B-Chat'\n",
    "    model_cache_path = r'autodl-tmp/Qwen/Qwen2.5-7B-Instruct'\n",
    "    llm = QianWenLLM(model_dir=model_cache_path)\n",
    "    # template = \"\"\"\n",
    "    #     使用上下文来回答最后的问题。如果你不知道答案，就说你不知道，不要试图编造答案。总是在回答的最后说“谢谢你的提问！”。\n",
    "    #     上下文：{context}\n",
    "    #     问题：{question}\n",
    "    #     回答：\n",
    "    #     \"\"\"\n",
    "    template = \"\"\"\n",
    "    分析输入的上下文，段落之间利用空行进行分隔，对每一个段落与问题进行相似度匹配，找出与问题相似度高的段落文本，并直接将文本输出。\n",
    "    上下文：{context}\n",
    "    问题：{question}\n",
    "    请不要作答，直接输出匹配的文本。\n",
    "    \"\"\"\n",
    "    QA_CHAIN_PROMPT = PromptTemplate(input_variables=['context', 'question'], template=template)\n",
    "\n",
    "    qa_chain_ = LLMChain(llm=llm, prompt=QA_CHAIN_PROMPT)\n",
    "\n",
    "    return qa_chain_, llm"
   ]
  },
  {
   "cell_type": "code",
   "execution_count": 7,
   "id": "42bda1b2-6618-4177-8b21-fa63ffac64b1",
   "metadata": {},
   "outputs": [
    {
     "name": "stdout",
     "output_type": "stream",
     "text": [
      "正从本地加载模型。。。。。\n"
     ]
    },
    {
     "data": {
      "application/vnd.jupyter.widget-view+json": {
       "model_id": "da709433b89746bcb52b7756ef619ef7",
       "version_major": 2,
       "version_minor": 0
      },
      "text/plain": [
       "Loading checkpoint shards:   0%|          | 0/4 [00:00<?, ?it/s]"
      ]
     },
     "metadata": {},
     "output_type": "display_data"
    },
    {
     "name": "stdout",
     "output_type": "stream",
     "text": [
      "模型加载完成！\n"
     ]
    }
   ],
   "source": [
    "# 加载数据\n",
    "import pandas as pd\n",
    "import csv\n",
    "import os\n",
    "# import re\n",
    "# from tqdm import tqdm\n",
    "# 初始化模型\n",
    "vectordb = init_db()\n",
    "model = init_model(vectordb)"
   ]
  },
  {
   "cell_type": "code",
   "execution_count": 9,
   "id": "03dcee58-1ef0-4876-b877-fb4265bb4977",
   "metadata": {},
   "outputs": [
    {
     "name": "stdout",
     "output_type": "stream",
     "text": [
      "问题： 意向受让方在登记受让意向时需要满足哪些条件？\n",
      "回答： 意向受让方在登记受让意向时需要满足以下条件：\n",
      "\n",
      "1. 在信息披露期间，向联交所提出产权受让申请，并递交《产权受让申请书》及相关附件等纸质材料，确认已知晓《信息披露公告》载明的所有内容和交易条件，并承诺遵守市场规则。\n",
      "2. 对《产权受让申请书》填写内容及提交材料的真实性、完整性、准确性负责。\n",
      "3. 需要受托机构（如经纪会员）对提交材料的真实性、完整性、准确性进行核实，并出具核实意见。\n",
      "4. 如信息披露公告中设定受让方资格条件，意向受让方需满足这些条件。\n",
      "5. 如果是联合受让体，每个成员均需满足信息披露公告中的受让方资格条件。\n",
      "6. 提交的材料需要齐全性和规范性，联交所在受理后会进行审核。\n",
      "\n",
      "以上是主要的条件要求，确保意向受让方能够顺利进行登记并获得受让资格确认。谢谢你的提问！\n",
      "来源文档： ['上海市国资委、市工商局、市产管办关于印发《上海市产权交易市场管理办法实施细则》的通知(2009年修订)', '【产权交易】上海联合产权交易所有限公司企业国有产权转让登记受让意向操作细则（沪联产交〔2020〕45号)', '国务院国有资产监督管理委员会关于印发《企业国有产权交易操作规则》的通知', '【技术交易】上海技术交易所交易暂行规则（草拟）', '【产权交易】上海联合产权交易所有限公司企业国有产权转让登记受让意向操作细则（沪联产交〔2020〕45号)', '【产权交易】上海联合产权交易所有限公司债权交易规则(沪联产交〔2020〕38号)', '协议出让国有土地使用权规范（试行）', '【技术交易】上海技术交易所竞价交易（拍卖）实施办法（草拟）', '【产权交易】上海联合产权交易所有限公司产权转让网络竞价实施办法（沪联产交〔2018〕47号）', '协议出让国有土地使用权规范（试行）']\n",
      "文档内容 [Document(metadata={'infosource': '信息来源：上海市', 'time': '发布时间：2021-07-15', 'title': '上海市国资委、市工商局、市产管办关于印发《上海市产权交易市场管理办法实施细则》的通知(2009年修订)'}, page_content='未经公布的受让条件不得作为确认或否定意向受让方资格的依据。在产权转让公告中公布的受让条件，一经发布不得擅自变更。因特殊原因确需变更信息公告内容的，应当由产权转让批准机构出具文件，由联交所在原信息发布渠道进行公告，并重新计算公告期。第十八条 （信息的反馈）产权交易信息发布期间，符合条件的意向受让方应当委托经纪会员向联交所提出产权受让申请。联交所应当及时受理审核，登记意向受让方的相关信息并存档，并将意向受让方的财务状况、收购资金来源以及与出让产权所在产业的关联度等信息书面告知出让方及其受托会员。联交所应当对意向受让方提交的申请及材料进行齐全性和合规性审核，经征询出让方意见后，联交所应当以书面形式将资格确认结果告知意向受让方，并抄送出让方。出让方对联交所确认的意向受让方资格有异议，应与联交所进行协商，必要时可以就有关争议事项征求政府有关职能部门意见，也可通过产权交易争端协调机制，对分歧事项进行协调。当登记的意向受让方没有响应产权转让公告中受让条件的全部要求，或提出带有附加条件的受让要求时，联交所应当及时以书面形式对其进行提示，在规定的期限内该意向受让方没有作出调整、纠正的，应取消其受让资格。信息公告超过约定期限且未征集到符合条件意向受让方的，可以按照产权转让公告的约定延长信息公告期限或者自行终结，也可以由出让方根据有关规定更改产权转让公告的内容和条件后再次公告。再次公告的期限应当不少于20个工作日。第十九条（企业国有产权的出让价格）企业国有产权出让方应当依照国家有关规定，委托具有资质的资产评估机构进行资产评估。资产评估报告经核准或者备案后，作为确定企业国有产权转让价格的主要参考依据。企业国有产权转让首次信息公告时的挂牌价不得低于经备案或者核准的转让标的资产评估结果。如在规定的公告期限内未征集到意向受让方，出让方可以在不低于评估结果90％的范围内设定新的挂牌价再次进行公告。'), Document(metadata={'infosource': '信息来源：国家', 'time': '发布时间：2020-11-12', 'title': '【产权交易】上海联合产权交易所有限公司企业国有产权转让登记受让意向操作细则（沪联产交〔2020〕45号)'}, page_content='第十三条 登记的意向受让方不符合信息披露公告中的受让方资格条件，或提出带有附加条件的受让要求，或提交的材料不符合齐全性和规范性要求的，联交所以书面形式告知意向受让方。意向受让方应当在收到通知的次日起2个工作日内按要求做出调整。第十四条 联交所在信息披露期满后5个工作日内，就意向受让方是否符合受让条件以《受让资格反馈函》反馈至转让方。第十五条 转让方应当在收到联交所《受让资格反馈函》次日起5个工作日内予以书面回复，如认为意向受让方不符合公布的受让方资格条件的，应当向联交所提出书面意见，说明理由并提交相关证明材料。转让方逾期未予书面回复的，视为同意联交所作出的资格确认意见。第十六条 转让方与联交所对意向受让方资格确认意见不一致的，应当就争议事项征询转让行为批准单位或国资监管机构意见，联交所根据转让行为批准单位或国资监管机构的书面意见确定意向受让方是否符合受让条件。第十七条 经征询转让方意见后联交所向意向受让方出具交易安排通知函件或《受让资格确认结果通知》，并同时抄送转让方。第十八条 意向受让方应当在交易安排通知函件规定的时限内，将交易保证金交纳至联交所指定账户。意向受让方按规定交纳交易保证金后获得资格确认。意向受让方未按规定交纳保证金的，视为放弃受让资格。第十九条 未获得资格确认的意向受让方如有异议，在收到《受让资格确认结果通知》次日起2个工作日内可通过联交所向转让方提出书面意见，说明提出异议的理由并提交相关证明材料。意向受让方的异议不影响相关产权交易项目的进行。第二十条 转让项目选择开放式报价方式的，按照联交所开放式报价相关规定执行。第二十一条 本细则自发布之日起施行。上海联合产权交易所有限公司2020年7月21日'), Document(metadata={'infosource': '信息来源：国家', 'time': '发布时间：2021-07-15', 'title': '国务院国有资产监督管理委员会关于印发《企业国有产权交易操作规则》的通知'}, page_content='第二十二条 信息公告期间出现影响交易活动正常进行的情形，或者有关当事人提出中止信息公告书面申请和有关材料后，产权交易机构可以作出中止信息公告的决定。第二十三条 信息公告的中止期限由产权交易机构根据实际情况设定，一般不超过1个月。产权交易机构应当在中止期间对相关的申请事由或者争议事项进行调查核实，也可转请相关部门进行调查核实，及时作出恢复或者终结信息公告的决定。如恢复信息公告，在产权交易机构网站上的累计公告期不少于20个工作日，且继续公告的期限不少于10个工作日。第二十四条  信息公告期间出现致使交易活动无法按照规定程序正常进行的情形，并经调查核实确认无法消除时，产权交易机构可以作出终结信息公告的决定。第四章登记受让意向第二十五条 意向受让方在信息公告期限内，向产权交易机构提出产权受让申请，并提交相关材料。产权交易机构应当对意向受让方逐一进行登记。第二十六条 意向受让方可以到产权交易机构查阅产权转让标的的相关信息和材料。第二十七条 产权交易机构应当对意向受让方提交的申请及材料进行齐全性和合规性审核，并在信息公告期满后5个工作日内将意向受让方的登记情况及其资格确认意见书面告知转让方。第二十八条 转让方在收到产权交易机构的资格确认意见后，应当在5个工作日内予以书面回复。如对受让方资格条件存有异议，应当在书面意见中说明理由，并提交相关证明材料。转让方逾期未予回复的，视为同意产权交易机构作出的资格确认意见。第二十九条 经征询转让方意见后，产权交易机构应当以书面形式将资格确认结果告知意向受让方，并抄送转让方。第三十条 转让方对产权交易机构确认的意向受让方资格有异议，应当与产权交易机构进行协商，必要时可以就有关争议事项征询国有资产监督管理机构意见。第三十一条  通过资格确认的意向受让方在事先确定的时限内向产权交易机构交纳交易保证金（以到达产权交易机构指定账户为准）后获得参与竞价交易资格。'), Document(metadata={'infosource': '信息来源：国家', 'time': '发布时间：2020-11-05', 'title': '【技术交易】上海技术交易所交易暂行规则（草拟）'}, page_content='上述所有文件均须提供原件备查，如未能按上海技术交易所要求提供原件，视为无原件。第二十三条 信息披露有效期内，交易方及其会员机构应接受意向受让方的查询洽谈。意向受让方应在信息披露有效期内，直接或委托会员机构向上海技术交易所递交受让申请及相关受让文件。上海技术交易所对意向受让方的受让申请进行登记，并会同转让方按照信息披露的受让条件和国家的有关规定，对意向受让方进行资格审查。第二十四条 上海技术交易所对意向受让方所提交材料齐全性和合规性进行形式审核，并在披露公告期满后3个工作日内，将对意向受让方的交易资格审核意见书面告知转让方。第二十五条 转让方在收到上海技术交易所的交易资格审核意见后，应当在5个工作日内予以书面回复。转让方逾期未予回复的，视为同意上海技术交易所的交易资格审核意见。转让方与上海技术交易所意见不一致的，由交易行为批准单位决定意向受让方是否符合交易条件。上海技术交易所在意向受让方的交易资格确认后，通知意向受让方交纳交易保证金。第二十六条 意向受让方应当在3个工作日内将交易保证金交纳至监管机构指定的第三方结算账户，意向受让方逾期未交纳或未全额交纳交易保证金的，视为放弃交易资格。第二十七条 信息披露有效期内只产生一个符合条件的意向受让方的，可采取协议转让的方式进行交易。产生两个及以上符合条件的意向受让方的，可以采取拍卖、招投标、动态报价，或法律法规允许的其他竞价交易方式进行交易。具体交易方式由上海技术交易所与转让方协商确定。交易价格遵循市场化定价方式，鼓励各类市场主体参与交易活动，尊重交易双方的自主选择。l交易程序 组织交易和洽谈签约第二十八条 交易方提出的交易申请，在通过项目初筛及意向方主体资格形式审查后，如选择“协议转让”方式，上海技术交易所应当组织、协调，交易主体进行洽谈及调研，签署交易合同。'), Document(metadata={'infosource': '信息来源：国家', 'time': '发布时间：2020-11-12', 'title': '【产权交易】上海联合产权交易所有限公司企业国有产权转让登记受让意向操作细则（沪联产交〔2020〕45号)'}, page_content='第一条 为规范在上海联合产权交易所有限公司（以下简称“联交所”）进行的企业国有产权转让信息公开披露后意向受让方的登记和资格确认行为，制定本细则。第二条 企业国有产权转让业务可以实行委托代理制。意向受让方可以自主选择联交所会员等受托机构，签订委托代理合同，建立委托代理关系。第三条 产权转让信息正式披露（以下简称“信息披露”）期间，意向受让方可以到联交所查阅信息披露公告所涉内容的相应材料，经转让方同意，意向受让方可以复印相关材料。第四条 意向受让方应当在信息披露期间，向联交所提出产权受让申请，并递交《产权受让申请书》及相关附件等纸质材料，确认已知晓《信息披露公告》载明的所有内容和交易条件，并承诺遵守市场规则。第五条《产权受让申请书》主要包括意向受让方的基本情况、受让标的、受让底价、相关承诺、受托机构核实意见等内容，意向受让方的受让底价不低于转让底价。第六条 意向受让方对《产权受让申请书》填写内容及提交材料的真实性、完整性、准确性负责。受托机构应当对意向受让方提交材料的真实性、完整性、准确性进行核实，并出具核实意见。第七条 联交所对提出申请的意向受让方逐一进行登记，并出具申请材料接收单。第八条 联交所在受理受让申请材料次日起2个工作日内，完成对《产权受让申请书》及其附件材料的齐全性和规范性的审核。第九条 信息披露公告未明确表示不接受联合受让的，多个意向受让方可组成联合受让体，向联交所提交受让申请，参与受让。联合受让体的《产权受让申请书》中应载明各成员的受让比例。第十条 信息披露公告中设定受让方资格条件的，联合受让体各成员均需满足信息披露公告中的受让方资格条件，信息披露公告明确联合体其中一方满足受让资格条件即可的除外。'), Document(metadata={'infosource': '信息来源：国家', 'time': '发布时间：2020-11-12', 'title': '【产权交易】上海联合产权交易所有限公司债权交易规则(沪联产交〔2020〕38号)'}, page_content='转让方未明确延长期限的，信息披露到期自行终结。第十八条 转让方可委托专业评估机构对转让标的进行评估，并以该评估价格为参考依据确定转让底价，也可通过其他方式确定转让底价。第十九条 信息披露期间出现影响交易活动正常进行的情形，联交所可根据中止和终结相关规定做出中止或终结的决定。第四章 登记受让意向第二十条 意向受让方在信息披露期限内，向联交所提出债权受让申请，并提交相关材料，包括但不限于：（一）意向受让申请书；（二）主体资格证明材料；（三）按项目信息披露要求提交的相关材料；（四）联交所要求提交的其他材料。第二十一条 意向受让方可以到联交所查阅债权转让标的的相关信息和材料。第二十二条 联交所应当对意向受让方提交的申请及材料进行齐全性和合规性审核。在信息披露期满后5个工作日内将意向受让方的登记情况及其受让资格审核意见告知转让方。第二十三条 转让方应在收到联交所受让资格审核意见后5个工作日内，向联交所递交书面资格确认意见。如对受让方资格条件不予确认的，应当说明理由。转让方逾期未予回复的，视为对意向受让方的资格予以确认。第二十四条 联交所在收到资格确认意见后，向意向受让方出具交易安排通知函件或受让资格确认结果通知，同时抄送转让方。第五章 组织交易签约第二十五条 债权转让信息披露期满后，产生两个及以上符合条件的意向受让方的，联交所将按照公告要求组织交易，确定最终受让方和受让价格；如只产生一个符合条件的意向受让方的，由联交所组织交易双方按挂牌价与受让方报价孰高原则直接签约。第二十六条 联交所应当在确定受让方后3个工作日内，组织交易双方按照公告约定和交易结果签订债权交易合同。'), Document(metadata={'infosource': '信息来源：国家', 'time': '发布时间：2020-11-18', 'title': '协议出让国有土地使用权规范（试行）'}, page_content='（二）公示期满，无异议或虽有异议但经甲方审查没有发现存在违反法律法规行为的，双方将按本意向书约定签订《国有土地使用权出让合同》。第八条 符合本意向书第七条第二项规定条件的，双方同意于＿年＿月＿日在＿＿＿签订《国有土地使用权出让合同》。第九条 未尽事宜，可由双方约定后作为附件，与本意向书具有同等法律效力。出让人（甲方）：拟受让人（乙方）：地址：地址：法定代表人（委托代理人）（签字）：法定代表人（委托代理人）（签字）：电话：电话：邮政编码：邮政编码：＿年＿月＿日附录B划拨土地使用权准予转让通知书示范文本格式划拨土地使用权准予转让通知书＿＿＿（申请人名称）：根据你方申请，报经＿＿市（县）人民政府批准，准予你方目前所使用的位于＿＿＿的国有划拨土地使用权转让。该宗地面积为＿＿，用途为＿＿＿，宗地号为＿＿＿。请持本通知书，按规定将该宗地使用权在土地有形市场等场所公开交易，确定受让人和成交价款，并签订转让合同。你方与受让人达成交易后10日内，双方应持转让合同、原《国有土地使用证》、《划拨土地使用权准予转让通知书》、转让方和受让方的身份证明材料等，向我局申请办理土地出让手续，并由受让人与我局签订《国有土地使用权出让合同》，缴纳土地使用权出让金，土地出让金不得低于每平方米＿（大写）元（￥＿）。本通知书有效期为＿＿（最长不得超过6个月）。＿＿＿＿国土资源局（盖章）＿年＿月＿日'), Document(metadata={'infosource': '信息来源：国家', 'time': '发布时间：2020-11-05', 'title': '【技术交易】上海技术交易所竞价交易（拍卖）实施办法（草拟）'}, page_content='转让方及其经纪会员、拍卖机构应当在实施拍卖前，对拍卖标的进行展示或组织意向受让方勘察，并配合意向受让方查询相关情况。第十一条 意向受让方应当在技术转让公告和拍卖公告规定的期限内，与其受托经纪会员共同到主持拍卖的拍卖机构办理竞买登记手续，并通过其受托经纪会员向上海技术交易所提出技术受让申请。第十二条 意向受让方应当对提交材料的真实性、完整性、有效性负责。受托经纪会员应当对意向受让方的资信能力进行尽职调查，对意向受让方提交材料的真实性、完整性、有效性、合规性进行核实，并出具核实意见。第十三条 主持拍卖的拍卖机构应当在受理竞买登记时向意向受让方说明拍卖实施的规则和要求。主持拍卖的拍卖机构应当在竞买登记截止日后的2个工作日内将竞买登记的有关情况告知上海技术交易所，并将意向受让方登记的相关材料一并转交上海技术交易所。第十四条 上海技术交易所按照资格确认的有关程序确认意向受让方的竞买人资格，并以书面形式将资格确认结果通过经纪会员告知意向受让方、转让方和主持拍卖的拍卖机构。第十五条 约定采用拍卖方式的技术转让项目在信息发布期限内征集到两个及以上符合条件的竞买人的，由拍卖机构主持拍卖。约定采用拍卖方式的技术转让项目在信息发布期限内只征集到一个符合条件的竞买人的，不再举行拍卖，由上海技术交易所按照技术转让公告的约定组织实施交易。约定采用拍卖方式的技术转让项目在信息发布期限内未征集到符合条件的竞买人的，由上海技术交易所按照技术转让公告的约定延长信息发布期限或者终结技术交易。第十六条 竞买人应当在资格确认后的3个工作日内足额交付交易保证金，领取竞买号牌，取得合法竞买资格。交易保证金的交纳数额一般不超过技术转让挂牌价的30％。竞买人未在规定期限内交纳交易保证金的，丧失竞买资格。第十七条 竞买人可以自行参加拍卖，也可以委托代理人参加拍卖。竞买人已经委托经纪会员代理的，应当与经纪会员共同参加拍卖。'), Document(metadata={'infosource': '信息来源：国家', 'time': '发布时间：2020-11-12', 'title': '【产权交易】上海联合产权交易所有限公司产权转让网络竞价实施办法（沪联产交〔2018〕47号）'}, page_content='转让方、竞买人委托受托机构的，受托机构可为委托方提供有关网络竞价的业务咨询、文件制作、程序代理、操作培训等服务，协调处理在网络竞价过程中出现的相关问题。第二章 网络竞价的基本程序第六条 转让方应当在递交信息披露申请时或确定竞买人后的次日起5个工作日内，依据信息披露公告的内容及相关规定，完成《竞价方案》的制作并提交联交所审核。《竞价方案》主要包括确定受让方的方法和标准、拟签订的《产权交易合同》和相关责任声明等。《竞价方案》中的内容应当与信息披露公告所载内容保持一致。《竞价方案》中应当确定竞买人编制《竞买文件》所需要的合理时间。第七条 竞买人应当对《竞价方案》提出的实质性要求和条件作出完全响应。竞买人应当对《竞买文件》所述内容和所附材料的真实性、完整性、有效性负责。第八条 竞买人应当在规定时间内，将《竞买文件》提交联交所并办理竞买手续。竞买人应当提交有效的《竞买文件》方可参加网络竞价，逾期未提交的视为放弃竞买资格。第九条 联交所应当在确定受让方后，向受让方出具《竞价结果通知书》，并通知转让方。《竞价方案》、《竞买文件》、《竞价结果通知书》是产权交易合同的组成部分。转让方与受让方应当在网络竞价结束后，完成《产权交易合同》的签署。第十条 出现下列情形之一的，网络竞价应当终结：（一）《竞买文件》提交时间截止，无竞买人提交《竞买文件》的；（二）提交的《竞买文件》全部为无效的；（三）提交的有效《竞买文件》少于《竞价方案》规定数量的；（四）因不可抗力导致网络竞价无法正常进行的；（五）应价时间截止，所有竞买人均未报价的；（六）其他经联交所确认应当终结的情形。第三章 网络竞价方式第一节 多次报价第十一条 竞买人应当在联交所规定的竞价时间内登录联交所网络竞价系统，在规定的应价时间内进行报价。'), Document(metadata={'infosource': '信息来源：国家', 'time': '发布时间：2020-11-18', 'title': '协议出让国有土地使用权规范（试行）'}, page_content='（国土资源部2006年5月31日以国土资发〔2006〕114号发布，2006年8月1日实施）目次前言1适用范围2引用的标准和文件3依据4总则5供地环节的协议出让6原划拨、承租土地使用权人申请办理协议出让7划拨土地使用权转让中的协议出让8出让土地改变用途等土地使用条件的处理附录A国有土地使用权出让意向书示范文本格式附录B划拨土地使用权准予转让通知书示范文本格式前言为完善国有土地使用权出让制度，规范国有土地使用权协议出让行为，统一程序和标准，加强国有土地资产管理，推进土地市场建设，根据《中华人民共和国土地管理法》、《中华人民共和国城市房地产管理法》、《中华人民共和国城镇国有土地使用权出让和转让暂行条例》、《协议出让国有土地使用权规定》等规定，制定本规范。本规范的附录A、附录B为协议出让活动中所需文本示范格式。本规范由国土资源部提出并归口。本规范起草单位：国土资源部土地利用管理司，国土资源部土地整理中心，辽宁省国土资源厅，黑龙江省国土资源厅，江苏省国土资源厅。本规范主要起草人员：廖永林、冷宏志、岳晓武、雷爱先、高永、谢量雄、吴迪、宋玉波、牟傲风、叶卫东、钟松忆、林立森、申亮、陈梅英、周旭、沈飞、张防。本规范参加起草人员（以姓氏笔画为序）：于世专、马尚、王薇、车长志、邓岳方、叶元蓬、叶东、任钊洪、关文荣、刘显棋、刘祥元、刘瑞平、朱育德、闻洪溪、严政、吴永高、吴海洋、张万中、张英奇、李延荣、李晓娟、李晓斌、束克欣、杨玉芳、杨江正、肖建军、陈永真、陈国庆、林君衡、罗演广、祝军、胡立兵、胡红兵、赵春华、郝吉虎、高志云、徐建设、涂高坤、秦水龙、钱友根、梁红、黄文波、韩建国、韩洪伟、靳薇、潘洪篙、魏成、魏莉华本规范由国土资源部负责解释。1适用范围在中华人民共和国境内以协议方式出让国有土地使用权，适用本规范；以协议方式租赁国有土地使用权、出让国有土地他项权利，参照本规范执行。')]\n"
     ]
    }
   ],
   "source": [
    "# datas = pd.read_csv('实体提取_改进.csv') \n",
    "# datas_ = datas[datas['问题分类'] == '政策内容']\n",
    "# questions = datas_['问题']\n",
    "# labels = datas_['问题分类']\n",
    "# bodys = datas_['提取的实体']\n",
    "# for question, body_ in tqdm(zip(questions, bodys), ncols=len(questions)):\n",
    "question = '意向受让方在登记受让意向时需要满足哪些条件？'\n",
    "response = model.invoke({'query': question})\n",
    "print('问题：', question)\n",
    "print('回答：', response['result'])\n",
    "print('来源文档：', [doc.metadata['title'] for doc in response['source_documents']])\n",
    "print('文档内容', response['source_documents'])\n",
    "# time.sleep(1000)\n",
    "# print('问题：', question)\n",
    "# print('回答：', response['result'])\n",
    "# print('来源文档：', response['source_documents'])"
   ]
  },
  {
   "cell_type": "code",
   "execution_count": null,
   "id": "20252d3f-b442-4c86-9b32-41c4a4a60e8a",
   "metadata": {},
   "outputs": [],
   "source": []
  },
  {
   "cell_type": "code",
   "execution_count": null,
   "id": "29745463-1518-40c4-b8da-274fe5bf6ce3",
   "metadata": {
    "tags": []
   },
   "outputs": [],
   "source": [
    "datas = pd.read_csv('实体提取_改进.csv') \n",
    "datas_ = datas[datas['问题分类'] == '政策内容']\n",
    "questions = datas_['问题']\n",
    "labels = datas_['问题分类']\n",
    "bodys = datas_['提取的实体']\n",
    "# question = '意向受让方,登记受让意向,条件'\n",
    "# 测试用实体来召回文本，并用召回的文本和问题回答\n",
    "for question, body_ in tqdm(zip(questions, bodys), ncols=len(questions)):\n",
    "    # 这里可能要将召回的问答链进行拆分，分两步\n",
    "    question = '开标时，投标文件是如何被处理的？'\n",
    "    # body_ = '上海市规划和自然资源局关于印发《国有建设用地使用权招标拍卖挂牌出让投标竞买外汇保证金账户管理制度》的通知'\n",
    "    # body_ = '投标人,竞买人,违约,保证金,处理'\n",
    "    body_ = '开标，投标文件'\n",
    "    call_data = vectordb.as_retriever(\n",
    "        search_type=\"mmr\", \n",
    "        search_kwargs={\"k\": 20, \"fetch_k\": 40}).get_relevant_documents(body_ )\n",
    "    # print(call_data)\n",
    "    print([doc.metadata['title'] for doc in call_data])\n",
    "    page_contents = ''\n",
    "    for doc in call_data:\n",
    "        page_contents += doc.page_content.strip() + '\\n\\n'\n",
    "\n",
    "    # 提取文本摘要呢？\n",
    "    response = model.run({'context': page_contents, 'question': question})\n",
    "    print('匹配response:', response)\n",
    "    print('++++'*100)\n",
    "    time.sleep(1000)\n",
    "    # print('问题：', question)\n",
    "    # print('回答：', response['result'])\n",
    "    # print('来源文档：', response['source_documents'])"
   ]
  },
  {
   "cell_type": "raw",
   "id": "42db3d3f-9c23-4acc-902d-ba92586ca389",
   "metadata": {},
   "source": [
    "1. 当投标方或竞拍者存在违约行为时，保证金应该怎样处理？\n",
    "\n",
    "2. 如果投标者或竞买者违反了合同条款，保证金会如何处置？\n",
    "\n",
    "3. 在投标者或竞买者违约的情况下，保证金应该如何处理？\n",
    "\n",
    "4. 对于违约的投标方或竞买人，其缴纳的保证金该如何处理？\n",
    "\n",
    "5. 投标人或竞买人若出现违约，保证金应如何进行处理？"
   ]
  },
  {
   "cell_type": "code",
   "execution_count": null,
   "id": "ae7a82a4-8502-464a-b9d9-a47c4f6b2533",
   "metadata": {},
   "outputs": [],
   "source": []
  },
  {
   "cell_type": "code",
   "execution_count": null,
   "id": "15db80da-dfa6-45cf-bed3-ad44872cf80c",
   "metadata": {},
   "outputs": [],
   "source": []
  },
  {
   "cell_type": "code",
   "execution_count": null,
   "id": "1370ae14-a56f-46b4-8850-502a7da74572",
   "metadata": {},
   "outputs": [],
   "source": []
  },
  {
   "cell_type": "code",
   "execution_count": null,
   "id": "03928d99-8b26-4328-8da3-62955f57fed3",
   "metadata": {},
   "outputs": [],
   "source": [
    "'''\n",
    "第一阶段召回改善方式\n",
    "0、扩大召回数目；\n",
    "1、提取问题关键词、实体， 每个实体随意组合以及单个实体进行多次召回；\n",
    "2、对问题进行重新生成多种说法，召回多次；（备选，因为我们在做意图识别时会进行实体提取，如果提取成功率较高的话，这一步就可以省略，没必要生成多个问题）；\n",
    "3、rerank排序召回，考虑第1、2点的多次召回重复较多的文档title作为一个权重排序；\n",
    "'''"
   ]
  },
  {
   "cell_type": "raw",
   "id": "0dad9d66-90e6-4b62-b68e-6d71f62c7c68",
   "metadata": {},
   "source": [
    "验证0、1、2对有些问题的源文档片段还是无法召回\n",
    "继续扩大返回后，出现原文档，但是文档信息多，还是无法正确回复---直接匹配问题，提取中间及靠前的几个文本会出现正确答案\n",
    "提取的实体，有些动词会造成误导致使召回失误，因此需要多次召回，并且召回后进行排序，并剔除重复值\n",
    "存在召回问题的，经过各种措施召回后，可能排序落后，因此最终的排序应该是最前面几个+中间几个+最后几个"
   ]
  },
  {
   "cell_type": "code",
   "execution_count": null,
   "id": "685559af-a93f-41dd-8435-5deb69348507",
   "metadata": {},
   "outputs": [],
   "source": []
  },
  {
   "cell_type": "code",
   "execution_count": null,
   "id": "f70c885d-9104-4295-91c5-bb5819dccc32",
   "metadata": {},
   "outputs": [],
   "source": []
  }
 ],
 "metadata": {
  "kernelspec": {
   "display_name": "Python 3 (ipykernel)",
   "language": "python",
   "name": "python3"
  },
  "language_info": {
   "codemirror_mode": {
    "name": "ipython",
    "version": 3
   },
   "file_extension": ".py",
   "mimetype": "text/x-python",
   "name": "python",
   "nbconvert_exporter": "python",
   "pygments_lexer": "ipython3",
   "version": "3.10.8"
  }
 },
 "nbformat": 4,
 "nbformat_minor": 5
}
