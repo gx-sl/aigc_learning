{
 "cells": [
  {
   "cell_type": "code",
   "execution_count": null,
   "id": "adbcbcc6-bbf8-4529-afe3-8db2f1399b04",
   "metadata": {},
   "outputs": [],
   "source": [
    "from pymilvus.model.hybrid import BGEM3EmbeddingFunction\n",
    "import pandas as pd\n",
    "\n",
    "from pymilvus import connections, utility, FieldSchema, CollectionSchema, DataType, Collection"
   ]
  },
  {
   "cell_type": "code",
   "execution_count": null,
   "id": "da4d268d-cc7d-445d-abb0-73d353028a1c",
   "metadata": {},
   "outputs": [],
   "source": [
    "data_ = pd.read_json(r'autodl-tmp/splits_docs_1000chunks.json')['page_content'].tolist()\n"
   ]
  },
  {
   "cell_type": "code",
   "execution_count": null,
   "id": "583a82cc-ce65-42bc-8b4b-063ac778115b",
   "metadata": {},
   "outputs": [],
   "source": [
    "metadata = pd.read_json(r'autodl-tmp/splits_docs_1000chunks.json')['metadata'].tolist()"
   ]
  },
  {
   "cell_type": "code",
   "execution_count": null,
   "id": "c23bbe59-5d3b-4f8f-9d61-39dd6fd8e9ac",
   "metadata": {},
   "outputs": [],
   "source": [
    "# meta = [data['title'] for data in metadata]\n",
    "metadata[0]"
   ]
  },
  {
   "cell_type": "code",
   "execution_count": null,
   "id": "f2978a8d-d919-4fec-b71f-66664f0aedd5",
   "metadata": {},
   "outputs": [],
   "source": [
    "meta[:5]"
   ]
  },
  {
   "cell_type": "code",
   "execution_count": null,
   "id": "427896d3-3ad7-4c0e-939e-a051d3412639",
   "metadata": {},
   "outputs": [],
   "source": [
    "# 加载BGEM3模型\n",
    "bge_m3_embedding = BGEM3EmbeddingFunction(\n",
    "    model_name=r'autodl-tmp/embedding_model/BAAI/bge-m3',\n",
    "    use_fp16=False,\n",
    "    device='cpu'\n",
    ")\n",
    "bge_m3_embedding"
   ]
  },
  {
   "cell_type": "code",
   "execution_count": null,
   "id": "386be1f8-d7b2-4366-8eb4-ce3587b7a0f9",
   "metadata": {},
   "outputs": [],
   "source": [
    "dense_dim = bge_m3_embedding.dim['dense']\n",
    "dense_dim"
   ]
  },
  {
   "cell_type": "code",
   "execution_count": null,
   "id": "cf3f375e-04eb-4286-b847-a85561615587",
   "metadata": {},
   "outputs": [],
   "source": [
    "# 需要被索引的文本\n",
    "docs_embeddings = bge_m3_embedding(data_)"
   ]
  },
  {
   "cell_type": "code",
   "execution_count": null,
   "id": "abbe551a-7144-40e8-9222-64d80e0410a8",
   "metadata": {},
   "outputs": [],
   "source": [
    "# 通过uri连接milvus数据库\n",
    "connections.connect(uri='vectordb/milvus_mix/milvus_m3_2.db')\n",
    "# 创建新合集并添加数据字段\n",
    "fields = [\n",
    "    # 使用自动生成的id作为主键\n",
    "    FieldSchema(name='pk', dtype=DataType.VARCHAR, is_primary=True, auto_id=True, max_length=10000), # , max_length=100\n",
    "    # 基于语义距离的原始文本检索\n",
    "    FieldSchema(name='text', dtype=DataType.VARCHAR, max_length=8000), #, max_length=512\n",
    "    FieldSchema(name='title', dtype=DataType.VARCHAR, max_length=8000),\n",
    "    FieldSchema(name='time', dtype=DataType.VARCHAR, max_length=8000),\n",
    "    FieldSchema(name='infosource', dtype=DataType.VARCHAR, max_length=8000),\n",
    "    # Milvus现在支持稀疏和密集向量,我们可以将每个向量存储在单独的字段中，以便对两个向量进行混合搜索\n",
    "    FieldSchema(name='sparse_vector', dtype=DataType.SPARSE_FLOAT_VECTOR),\n",
    "    FieldSchema(name='dense_vector', dtype=DataType.FLOAT_VECTOR, dim=dense_dim),\n",
    "    \n",
    "]\n",
    "# 模式,或者叫集合模板\n",
    "schema = CollectionSchema(fields)\n",
    "# 创建集合（如果存在，请删除旧集合）\n",
    "col_name = 'hybrid_demo'\n",
    "if utility.has_collection(col_name):\n",
    "    Collection(col_name).drop()\n",
    "col = Collection(col_name, schema, consistency_level='Strong')\n",
    "\n",
    "# 为了使向量搜索高效，我们需要为向量字段创建索引\n",
    "sparse_index = {'index_type': 'SPARSE_INVERTED_INDEX', 'metric_type':'IP'}\n",
    "col.create_index('sparse_vector', sparse_index)\n",
    "dense_index = {'index_type':'AUTOINDEX', 'metric_type':'IP'}\n",
    "col.create_index('dense_vector', dense_index)\n",
    "col.load()"
   ]
  },
  {
   "cell_type": "code",
   "execution_count": null,
   "id": "5c74407e-564a-40c7-bda0-be93e7570939",
   "metadata": {},
   "outputs": [],
   "source": [
    "# 数据保存到集合中并且是将文档和对应embedding一起保存\n",
    "# 为了提高效率，我们在每个小批量中插入50条记录\n",
    "time = [data['time']for data in metadata]\n",
    "infosource = [data['infosource']for data in metadata]\n",
    "title = [data['title']for data in metadata]\n",
    "for i in range(0, len(data_), 50):\n",
    "    batched_entities = [\n",
    "        data_[i:i+50],\n",
    "        title[i:i+50],\n",
    "        time[i:i+50],\n",
    "        infosource[i:i+50],\n",
    "        docs_embeddings['sparse'][i:i+50],\n",
    "        docs_embeddings['dense'][i:i+50]\n",
    "    ]\n",
    "    col.insert(batched_entities)\n",
    "print('数据插入数量：', col.num_entities)\n"
   ]
  },
  {
   "cell_type": "code",
   "execution_count": null,
   "id": "884a8d01-71ea-4a9c-94fd-3eb616e7f98b",
   "metadata": {},
   "outputs": [],
   "source": [
    "# 输入搜索查询,进行测试\n",
    "query = input('请输入你的问题：')\n",
    "print(query)\n",
    "\n",
    "# 生成问题的嵌入向量\n",
    "query_embeddings = bge_m3_embedding([query])"
   ]
  },
  {
   "cell_type": "code",
   "execution_count": null,
   "id": "5bba68dc-8b65-4766-81aa-77f8a8201421",
   "metadata": {},
   "outputs": [],
   "source": [
    "# 运行搜索\n",
    "from pymilvus import AnnSearchRequest, WeightedRanker\n",
    "\n",
    "def hybrid_search(\n",
    "    col,\n",
    "    query_dense_embedding,\n",
    "    query_sparse_embedding,\n",
    "    sparse_weight=1.0,\n",
    "    dense_weight=1.0,\n",
    "    limit=10\n",
    "):\n",
    "\n",
    "    dense_search_params = {'metric_type': 'IP', 'params': {}}\n",
    "    dense_req = AnnSearchRequest(\n",
    "        [query_dense_embedding], 'dense_vector', dense_search_params, limit=limit\n",
    "    )\n",
    "\n",
    "    sparse_search_params = {'metric_type':'IP', 'params':{}}\n",
    "    sparse_req = AnnSearchRequest(\n",
    "        [query_sparse_embedding], 'sparse_vector', sparse_search_params, limit=limit\n",
    "    )\n",
    "\n",
    "    rerank = WeightedRanker(sparse_weight, dense_weight)\n",
    "    res = col.hybrid_search(\n",
    "        [sparse_req, dense_req], rerank=rerank, limit=limit, output_fields=['text']\n",
    "    )[0]\n",
    "\n",
    "    return [hit.get('text') for hit in res]"
   ]
  },
  {
   "cell_type": "code",
   "execution_count": null,
   "id": "567e9635-1dd4-4acd-b0fb-af3aa4185411",
   "metadata": {},
   "outputs": [],
   "source": [
    "# 定义搜索对象\n",
    "hybrid_results = hybrid_search(\n",
    "    col,\n",
    "    query_embeddings['dense'][0],\n",
    "    query_embeddings['sparse']._getrow(0),\n",
    "    sparse_weight=0.7,\n",
    "    dense_weight=1.0,\n",
    ")"
   ]
  },
  {
   "cell_type": "code",
   "execution_count": null,
   "id": "f1184ff5-bc35-4c33-bef3-c092579fc634",
   "metadata": {},
   "outputs": [],
   "source": [
    "len(hybrid_results), type(hybrid_results), type(hybrid_results[0])"
   ]
  },
  {
   "cell_type": "code",
   "execution_count": null,
   "id": "3f517789-8b78-44c4-a0ea-041168ae723b",
   "metadata": {},
   "outputs": [],
   "source": []
  }
 ],
 "metadata": {
  "kernelspec": {
   "display_name": "Python 3 (ipykernel)",
   "language": "python",
   "name": "python3"
  },
  "language_info": {
   "codemirror_mode": {
    "name": "ipython",
    "version": 3
   },
   "file_extension": ".py",
   "mimetype": "text/x-python",
   "name": "python",
   "nbconvert_exporter": "python",
   "pygments_lexer": "ipython3",
   "version": "3.10.8"
  }
 },
 "nbformat": 4,
 "nbformat_minor": 5
}
